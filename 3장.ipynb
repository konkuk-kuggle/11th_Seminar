{
 "cells": [
  {
   "cell_type": "markdown",
   "metadata": {},
   "source": [
    "# 시리즈 만들기"
   ]
  },
  {
   "cell_type": "code",
   "execution_count": 168,
   "metadata": {},
   "outputs": [
    {
     "name": "stdout",
     "output_type": "stream",
     "text": [
      "0    banana\n",
      "1        42\n",
      "dtype: object\n"
     ]
    }
   ],
   "source": [
    "import pandas as pd\n",
    "s=pd.Series(['banana',42])\n",
    "print(s)"
   ]
  },
  {
   "cell_type": "code",
   "execution_count": 108,
   "metadata": {},
   "outputs": [
    {
     "name": "stdout",
     "output_type": "stream",
     "text": [
      "0         Wes Mckinney\n",
      "1    Creator of Pandas\n",
      "dtype: object\n"
     ]
    }
   ],
   "source": [
    "s=pd.Series(['Wes Mckinney','Creator of Pandas'])\n",
    "print(s)"
   ]
  },
  {
   "cell_type": "code",
   "execution_count": 109,
   "metadata": {},
   "outputs": [
    {
     "name": "stdout",
     "output_type": "stream",
     "text": [
      "Person         Wes Mckinney\n",
      "Who       Creator of Pandas\n",
      "dtype: object\n"
     ]
    }
   ],
   "source": [
    "s=pd.Series(['Wes Mckinney','Creator of Pandas'],index=['Person','Who'])\n",
    "print(s)"
   ]
  },
  {
   "cell_type": "markdown",
   "metadata": {},
   "source": [
    "# 데이터프레임 만들기"
   ]
  },
  {
   "cell_type": "code",
   "execution_count": 172,
   "metadata": {},
   "outputs": [
    {
     "name": "stdout",
     "output_type": "stream",
     "text": [
      "                Name    Occupation        Born        Died  Age\n",
      "0  Rosaline Franklin       Chemist  1920-07-25  1958-04-16   37\n",
      "1     William Gosset  Statistician  1876-06-13  1937-10-16   61\n"
     ]
    }
   ],
   "source": [
    "scientists=pd.DataFrame({\n",
    "    'Name':['Rosaline Franklin','William Gosset'],\n",
    "    'Occupation':['Chemist','Statistician'],\n",
    "    'Born':['1920-07-25','1876-06-13'],\n",
    "    'Died':['1958-04-16','1937-10-16'],\n",
    "    'Age':[37,61]}\n",
    ")\n",
    "print(scientists)"
   ]
  },
  {
   "cell_type": "code",
   "execution_count": 112,
   "metadata": {},
   "outputs": [
    {
     "name": "stdout",
     "output_type": "stream",
     "text": [
      "                     Occupation        Born        Died  Age\n",
      "Rosaline Franklin       Chemist  1920-07-25  1958-04-16   37\n",
      "William Gosset     Statistician  1876-06-13  1937-10-16   61\n"
     ]
    }
   ],
   "source": [
    "scientists=pd.DataFrame(\n",
    "    data={'Occupation':['Chemist','Statistician'],\n",
    "          'Born':['1920-07-25','1876-06-13'],\n",
    "          'Died':['1958-04-16','1937-10-16'],\n",
    "          'Age':[37,61]},\n",
    "    index=['Rosaline Franklin','William Gosset'],\n",
    "    columns=['Occupation','Born','Died','Age']\n",
    ")\n",
    "print(scientists)"
   ]
  },
  {
   "cell_type": "code",
   "execution_count": 170,
   "metadata": {},
   "outputs": [
    {
     "name": "stdout",
     "output_type": "stream",
     "text": [
      "                Name    Occupation        Born        Died  Age\n",
      "0  Rosaline Franklin       Chemist  1920-07-25  1958-04-16   37\n",
      "1     William Gosset  Statistician  1876-06-13  1937-10-16   61\n"
     ]
    }
   ],
   "source": [
    "from collections import OrderedDict\n",
    "\n",
    "scientists=pd.DataFrame(OrderedDict([\n",
    "    ('Name',['Rosaline Franklin','William Gosset']),\n",
    "    ('Occupation',['Chemist','Statistician']),\n",
    "    ('Born',['1920-07-25','1876-06-13']),\n",
    "    ('Died',['1958-04-16','1937-10-16']),\n",
    "    ('Age',[37,61])\n",
    "])\n",
    ")\n",
    "print(scientists)"
   ]
  },
  {
   "cell_type": "markdown",
   "metadata": {},
   "source": [
    "# 데이터프레임에서 시리즈 선택하기"
   ]
  },
  {
   "cell_type": "code",
   "execution_count": 115,
   "metadata": {},
   "outputs": [],
   "source": [
    "scientists=pd.DataFrame(\n",
    "    data={'Occupation':['Chemist','Statistician'],\n",
    "          'Born':['1920-07-25','1876-06-13'],\n",
    "          'Died':['1958-04-16','1937-10-16'],\n",
    "          'Age':[37,61]},\n",
    "    index=['Rosaline Franklin','William Gosset'],\n",
    "    columns=['Occupation','Born','Died','Age']\n",
    ")"
   ]
  },
  {
   "cell_type": "code",
   "execution_count": 116,
   "metadata": {},
   "outputs": [
    {
     "name": "stdout",
     "output_type": "stream",
     "text": [
      "<class 'pandas.core.series.Series'>\n"
     ]
    }
   ],
   "source": [
    "first_row=scientists.loc['William Gosset']\n",
    "print(type(first_row))"
   ]
  },
  {
   "cell_type": "code",
   "execution_count": 117,
   "metadata": {},
   "outputs": [
    {
     "name": "stdout",
     "output_type": "stream",
     "text": [
      "Occupation    Statistician\n",
      "Born            1876-06-13\n",
      "Died            1937-10-16\n",
      "Age                     61\n",
      "Name: William Gosset, dtype: object\n"
     ]
    }
   ],
   "source": [
    "print(first_row)"
   ]
  },
  {
   "cell_type": "markdown",
   "metadata": {},
   "source": [
    "# index, values, keys 사용하기"
   ]
  },
  {
   "cell_type": "code",
   "execution_count": 119,
   "metadata": {},
   "outputs": [
    {
     "name": "stdout",
     "output_type": "stream",
     "text": [
      "Index(['Occupation', 'Born', 'Died', 'Age'], dtype='object')\n"
     ]
    }
   ],
   "source": [
    "print(first_row.index)"
   ]
  },
  {
   "cell_type": "code",
   "execution_count": 120,
   "metadata": {},
   "outputs": [
    {
     "name": "stdout",
     "output_type": "stream",
     "text": [
      "['Statistician' '1876-06-13' '1937-10-16' 61]\n"
     ]
    }
   ],
   "source": [
    "print(first_row.values)"
   ]
  },
  {
   "cell_type": "code",
   "execution_count": 121,
   "metadata": {},
   "outputs": [
    {
     "name": "stdout",
     "output_type": "stream",
     "text": [
      "Index(['Occupation', 'Born', 'Died', 'Age'], dtype='object')\n"
     ]
    }
   ],
   "source": [
    "print(first_row.keys())"
   ]
  },
  {
   "cell_type": "code",
   "execution_count": 122,
   "metadata": {},
   "outputs": [
    {
     "name": "stdout",
     "output_type": "stream",
     "text": [
      "Occupation\n"
     ]
    }
   ],
   "source": [
    "print(first_row.index[0])"
   ]
  },
  {
   "cell_type": "code",
   "execution_count": 123,
   "metadata": {},
   "outputs": [
    {
     "name": "stdout",
     "output_type": "stream",
     "text": [
      "Occupation\n"
     ]
    }
   ],
   "source": [
    "print(first_row.keys()[0])"
   ]
  },
  {
   "cell_type": "markdown",
   "metadata": {},
   "source": [
    "# 시리즈의 mean, min, max, std 메서드 사용하기"
   ]
  },
  {
   "cell_type": "code",
   "execution_count": 125,
   "metadata": {},
   "outputs": [
    {
     "name": "stdout",
     "output_type": "stream",
     "text": [
      "Rosaline Franklin    37\n",
      "William Gosset       61\n",
      "Name: Age, dtype: int64\n"
     ]
    }
   ],
   "source": [
    "ages=scientists['Age']\n",
    "print(ages)"
   ]
  },
  {
   "cell_type": "code",
   "execution_count": 126,
   "metadata": {},
   "outputs": [
    {
     "name": "stdout",
     "output_type": "stream",
     "text": [
      "49.0\n"
     ]
    }
   ],
   "source": [
    "print(ages.mean())"
   ]
  },
  {
   "cell_type": "code",
   "execution_count": 127,
   "metadata": {},
   "outputs": [
    {
     "name": "stdout",
     "output_type": "stream",
     "text": [
      "37\n"
     ]
    }
   ],
   "source": [
    "print(ages.min())"
   ]
  },
  {
   "cell_type": "code",
   "execution_count": 128,
   "metadata": {},
   "outputs": [
    {
     "name": "stdout",
     "output_type": "stream",
     "text": [
      "61\n"
     ]
    }
   ],
   "source": [
    "print(ages.max())"
   ]
  },
  {
   "cell_type": "code",
   "execution_count": 129,
   "metadata": {},
   "outputs": [
    {
     "name": "stdout",
     "output_type": "stream",
     "text": [
      "16.97056274847714\n"
     ]
    }
   ],
   "source": [
    "print(ages.std())"
   ]
  },
  {
   "cell_type": "markdown",
   "metadata": {},
   "source": [
    "# 시리즈와 불린 추출 사용하기"
   ]
  },
  {
   "cell_type": "code",
   "execution_count": 174,
   "metadata": {},
   "outputs": [],
   "source": [
    "scientists=pd.read_csv('../data/scientists.csv')"
   ]
  },
  {
   "cell_type": "code",
   "execution_count": 132,
   "metadata": {},
   "outputs": [
    {
     "name": "stdout",
     "output_type": "stream",
     "text": [
      "90\n",
      "59.125\n"
     ]
    }
   ],
   "source": [
    "ages=scientists['Age']\n",
    "print(ages.max())\n",
    "print(ages.mean())"
   ]
  },
  {
   "cell_type": "code",
   "execution_count": 133,
   "metadata": {},
   "outputs": [
    {
     "name": "stdout",
     "output_type": "stream",
     "text": [
      "1    61\n",
      "2    90\n",
      "3    66\n",
      "7    77\n",
      "Name: Age, dtype: int64\n"
     ]
    }
   ],
   "source": [
    "print(ages[ages>ages.mean()])"
   ]
  },
  {
   "cell_type": "code",
   "execution_count": 134,
   "metadata": {},
   "outputs": [
    {
     "name": "stdout",
     "output_type": "stream",
     "text": [
      "0    False\n",
      "1     True\n",
      "2     True\n",
      "3     True\n",
      "4    False\n",
      "5    False\n",
      "6    False\n",
      "7     True\n",
      "Name: Age, dtype: bool\n"
     ]
    }
   ],
   "source": [
    "print(ages>ages.mean())"
   ]
  },
  {
   "cell_type": "code",
   "execution_count": 135,
   "metadata": {},
   "outputs": [
    {
     "name": "stdout",
     "output_type": "stream",
     "text": [
      "<class 'pandas.core.series.Series'>\n"
     ]
    }
   ],
   "source": [
    "print(type(ages>ages.mean()))"
   ]
  },
  {
   "cell_type": "code",
   "execution_count": 136,
   "metadata": {},
   "outputs": [
    {
     "name": "stdout",
     "output_type": "stream",
     "text": [
      "0    37\n",
      "1    61\n",
      "4    56\n",
      "5    45\n",
      "7    77\n",
      "Name: Age, dtype: int64\n"
     ]
    }
   ],
   "source": [
    "manual_bool_values=[True,True,False,False,True,True,False,True]\n",
    "print(ages[manual_bool_values])"
   ]
  },
  {
   "cell_type": "markdown",
   "metadata": {},
   "source": [
    "# 시리즈와 브로드캐스팅"
   ]
  },
  {
   "cell_type": "code",
   "execution_count": 138,
   "metadata": {},
   "outputs": [
    {
     "name": "stdout",
     "output_type": "stream",
     "text": [
      "0     74\n",
      "1    122\n",
      "2    180\n",
      "3    132\n",
      "4    112\n",
      "5     90\n",
      "6     82\n",
      "7    154\n",
      "Name: Age, dtype: int64\n"
     ]
    }
   ],
   "source": [
    "print(ages+ages)"
   ]
  },
  {
   "cell_type": "code",
   "execution_count": 139,
   "metadata": {},
   "outputs": [
    {
     "name": "stdout",
     "output_type": "stream",
     "text": [
      "0    1369\n",
      "1    3721\n",
      "2    8100\n",
      "3    4356\n",
      "4    3136\n",
      "5    2025\n",
      "6    1681\n",
      "7    5929\n",
      "Name: Age, dtype: int64\n"
     ]
    }
   ],
   "source": [
    "print(ages*ages)"
   ]
  },
  {
   "cell_type": "code",
   "execution_count": 140,
   "metadata": {},
   "outputs": [
    {
     "name": "stdout",
     "output_type": "stream",
     "text": [
      "0    137\n",
      "1    161\n",
      "2    190\n",
      "3    166\n",
      "4    156\n",
      "5    145\n",
      "6    141\n",
      "7    177\n",
      "Name: Age, dtype: int64\n"
     ]
    }
   ],
   "source": [
    "print(ages+100)"
   ]
  },
  {
   "cell_type": "code",
   "execution_count": 141,
   "metadata": {},
   "outputs": [
    {
     "name": "stdout",
     "output_type": "stream",
     "text": [
      "0     74\n",
      "1    122\n",
      "2    180\n",
      "3    132\n",
      "4    112\n",
      "5     90\n",
      "6     82\n",
      "7    154\n",
      "Name: Age, dtype: int64\n"
     ]
    }
   ],
   "source": [
    "print(ages*2)"
   ]
  },
  {
   "cell_type": "code",
   "execution_count": 142,
   "metadata": {},
   "outputs": [
    {
     "name": "stdout",
     "output_type": "stream",
     "text": [
      "0      1\n",
      "1    100\n",
      "dtype: int64\n"
     ]
    }
   ],
   "source": [
    "print(pd.Series([1,100]))"
   ]
  },
  {
   "cell_type": "code",
   "execution_count": 143,
   "metadata": {},
   "outputs": [
    {
     "name": "stdout",
     "output_type": "stream",
     "text": [
      "0     38.0\n",
      "1    161.0\n",
      "2      NaN\n",
      "3      NaN\n",
      "4      NaN\n",
      "5      NaN\n",
      "6      NaN\n",
      "7      NaN\n",
      "dtype: float64\n"
     ]
    }
   ],
   "source": [
    "print(ages+pd.Series([1,100]))"
   ]
  },
  {
   "cell_type": "code",
   "execution_count": 144,
   "metadata": {},
   "outputs": [
    {
     "name": "stdout",
     "output_type": "stream",
     "text": [
      "7    77\n",
      "6    41\n",
      "5    45\n",
      "4    56\n",
      "3    66\n",
      "2    90\n",
      "1    61\n",
      "0    37\n",
      "Name: Age, dtype: int64\n"
     ]
    }
   ],
   "source": [
    "rev_ages=ages.sort_index(ascending=False)\n",
    "print(rev_ages)"
   ]
  },
  {
   "cell_type": "code",
   "execution_count": 145,
   "metadata": {},
   "outputs": [
    {
     "name": "stdout",
     "output_type": "stream",
     "text": [
      "0     74\n",
      "1    122\n",
      "2    180\n",
      "3    132\n",
      "4    112\n",
      "5     90\n",
      "6     82\n",
      "7    154\n",
      "Name: Age, dtype: int64\n"
     ]
    }
   ],
   "source": [
    "print(ages*2)"
   ]
  },
  {
   "cell_type": "code",
   "execution_count": 146,
   "metadata": {},
   "outputs": [
    {
     "name": "stdout",
     "output_type": "stream",
     "text": [
      "0     74\n",
      "1    122\n",
      "2    180\n",
      "3    132\n",
      "4    112\n",
      "5     90\n",
      "6     82\n",
      "7    154\n",
      "Name: Age, dtype: int64\n"
     ]
    }
   ],
   "source": [
    "print(ages+rev_ages)"
   ]
  },
  {
   "cell_type": "markdown",
   "metadata": {},
   "source": [
    "# 데이터프레임과 불린 추출"
   ]
  },
  {
   "cell_type": "code",
   "execution_count": 152,
   "metadata": {},
   "outputs": [
    {
     "name": "stdout",
     "output_type": "stream",
     "text": [
      "                   Name        Born        Died  Age     Occupation\n",
      "1        William Gosset  1876-06-13  1937-10-16   61   Statistician\n",
      "2  Florence Nightingale  1820-05-12  1910-08-13   90          Nurse\n",
      "3           Marie Curie  1867-11-07  1934-07-04   66        Chemist\n",
      "7          Johann Gauss  1777-04-30  1855-02-23   77  Mathematician\n"
     ]
    }
   ],
   "source": [
    "print(scientists[scientists['Age']>scientists['Age'].mean()])"
   ]
  },
  {
   "cell_type": "code",
   "execution_count": 176,
   "metadata": {
    "scrolled": true
   },
   "outputs": [
    {
     "ename": "IndexError",
     "evalue": "Boolean index has wrong length: 4 instead of 8",
     "output_type": "error",
     "traceback": [
      "\u001b[1;31m---------------------------------------------------------------------------\u001b[0m",
      "\u001b[1;31mIndexError\u001b[0m                                Traceback (most recent call last)",
      "Cell \u001b[1;32mIn[176], line 1\u001b[0m\n\u001b[1;32m----> 1\u001b[0m \u001b[38;5;28mprint\u001b[39m(scientists\u001b[38;5;241m.\u001b[39mloc[[\u001b[38;5;28;01mTrue\u001b[39;00m,\u001b[38;5;28;01mTrue\u001b[39;00m,\u001b[38;5;28;01mFalse\u001b[39;00m,\u001b[38;5;28;01mTrue\u001b[39;00m]])\n",
      "File \u001b[1;32m~\\anaconda3\\Lib\\site-packages\\pandas\\core\\indexing.py:1191\u001b[0m, in \u001b[0;36m_LocationIndexer.__getitem__\u001b[1;34m(self, key)\u001b[0m\n\u001b[0;32m   1189\u001b[0m maybe_callable \u001b[38;5;241m=\u001b[39m com\u001b[38;5;241m.\u001b[39mapply_if_callable(key, \u001b[38;5;28mself\u001b[39m\u001b[38;5;241m.\u001b[39mobj)\n\u001b[0;32m   1190\u001b[0m maybe_callable \u001b[38;5;241m=\u001b[39m \u001b[38;5;28mself\u001b[39m\u001b[38;5;241m.\u001b[39m_check_deprecated_callable_usage(key, maybe_callable)\n\u001b[1;32m-> 1191\u001b[0m \u001b[38;5;28;01mreturn\u001b[39;00m \u001b[38;5;28mself\u001b[39m\u001b[38;5;241m.\u001b[39m_getitem_axis(maybe_callable, axis\u001b[38;5;241m=\u001b[39maxis)\n",
      "File \u001b[1;32m~\\anaconda3\\Lib\\site-packages\\pandas\\core\\indexing.py:1413\u001b[0m, in \u001b[0;36m_LocIndexer._getitem_axis\u001b[1;34m(self, key, axis)\u001b[0m\n\u001b[0;32m   1411\u001b[0m     \u001b[38;5;28;01mreturn\u001b[39;00m \u001b[38;5;28mself\u001b[39m\u001b[38;5;241m.\u001b[39m_get_slice_axis(key, axis\u001b[38;5;241m=\u001b[39maxis)\n\u001b[0;32m   1412\u001b[0m \u001b[38;5;28;01melif\u001b[39;00m com\u001b[38;5;241m.\u001b[39mis_bool_indexer(key):\n\u001b[1;32m-> 1413\u001b[0m     \u001b[38;5;28;01mreturn\u001b[39;00m \u001b[38;5;28mself\u001b[39m\u001b[38;5;241m.\u001b[39m_getbool_axis(key, axis\u001b[38;5;241m=\u001b[39maxis)\n\u001b[0;32m   1414\u001b[0m \u001b[38;5;28;01melif\u001b[39;00m is_list_like_indexer(key):\n\u001b[0;32m   1415\u001b[0m     \u001b[38;5;66;03m# an iterable multi-selection\u001b[39;00m\n\u001b[0;32m   1416\u001b[0m     \u001b[38;5;28;01mif\u001b[39;00m \u001b[38;5;129;01mnot\u001b[39;00m (\u001b[38;5;28misinstance\u001b[39m(key, \u001b[38;5;28mtuple\u001b[39m) \u001b[38;5;129;01mand\u001b[39;00m \u001b[38;5;28misinstance\u001b[39m(labels, MultiIndex)):\n",
      "File \u001b[1;32m~\\anaconda3\\Lib\\site-packages\\pandas\\core\\indexing.py:1209\u001b[0m, in \u001b[0;36m_LocationIndexer._getbool_axis\u001b[1;34m(self, key, axis)\u001b[0m\n\u001b[0;32m   1205\u001b[0m \u001b[38;5;129m@final\u001b[39m\n\u001b[0;32m   1206\u001b[0m \u001b[38;5;28;01mdef\u001b[39;00m \u001b[38;5;21m_getbool_axis\u001b[39m(\u001b[38;5;28mself\u001b[39m, key, axis: AxisInt):\n\u001b[0;32m   1207\u001b[0m     \u001b[38;5;66;03m# caller is responsible for ensuring non-None axis\u001b[39;00m\n\u001b[0;32m   1208\u001b[0m     labels \u001b[38;5;241m=\u001b[39m \u001b[38;5;28mself\u001b[39m\u001b[38;5;241m.\u001b[39mobj\u001b[38;5;241m.\u001b[39m_get_axis(axis)\n\u001b[1;32m-> 1209\u001b[0m     key \u001b[38;5;241m=\u001b[39m check_bool_indexer(labels, key)\n\u001b[0;32m   1210\u001b[0m     inds \u001b[38;5;241m=\u001b[39m key\u001b[38;5;241m.\u001b[39mnonzero()[\u001b[38;5;241m0\u001b[39m]\n\u001b[0;32m   1211\u001b[0m     \u001b[38;5;28;01mreturn\u001b[39;00m \u001b[38;5;28mself\u001b[39m\u001b[38;5;241m.\u001b[39mobj\u001b[38;5;241m.\u001b[39m_take_with_is_copy(inds, axis\u001b[38;5;241m=\u001b[39maxis)\n",
      "File \u001b[1;32m~\\anaconda3\\Lib\\site-packages\\pandas\\core\\indexing.py:2681\u001b[0m, in \u001b[0;36mcheck_bool_indexer\u001b[1;34m(index, key)\u001b[0m\n\u001b[0;32m   2677\u001b[0m \u001b[38;5;28;01melif\u001b[39;00m \u001b[38;5;129;01mnot\u001b[39;00m is_array_like(result):\n\u001b[0;32m   2678\u001b[0m     \u001b[38;5;66;03m# GH 33924\u001b[39;00m\n\u001b[0;32m   2679\u001b[0m     \u001b[38;5;66;03m# key may contain nan elements, check_array_indexer needs bool array\u001b[39;00m\n\u001b[0;32m   2680\u001b[0m     result \u001b[38;5;241m=\u001b[39m pd_array(result, dtype\u001b[38;5;241m=\u001b[39m\u001b[38;5;28mbool\u001b[39m)\n\u001b[1;32m-> 2681\u001b[0m \u001b[38;5;28;01mreturn\u001b[39;00m check_array_indexer(index, result)\n",
      "File \u001b[1;32m~\\anaconda3\\Lib\\site-packages\\pandas\\core\\indexers\\utils.py:539\u001b[0m, in \u001b[0;36mcheck_array_indexer\u001b[1;34m(array, indexer)\u001b[0m\n\u001b[0;32m    537\u001b[0m     \u001b[38;5;66;03m# GH26658\u001b[39;00m\n\u001b[0;32m    538\u001b[0m     \u001b[38;5;28;01mif\u001b[39;00m \u001b[38;5;28mlen\u001b[39m(indexer) \u001b[38;5;241m!=\u001b[39m \u001b[38;5;28mlen\u001b[39m(array):\n\u001b[1;32m--> 539\u001b[0m         \u001b[38;5;28;01mraise\u001b[39;00m \u001b[38;5;167;01mIndexError\u001b[39;00m(\n\u001b[0;32m    540\u001b[0m             \u001b[38;5;124mf\u001b[39m\u001b[38;5;124m\"\u001b[39m\u001b[38;5;124mBoolean index has wrong length: \u001b[39m\u001b[38;5;124m\"\u001b[39m\n\u001b[0;32m    541\u001b[0m             \u001b[38;5;124mf\u001b[39m\u001b[38;5;124m\"\u001b[39m\u001b[38;5;132;01m{\u001b[39;00m\u001b[38;5;28mlen\u001b[39m(indexer)\u001b[38;5;132;01m}\u001b[39;00m\u001b[38;5;124m instead of \u001b[39m\u001b[38;5;132;01m{\u001b[39;00m\u001b[38;5;28mlen\u001b[39m(array)\u001b[38;5;132;01m}\u001b[39;00m\u001b[38;5;124m\"\u001b[39m\n\u001b[0;32m    542\u001b[0m         )\n\u001b[0;32m    543\u001b[0m \u001b[38;5;28;01melif\u001b[39;00m is_integer_dtype(dtype):\n\u001b[0;32m    544\u001b[0m     \u001b[38;5;28;01mtry\u001b[39;00m:\n",
      "\u001b[1;31mIndexError\u001b[0m: Boolean index has wrong length: 4 instead of 8"
     ]
    }
   ],
   "source": [
    "print(scientists.loc[[True,True,False,True]])"
   ]
  },
  {
   "cell_type": "markdown",
   "metadata": {},
   "source": [
    "# 데이터프레임과 브로드캐스팅"
   ]
  },
  {
   "cell_type": "code",
   "execution_count": 156,
   "metadata": {},
   "outputs": [
    {
     "name": "stdout",
     "output_type": "stream",
     "text": [
      "                                       Name                  Born  \\\n",
      "0        Rosaline FranklinRosaline Franklin  1920-07-251920-07-25   \n",
      "1              William GossetWilliam Gosset  1876-06-131876-06-13   \n",
      "2  Florence NightingaleFlorence Nightingale  1820-05-121820-05-12   \n",
      "3                    Marie CurieMarie Curie  1867-11-071867-11-07   \n",
      "4                Rachel CarsonRachel Carson  1907-05-271907-05-27   \n",
      "5                        John SnowJohn Snow  1813-03-151813-03-15   \n",
      "6                    Alan TuringAlan Turing  1912-06-231912-06-23   \n",
      "7                  Johann GaussJohann Gauss  1777-04-301777-04-30   \n",
      "\n",
      "                   Died  Age                            Occupation  \n",
      "0  1958-04-161958-04-16   74                        ChemistChemist  \n",
      "1  1937-10-161937-10-16  122              StatisticianStatistician  \n",
      "2  1910-08-131910-08-13  180                            NurseNurse  \n",
      "3  1934-07-041934-07-04  132                        ChemistChemist  \n",
      "4  1964-04-141964-04-14  112                    BiologistBiologist  \n",
      "5  1858-06-161858-06-16   90                    PhysicianPhysician  \n",
      "6  1954-06-071954-06-07   82  Computer ScientistComputer Scientist  \n",
      "7  1855-02-231855-02-23  154            MathematicianMathematician  \n"
     ]
    }
   ],
   "source": [
    "print(scientists*2)"
   ]
  },
  {
   "cell_type": "markdown",
   "metadata": {},
   "source": [
    "# 열의 자료형 바꾸기와 새로운 열 추가하기"
   ]
  },
  {
   "cell_type": "code",
   "execution_count": 160,
   "metadata": {},
   "outputs": [
    {
     "name": "stdout",
     "output_type": "stream",
     "text": [
      "object\n",
      "object\n"
     ]
    }
   ],
   "source": [
    "print(scientists['Born'].dtype)\n",
    "print(scientists['Died'].dtype)"
   ]
  },
  {
   "cell_type": "code",
   "execution_count": 184,
   "metadata": {},
   "outputs": [
    {
     "name": "stdout",
     "output_type": "stream",
     "text": [
      "0   1920-07-25\n",
      "1   1876-06-13\n",
      "2   1820-05-12\n",
      "3   1867-11-07\n",
      "4   1907-05-27\n",
      "5   1813-03-15\n",
      "6   1912-06-23\n",
      "7   1777-04-30\n",
      "Name: Born, dtype: datetime64[ns]\n"
     ]
    }
   ],
   "source": [
    "born_datetime=pd.to_datetime(scientists['Born'],format='%Y-%m-%d')\n",
    "print(born_datetime)"
   ]
  },
  {
   "cell_type": "code",
   "execution_count": 186,
   "metadata": {},
   "outputs": [
    {
     "name": "stdout",
     "output_type": "stream",
     "text": [
      "0   1958-04-16\n",
      "1   1937-10-16\n",
      "2   1910-08-13\n",
      "3   1934-07-04\n",
      "4   1964-04-14\n",
      "5   1858-06-16\n",
      "6   1954-06-07\n",
      "7   1855-02-23\n",
      "Name: Died, dtype: datetime64[ns]\n"
     ]
    }
   ],
   "source": [
    "died_datetime=pd.to_datetime(scientists['Died'],format='%Y-%m-%d')\n",
    "print(died_datetime)"
   ]
  },
  {
   "cell_type": "code",
   "execution_count": 190,
   "metadata": {},
   "outputs": [
    {
     "name": "stdout",
     "output_type": "stream",
     "text": [
      "                   Name        Born        Died  Age    Occupation    born_dt  \\\n",
      "0     Rosaline Franklin  1920-07-25  1958-04-16   37       Chemist 1920-07-25   \n",
      "1        William Gosset  1876-06-13  1937-10-16   61  Statistician 1876-06-13   \n",
      "2  Florence Nightingale  1820-05-12  1910-08-13   90         Nurse 1820-05-12   \n",
      "3           Marie Curie  1867-11-07  1934-07-04   66       Chemist 1867-11-07   \n",
      "4         Rachel Carson  1907-05-27  1964-04-14   56     Biologist 1907-05-27   \n",
      "\n",
      "     died_dt  \n",
      "0 1958-04-16  \n",
      "1 1937-10-16  \n",
      "2 1910-08-13  \n",
      "3 1934-07-04  \n",
      "4 1964-04-14  \n"
     ]
    }
   ],
   "source": [
    "scientists['born_dt'],scientists['died_dt']=(born_datetime,died_datetime)\n",
    "print(scientists.head())"
   ]
  },
  {
   "cell_type": "code",
   "execution_count": 192,
   "metadata": {},
   "outputs": [
    {
     "name": "stdout",
     "output_type": "stream",
     "text": [
      "(8, 7)\n"
     ]
    }
   ],
   "source": [
    "print(scientists.shape)"
   ]
  },
  {
   "cell_type": "code",
   "execution_count": 194,
   "metadata": {},
   "outputs": [
    {
     "name": "stdout",
     "output_type": "stream",
     "text": [
      "                   Name        Born        Died  Age          Occupation  \\\n",
      "0     Rosaline Franklin  1920-07-25  1958-04-16   37             Chemist   \n",
      "1        William Gosset  1876-06-13  1937-10-16   61        Statistician   \n",
      "2  Florence Nightingale  1820-05-12  1910-08-13   90               Nurse   \n",
      "3           Marie Curie  1867-11-07  1934-07-04   66             Chemist   \n",
      "4         Rachel Carson  1907-05-27  1964-04-14   56           Biologist   \n",
      "5             John Snow  1813-03-15  1858-06-16   45           Physician   \n",
      "6           Alan Turing  1912-06-23  1954-06-07   41  Computer Scientist   \n",
      "7          Johann Gauss  1777-04-30  1855-02-23   77       Mathematician   \n",
      "\n",
      "     born_dt    died_dt ages_days_dt  \n",
      "0 1920-07-25 1958-04-16   13779 days  \n",
      "1 1876-06-13 1937-10-16   22404 days  \n",
      "2 1820-05-12 1910-08-13   32964 days  \n",
      "3 1867-11-07 1934-07-04   24345 days  \n",
      "4 1907-05-27 1964-04-14   20777 days  \n",
      "5 1813-03-15 1858-06-16   16529 days  \n",
      "6 1912-06-23 1954-06-07   15324 days  \n",
      "7 1777-04-30 1855-02-23   28422 days  \n"
     ]
    }
   ],
   "source": [
    "scientists['ages_days_dt']=(scientists['died_dt']-scientists['born_dt'])\n",
    "print(scientists)"
   ]
  },
  {
   "cell_type": "markdown",
   "metadata": {},
   "source": [
    "# 시리즈, 데이터프레임의 데이터 섞어보기"
   ]
  },
  {
   "cell_type": "code",
   "execution_count": 198,
   "metadata": {},
   "outputs": [
    {
     "name": "stdout",
     "output_type": "stream",
     "text": [
      "0    37\n",
      "1    61\n",
      "2    90\n",
      "3    66\n",
      "4    56\n",
      "5    45\n",
      "6    41\n",
      "7    77\n",
      "Name: Age, dtype: int64\n"
     ]
    }
   ],
   "source": [
    "print(scientists['Age'])"
   ]
  },
  {
   "cell_type": "code",
   "execution_count": 207,
   "metadata": {
    "scrolled": true
   },
   "outputs": [
    {
     "name": "stdout",
     "output_type": "stream",
     "text": [
      "0    56\n",
      "1    37\n",
      "2    77\n",
      "3    90\n",
      "4    66\n",
      "5    45\n",
      "6    61\n",
      "7    41\n",
      "Name: Age, dtype: int64\n"
     ]
    },
    {
     "name": "stderr",
     "output_type": "stream",
     "text": [
      "C:\\Users\\moong\\anaconda3\\Lib\\random.py:357: SettingWithCopyWarning: \n",
      "A value is trying to be set on a copy of a slice from a DataFrame\n",
      "\n",
      "See the caveats in the documentation: https://pandas.pydata.org/pandas-docs/stable/user_guide/indexing.html#returning-a-view-versus-a-copy\n",
      "  x[i], x[j] = x[j], x[i]\n",
      "C:\\Users\\moong\\anaconda3\\Lib\\random.py:357: SettingWithCopyWarning: \n",
      "A value is trying to be set on a copy of a slice from a DataFrame\n",
      "\n",
      "See the caveats in the documentation: https://pandas.pydata.org/pandas-docs/stable/user_guide/indexing.html#returning-a-view-versus-a-copy\n",
      "  x[i], x[j] = x[j], x[i]\n",
      "C:\\Users\\moong\\anaconda3\\Lib\\random.py:357: SettingWithCopyWarning: \n",
      "A value is trying to be set on a copy of a slice from a DataFrame\n",
      "\n",
      "See the caveats in the documentation: https://pandas.pydata.org/pandas-docs/stable/user_guide/indexing.html#returning-a-view-versus-a-copy\n",
      "  x[i], x[j] = x[j], x[i]\n",
      "C:\\Users\\moong\\anaconda3\\Lib\\random.py:357: SettingWithCopyWarning: \n",
      "A value is trying to be set on a copy of a slice from a DataFrame\n",
      "\n",
      "See the caveats in the documentation: https://pandas.pydata.org/pandas-docs/stable/user_guide/indexing.html#returning-a-view-versus-a-copy\n",
      "  x[i], x[j] = x[j], x[i]\n",
      "C:\\Users\\moong\\anaconda3\\Lib\\random.py:357: SettingWithCopyWarning: \n",
      "A value is trying to be set on a copy of a slice from a DataFrame\n",
      "\n",
      "See the caveats in the documentation: https://pandas.pydata.org/pandas-docs/stable/user_guide/indexing.html#returning-a-view-versus-a-copy\n",
      "  x[i], x[j] = x[j], x[i]\n",
      "C:\\Users\\moong\\anaconda3\\Lib\\random.py:357: SettingWithCopyWarning: \n",
      "A value is trying to be set on a copy of a slice from a DataFrame\n",
      "\n",
      "See the caveats in the documentation: https://pandas.pydata.org/pandas-docs/stable/user_guide/indexing.html#returning-a-view-versus-a-copy\n",
      "  x[i], x[j] = x[j], x[i]\n",
      "C:\\Users\\moong\\anaconda3\\Lib\\random.py:357: SettingWithCopyWarning: \n",
      "A value is trying to be set on a copy of a slice from a DataFrame\n",
      "\n",
      "See the caveats in the documentation: https://pandas.pydata.org/pandas-docs/stable/user_guide/indexing.html#returning-a-view-versus-a-copy\n",
      "  x[i], x[j] = x[j], x[i]\n",
      "C:\\Users\\moong\\anaconda3\\Lib\\random.py:357: SettingWithCopyWarning: \n",
      "A value is trying to be set on a copy of a slice from a DataFrame\n",
      "\n",
      "See the caveats in the documentation: https://pandas.pydata.org/pandas-docs/stable/user_guide/indexing.html#returning-a-view-versus-a-copy\n",
      "  x[i], x[j] = x[j], x[i]\n",
      "C:\\Users\\moong\\anaconda3\\Lib\\random.py:357: SettingWithCopyWarning: \n",
      "A value is trying to be set on a copy of a slice from a DataFrame\n",
      "\n",
      "See the caveats in the documentation: https://pandas.pydata.org/pandas-docs/stable/user_guide/indexing.html#returning-a-view-versus-a-copy\n",
      "  x[i], x[j] = x[j], x[i]\n",
      "C:\\Users\\moong\\anaconda3\\Lib\\random.py:357: SettingWithCopyWarning: \n",
      "A value is trying to be set on a copy of a slice from a DataFrame\n",
      "\n",
      "See the caveats in the documentation: https://pandas.pydata.org/pandas-docs/stable/user_guide/indexing.html#returning-a-view-versus-a-copy\n",
      "  x[i], x[j] = x[j], x[i]\n",
      "C:\\Users\\moong\\anaconda3\\Lib\\random.py:357: SettingWithCopyWarning: \n",
      "A value is trying to be set on a copy of a slice from a DataFrame\n",
      "\n",
      "See the caveats in the documentation: https://pandas.pydata.org/pandas-docs/stable/user_guide/indexing.html#returning-a-view-versus-a-copy\n",
      "  x[i], x[j] = x[j], x[i]\n",
      "C:\\Users\\moong\\anaconda3\\Lib\\random.py:357: SettingWithCopyWarning: \n",
      "A value is trying to be set on a copy of a slice from a DataFrame\n",
      "\n",
      "See the caveats in the documentation: https://pandas.pydata.org/pandas-docs/stable/user_guide/indexing.html#returning-a-view-versus-a-copy\n",
      "  x[i], x[j] = x[j], x[i]\n",
      "C:\\Users\\moong\\anaconda3\\Lib\\random.py:357: SettingWithCopyWarning: \n",
      "A value is trying to be set on a copy of a slice from a DataFrame\n",
      "\n",
      "See the caveats in the documentation: https://pandas.pydata.org/pandas-docs/stable/user_guide/indexing.html#returning-a-view-versus-a-copy\n",
      "  x[i], x[j] = x[j], x[i]\n",
      "C:\\Users\\moong\\anaconda3\\Lib\\random.py:357: SettingWithCopyWarning: \n",
      "A value is trying to be set on a copy of a slice from a DataFrame\n",
      "\n",
      "See the caveats in the documentation: https://pandas.pydata.org/pandas-docs/stable/user_guide/indexing.html#returning-a-view-versus-a-copy\n",
      "  x[i], x[j] = x[j], x[i]\n"
     ]
    }
   ],
   "source": [
    "import random\n",
    "\n",
    "random.seed(42)\n",
    "random.shuffle(scientists['Age'])\n",
    "print(scientists['Age'])"
   ]
  },
  {
   "cell_type": "markdown",
   "metadata": {},
   "source": [
    "# 데이터프레임의 열 삭제하기"
   ]
  },
  {
   "cell_type": "code",
   "execution_count": 209,
   "metadata": {},
   "outputs": [
    {
     "name": "stdout",
     "output_type": "stream",
     "text": [
      "Index(['Name', 'Born', 'Died', 'Age', 'Occupation', 'born_dt', 'died_dt',\n",
      "       'ages_days_dt'],\n",
      "      dtype='object')\n"
     ]
    }
   ],
   "source": [
    "print(scientists.columns)"
   ]
  },
  {
   "cell_type": "code",
   "execution_count": 213,
   "metadata": {},
   "outputs": [
    {
     "name": "stdout",
     "output_type": "stream",
     "text": [
      "                   Name        Born        Died          Occupation  \\\n",
      "0     Rosaline Franklin  1920-07-25  1958-04-16             Chemist   \n",
      "1        William Gosset  1876-06-13  1937-10-16        Statistician   \n",
      "2  Florence Nightingale  1820-05-12  1910-08-13               Nurse   \n",
      "3           Marie Curie  1867-11-07  1934-07-04             Chemist   \n",
      "4         Rachel Carson  1907-05-27  1964-04-14           Biologist   \n",
      "5             John Snow  1813-03-15  1858-06-16           Physician   \n",
      "6           Alan Turing  1912-06-23  1954-06-07  Computer Scientist   \n",
      "7          Johann Gauss  1777-04-30  1855-02-23       Mathematician   \n",
      "\n",
      "     born_dt    died_dt ages_days_dt  \n",
      "0 1920-07-25 1958-04-16   13779 days  \n",
      "1 1876-06-13 1937-10-16   22404 days  \n",
      "2 1820-05-12 1910-08-13   32964 days  \n",
      "3 1867-11-07 1934-07-04   24345 days  \n",
      "4 1907-05-27 1964-04-14   20777 days  \n",
      "5 1813-03-15 1858-06-16   16529 days  \n",
      "6 1912-06-23 1954-06-07   15324 days  \n",
      "7 1777-04-30 1855-02-23   28422 days  \n"
     ]
    }
   ],
   "source": [
    "scientists_dropped=scientists.drop(['Age'],axis=1)\n",
    "print(scientists_dropped)"
   ]
  },
  {
   "cell_type": "markdown",
   "metadata": {},
   "source": [
    "# 피클 형식으로 저장하기"
   ]
  },
  {
   "cell_type": "code",
   "execution_count": 217,
   "metadata": {},
   "outputs": [],
   "source": [
    "names=scientists['Name']\n",
    "names.to_pickle('../output/scientists_names_series.pickle')"
   ]
  },
  {
   "cell_type": "code",
   "execution_count": 219,
   "metadata": {},
   "outputs": [],
   "source": [
    "scientists.to_pickle('../output/scientists_df.pickle')"
   ]
  },
  {
   "cell_type": "code",
   "execution_count": 223,
   "metadata": {},
   "outputs": [
    {
     "name": "stdout",
     "output_type": "stream",
     "text": [
      "0       Rosaline Franklin\n",
      "1          William Gosset\n",
      "2    Florence Nightingale\n",
      "3             Marie Curie\n",
      "4           Rachel Carson\n",
      "5               John Snow\n",
      "6             Alan Turing\n",
      "7            Johann Gauss\n",
      "Name: Name, dtype: object\n"
     ]
    }
   ],
   "source": [
    "scientist_name_from_pickle=pd.read_pickle('../output/scientists_names_series.pickle')\n",
    "print(scientist_name_from_pickle)"
   ]
  },
  {
   "cell_type": "code",
   "execution_count": 225,
   "metadata": {},
   "outputs": [
    {
     "name": "stdout",
     "output_type": "stream",
     "text": [
      "                   Name        Born        Died  Age          Occupation  \\\n",
      "0     Rosaline Franklin  1920-07-25  1958-04-16   56             Chemist   \n",
      "1        William Gosset  1876-06-13  1937-10-16   37        Statistician   \n",
      "2  Florence Nightingale  1820-05-12  1910-08-13   77               Nurse   \n",
      "3           Marie Curie  1867-11-07  1934-07-04   90             Chemist   \n",
      "4         Rachel Carson  1907-05-27  1964-04-14   66           Biologist   \n",
      "5             John Snow  1813-03-15  1858-06-16   45           Physician   \n",
      "6           Alan Turing  1912-06-23  1954-06-07   61  Computer Scientist   \n",
      "7          Johann Gauss  1777-04-30  1855-02-23   41       Mathematician   \n",
      "\n",
      "     born_dt    died_dt ages_days_dt  \n",
      "0 1920-07-25 1958-04-16   13779 days  \n",
      "1 1876-06-13 1937-10-16   22404 days  \n",
      "2 1820-05-12 1910-08-13   32964 days  \n",
      "3 1867-11-07 1934-07-04   24345 days  \n",
      "4 1907-05-27 1964-04-14   20777 days  \n",
      "5 1813-03-15 1858-06-16   16529 days  \n",
      "6 1912-06-23 1954-06-07   15324 days  \n",
      "7 1777-04-30 1855-02-23   28422 days  \n"
     ]
    }
   ],
   "source": [
    "scientist_from_pickle=pd.read_pickle('../output/scientists_df.pickle')\n",
    "print(scientist_from_pickle)"
   ]
  },
  {
   "cell_type": "markdown",
   "metadata": {},
   "source": [
    "# CSV 불러오기"
   ]
  },
  {
   "cell_type": "code",
   "execution_count": 227,
   "metadata": {},
   "outputs": [],
   "source": [
    "names.to_csv('../output/scientist_names_series.csv')\n",
    "scientists.to_csv('../output/scientists_df.tsv',sep='\\t')"
   ]
  }
 ],
 "metadata": {
  "kernelspec": {
   "display_name": "Python 3 (ipykernel)",
   "language": "python",
   "name": "python3"
  },
  "language_info": {
   "codemirror_mode": {
    "name": "ipython",
    "version": 3
   },
   "file_extension": ".py",
   "mimetype": "text/x-python",
   "name": "python",
   "nbconvert_exporter": "python",
   "pygments_lexer": "ipython3",
   "version": "3.12.4"
  }
 },
 "nbformat": 4,
 "nbformat_minor": 4
}
