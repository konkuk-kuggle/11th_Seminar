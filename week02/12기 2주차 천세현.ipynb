{
 "cells": [
  {
   "cell_type": "code",
   "execution_count": null,
   "id": "9c838714-cc1a-4c21-80d8-64ad0aa55198",
   "metadata": {},
   "outputs": [],
   "source": [
    "#04 그래프 그리기"
   ]
  },
  {
   "cell_type": "code",
   "execution_count": null,
   "id": "e383fc85-d8de-43c1-9995-3ca56681f282",
   "metadata": {},
   "outputs": [],
   "source": [
    "pip install ipython"
   ]
  },
  {
   "cell_type": "code",
   "execution_count": null,
   "id": "21a47776-b01c-47f8-b66b-a11eaf37c9a8",
   "metadata": {},
   "outputs": [],
   "source": [
    "import IPython\n",
    "from IPython import display\n",
    "import matplotlib.pyplot as plt\n",
    "%matplotlib inline"
   ]
  },
  {
   "cell_type": "code",
   "execution_count": null,
   "id": "eb0a2b10-3828-4fc2-9ba3-c68f9636589c",
   "metadata": {},
   "outputs": [],
   "source": [
    "import seaborn as sns"
   ]
  },
  {
   "cell_type": "code",
   "execution_count": null,
   "id": "63254aef-4199-42dd-8524-18f1f4b0577e",
   "metadata": {},
   "outputs": [],
   "source": [
    "pip install matplotlib"
   ]
  },
  {
   "cell_type": "code",
   "execution_count": null,
   "id": "5d6cbfd8-c48c-4e75-b2fd-2faf3a231a24",
   "metadata": {},
   "outputs": [],
   "source": [
    "anscombe = sns.load_dataset(\"anscombe\")\n",
    "print(anscombe.head())\n",
    "print(type(anscombe))"
   ]
  },
  {
   "cell_type": "code",
   "execution_count": null,
   "id": "644edaaf-e290-48b5-a725-905ee5195e77",
   "metadata": {},
   "outputs": [],
   "source": [
    "%matplotlib notebook\n",
    "import IPython\n",
    "import matplotlib.pyplot as plt"
   ]
  },
  {
   "cell_type": "code",
   "execution_count": null,
   "id": "02d0131f-ddf6-45e1-93fd-0c86af294093",
   "metadata": {},
   "outputs": [],
   "source": [
    "dataset_1 = anscombe[anscombe['dataset']=='I']"
   ]
  },
  {
   "cell_type": "code",
   "execution_count": null,
   "id": "c03a4d96-9c1a-49ad-88ca-db933a14b033",
   "metadata": {},
   "outputs": [],
   "source": [
    "plt.plot(dataset_1['x'], dataset_1['y'], 'o')"
   ]
  },
  {
   "cell_type": "code",
   "execution_count": null,
   "id": "44a0fe97-72aa-4fed-8512-ae15c1360c61",
   "metadata": {},
   "outputs": [],
   "source": [
    "dataset_2 = anscombe[anscombe['dataset']=='II']\n",
    "dataset_3 = anscombe[anscombe['dataset']=='III']\n",
    "dataset_4 = anscombe[anscombe['dataset']=='IV']"
   ]
  },
  {
   "cell_type": "code",
   "execution_count": null,
   "id": "070e5731-cf0c-4583-ad83-d3014fc3247b",
   "metadata": {},
   "outputs": [],
   "source": [
    "fig = plt.figure()"
   ]
  },
  {
   "cell_type": "code",
   "execution_count": null,
   "id": "0ccca4e2-d824-46eb-8e16-90ef0832d159",
   "metadata": {},
   "outputs": [],
   "source": [
    "axes1 = fig.add_subplot(2, 2, 1)\n",
    "axes2 = fig.add_subplot(2, 2, 2)\n",
    "axes3 = fig.add_subplot(2, 2, 3)\n",
    "axes4 = fig.add_subplot(2, 2, 4)"
   ]
  },
  {
   "cell_type": "code",
   "execution_count": null,
   "id": "f2a5da2a-f098-4c2e-a214-2114b10dbc50",
   "metadata": {},
   "outputs": [],
   "source": [
    "axes1.plot(dataset_1['x'], dataset_1['y'], 'o')\n",
    "axes1.plot(dataset_2['x'], dataset_2['y'], 'o')\n",
    "axes1.plot(dataset_3['x'], dataset_3['y'], 'o')\n",
    "axes1.plot(dataset_4['x'], dataset_4['y'], 'o')"
   ]
  },
  {
   "cell_type": "code",
   "execution_count": null,
   "id": "dacfa399-c12c-40db-acdd-59302303e2b5",
   "metadata": {},
   "outputs": [],
   "source": [
    "axes1.set_title(\"dataset_1\")\n",
    "fig.suptitle(\"Anscombe Data\")\n",
    "fig.tight_layout()"
   ]
  },
  {
   "cell_type": "code",
   "execution_count": null,
   "id": "432734a7-d94d-41dd-b04d-11ffb7c9ea8b",
   "metadata": {},
   "outputs": [],
   "source": [
    "tips = sns.load_dataset(\"tips\")\n",
    "print(tips.head())\n",
    "print(type(tips))"
   ]
  },
  {
   "cell_type": "code",
   "execution_count": null,
   "id": "f07f74ae-e954-4818-a7a7-c7959272dc7e",
   "metadata": {},
   "outputs": [],
   "source": [
    "fig = plt.figure\n",
    "axes1 = fig.add_subplot(1, 1, 1)"
   ]
  },
  {
   "cell_type": "code",
   "execution_count": null,
   "id": "08d2d571-4312-44f0-979b-20fec3e15ccd",
   "metadata": {},
   "outputs": [],
   "source": [
    "axes1.hist(tips['total_bill'], bins=10)\n",
    "axes1.set_title('Histogram of Total Bill')\n",
    "axes1.set_xlabel('Frequency')\n",
    "axes1.set_ylabel('Total Bill')"
   ]
  },
  {
   "cell_type": "code",
   "execution_count": null,
   "id": "35dab448-b698-4b1f-ba2e-9a481eddf840",
   "metadata": {},
   "outputs": [],
   "source": [
    "scatter_plot = plt.figure()\n",
    "axes1 = scatter_plot.add_subplot(1,1,1)\n",
    "axes1.scatter(tips['total_bill'], tips['tips'])"
   ]
  },
  {
   "cell_type": "code",
   "execution_count": null,
   "id": "9bd45151-74c7-45fc-958b-197582c33a09",
   "metadata": {},
   "outputs": [],
   "source": [
    "boxplot = plt.figure()\n",
    "axes1 = boxplot.add_subplot(1, 1, 1)\n",
    "axes1.boxplot([tips[tips['sex'] == 'Female']['tips'],\n",
    "              tips[tips['sex'] == 'Male']['tips']],\n",
    "              labels=['Female', 'Male'])"
   ]
  },
  {
   "cell_type": "code",
   "execution_count": null,
   "id": "fb5ea9ee-5b0d-4174-a840-d00faeaf6937",
   "metadata": {},
   "outputs": [],
   "source": [
    "def recode_sex(sex):\n",
    "    if sex == 'Femal':\n",
    "        return 0\n",
    "    else:\n",
    "        return 1"
   ]
  },
  {
   "cell_type": "code",
   "execution_count": null,
   "id": "4de03b38-7d01-4b24-bffe-82e15bb325e5",
   "metadata": {},
   "outputs": [],
   "source": [
    "tips['sex_color'] = tips['sex'].apply(recode_sex)"
   ]
  },
  {
   "cell_type": "code",
   "execution_count": null,
   "id": "bdee1c06-5d81-4e13-b34b-3caa76f75e86",
   "metadata": {},
   "outputs": [],
   "source": [
    "import seaborn as sns\n",
    "tips = sns.load_dataset('tips')"
   ]
  },
  {
   "cell_type": "code",
   "execution_count": null,
   "id": "acc5437f-b8f8-46fc-8af9-dda5732395c6",
   "metadata": {},
   "outputs": [],
   "source": [
    "ax = plt.subplots()\n",
    "ax = sns.distplot(tips['total_bill'])\n",
    "ax.set_title('Total Bill Histogram with Density Plot')"
   ]
  },
  {
   "cell_type": "code",
   "execution_count": null,
   "id": "ccb45fa9-5914-47a1-bcb9-72b483539009",
   "metadata": {},
   "outputs": [],
   "source": [
    "ax = plt.subplots()\n",
    "ax = sns.distplot(tips['total_bill'], rug=True)\n",
    "ax.set_title('total bill hist with density and rug plot')"
   ]
  },
  {
   "cell_type": "code",
   "execution_count": null,
   "id": "50490649-07b1-4688-9c31-988229321515",
   "metadata": {},
   "outputs": [],
   "source": [
    "ax = plt.subplots()\n",
    "ax = sns.kdeplot(data=tips['total_bill'],\n",
    "                data2=tips['tips'],\n",
    "                shade=True)"
   ]
  },
  {
   "cell_type": "code",
   "execution_count": null,
   "id": "50e81bc5-afc7-48f6-9c6a-279e89b23377",
   "metadata": {},
   "outputs": [],
   "source": [
    "ax = sns.countplot('day', data=tips)\n",
    "ax = sns.distplot(tips['total_bill'], rug=True)\n",
    "ax = sns.kdeplot(data=tips['total_bill'],\n",
    "                data2=tips['tips'],\n",
    "                shade=True)\n",
    "ax = sns.barplot(x='time', y='total_bill', data=tips)\n",
    "ax = sns.regplot(x='total_bill', y='tip', data=tips, fit_reg=False)\n"
   ]
  },
  {
   "cell_type": "code",
   "execution_count": null,
   "id": "fd10e682-8b3b-44c5-9462-1e1336e3fda6",
   "metadata": {},
   "outputs": [],
   "source": [
    "joint = sns.jointplot(x='total_bill', y='tip', data=tips)\n",
    "joint.set_labels(xlabel='Total Bill', ylabel='Tip')\n",
    "joint.fig.suptitle('joint', fontsize=10, y=1.03)\n",
    "\n",
    "hexbin = sns.jointplot(x='total_bill', y='tip', data=tips, kind='hex')\n",
    "\n",
    "ax = sns.viloinpllt(x='time', 'total_bill', data=tips)"
   ]
  },
  {
   "cell_type": "code",
   "execution_count": null,
   "id": "ab815966-3a32-4639-b425-0cd33df23af6",
   "metadata": {},
   "outputs": [],
   "source": [
    "fig = sns.pairplot(tips)"
   ]
  },
  {
   "cell_type": "code",
   "execution_count": null,
   "id": "bf09dbcf-aa52-4c9a-93cc-6cf17965b34b",
   "metadata": {},
   "outputs": [],
   "source": [
    "#6 누락값처리하기"
   ]
  },
  {
   "cell_type": "code",
   "execution_count": 5,
   "id": "ceb1d7d0-b66e-41b7-af34-0a54d7c67168",
   "metadata": {},
   "outputs": [],
   "source": [
    "import pandas as pd\n",
    "from numpy import NaN, NAN, nan"
   ]
  },
  {
   "cell_type": "code",
   "execution_count": 7,
   "id": "71c73474-c17f-47d6-ac28-64c9b84ca056",
   "metadata": {},
   "outputs": [],
   "source": [
    "visited = pd.read_csv('C:/Users/Admin/OneDrive/바탕 화면/Kuggle/data/survey_visited.csv')\n",
    "survey = pd.read_csv('C:/Users/Admin/OneDrive/바탕 화면/Kuggle/data/survey_survey.csv')"
   ]
  },
  {
   "cell_type": "code",
   "execution_count": 8,
   "id": "39b33bde-7fb4-4928-8f20-bd8e2704c62f",
   "metadata": {},
   "outputs": [
    {
     "name": "stdout",
     "output_type": "stream",
     "text": [
      "    ident   site       dated  taken person quant  reading\n",
      "0     619   DR-1  1927-02-08    619   dyer   rad     9.82\n",
      "1     619   DR-1  1927-02-08    619   dyer   sal     0.13\n",
      "2     622   DR-1  1927-02-10    622   dyer   rad     7.80\n",
      "3     622   DR-1  1927-02-10    622   dyer   sal     0.09\n",
      "4     734   DR-3  1939-01-07    734     pb   rad     8.41\n",
      "5     734   DR-3  1939-01-07    734   lake   sal     0.05\n",
      "6     734   DR-3  1939-01-07    734     pb  temp   -21.50\n",
      "7     735   DR-3  1930-01-12    735     pb   rad     7.22\n",
      "8     735   DR-3  1930-01-12    735    NaN   sal     0.06\n",
      "9     735   DR-3  1930-01-12    735    NaN  temp   -26.00\n",
      "10    751   DR-3  1930-02-26    751     pb   rad     4.35\n",
      "11    751   DR-3  1930-02-26    751     pb  temp   -18.50\n",
      "12    751   DR-3  1930-02-26    751   lake   sal     0.10\n",
      "13    752   DR-3         NaN    752   lake   rad     2.19\n",
      "14    752   DR-3         NaN    752   lake   sal     0.09\n",
      "15    752   DR-3         NaN    752   lake  temp   -16.00\n",
      "16    752   DR-3         NaN    752    roe   sal    41.60\n",
      "17    837  MSK-4  1932-01-14    837   lake   rad     1.46\n",
      "18    837  MSK-4  1932-01-14    837   lake   sal     0.21\n",
      "19    837  MSK-4  1932-01-14    837    roe   sal    22.50\n",
      "20    844   DR-1  1932-03-22    844    roe   rad    11.25\n"
     ]
    }
   ],
   "source": [
    "vs = visited.merge(survey, left_on='ident', right_on='taken')\n",
    "print(vs)"
   ]
  },
  {
   "cell_type": "code",
   "execution_count": 9,
   "id": "25b85857-0efe-450d-bb5d-a046eb00646c",
   "metadata": {},
   "outputs": [
    {
     "name": "stdout",
     "output_type": "stream",
     "text": [
      "goat      4.0\n",
      "amoeba    NaN\n",
      "dtype: float64\n"
     ]
    }
   ],
   "source": [
    "num_legs = pd.Series({'goat':4, 'amoeba':nan})\n",
    "print(num_legs)"
   ]
  },
  {
   "cell_type": "code",
   "execution_count": 10,
   "id": "cf948ffc-1206-4a8c-a24a-ed263a835126",
   "metadata": {},
   "outputs": [],
   "source": [
    "scientists = pd.DataFrame({\n",
    "    'Name':['Rosaline Franklin', 'William Gosset'],\n",
    "    'Occupation':['Chemist', 'Statistician'],\n",
    "    'Born':['1920-07-25', '1876-066-13'],\n",
    "    'Died':['1958-04-16', '1937-10-16'],\n",
    "    'missing':[NaN, nan]\n",
    "})"
   ]
  },
  {
   "cell_type": "code",
   "execution_count": 11,
   "id": "3ca71a61-9b36-4b5e-878c-9271838a5ce0",
   "metadata": {},
   "outputs": [
    {
     "name": "stdout",
     "output_type": "stream",
     "text": [
      "                Name    Occupation         Born        Died  missing\n",
      "0  Rosaline Franklin       Chemist   1920-07-25  1958-04-16      NaN\n",
      "1     William Gosset  Statistician  1876-066-13  1937-10-16      NaN\n"
     ]
    }
   ],
   "source": [
    "print(scientists)"
   ]
  },
  {
   "cell_type": "code",
   "execution_count": 13,
   "id": "5e7bf56d-3470-4696-b7ba-b7872dc19e0d",
   "metadata": {},
   "outputs": [
    {
     "name": "stdout",
     "output_type": "stream",
     "text": [
      "Date                   122\n",
      "Day                    122\n",
      "Cases_Guinea            93\n",
      "Cases_Liberia           83\n",
      "Cases_SierraLeone       87\n",
      "Cases_Nigeria           38\n",
      "Cases_Senegal           25\n",
      "Cases_UnitedStates      18\n",
      "Cases_Spain             16\n",
      "Cases_Mali              12\n",
      "Deaths_Guinea           92\n",
      "Deaths_Liberia          81\n",
      "Deaths_SierraLeone      87\n",
      "Deaths_Nigeria          38\n",
      "Deaths_Senegal          22\n",
      "Deaths_UnitedStates     18\n",
      "Deaths_Spain            16\n",
      "Deaths_Mali             12\n",
      "dtype: int64\n"
     ]
    }
   ],
   "source": [
    "ebola = pd.read_csv('C:/Users/Admin/OneDrive/바탕 화면/Kuggle/data/country_timeseries.csv')\n",
    "print(ebola.count())"
   ]
  },
  {
   "cell_type": "code",
   "execution_count": 15,
   "id": "db894ecf-6561-4436-9353-37e71237af46",
   "metadata": {},
   "outputs": [
    {
     "name": "stdout",
     "output_type": "stream",
     "text": [
      "Date                     0\n",
      "Day                      0\n",
      "Cases_Guinea            29\n",
      "Cases_Liberia           39\n",
      "Cases_SierraLeone       35\n",
      "Cases_Nigeria           84\n",
      "Cases_Senegal           97\n",
      "Cases_UnitedStates     104\n",
      "Cases_Spain            106\n",
      "Cases_Mali             110\n",
      "Deaths_Guinea           30\n",
      "Deaths_Liberia          41\n",
      "Deaths_SierraLeone      35\n",
      "Deaths_Nigeria          84\n",
      "Deaths_Senegal         100\n",
      "Deaths_UnitedStates    104\n",
      "Deaths_Spain           106\n",
      "Deaths_Mali            110\n",
      "dtype: int64\n"
     ]
    }
   ],
   "source": [
    "num_rows = ebola.shape[0]\n",
    "num_missing = num_rows - ebola.count()\n",
    "print(num_missing)"
   ]
  },
  {
   "cell_type": "code",
   "execution_count": 16,
   "id": "8d5c2056-dff5-4fa7-808b-7ceaea401f03",
   "metadata": {},
   "outputs": [
    {
     "name": "stdout",
     "output_type": "stream",
     "text": [
      "1214\n"
     ]
    }
   ],
   "source": [
    "import numpy as np\n",
    "print(np.count_nonzero(ebola.isnull()))"
   ]
  },
  {
   "cell_type": "code",
   "execution_count": 17,
   "id": "707ba41c-e45f-4b48-b3d2-1a2263c32b36",
   "metadata": {},
   "outputs": [
    {
     "name": "stdout",
     "output_type": "stream",
     "text": [
      "         Date  Day  Cases_Guinea  Cases_Liberia  Cases_SierraLeone\n",
      "0    1/5/2015  289        2776.0            0.0            10030.0\n",
      "1    1/4/2015  288        2775.0            0.0             9780.0\n",
      "2    1/3/2015  287        2769.0         8166.0             9722.0\n",
      "3    1/2/2015  286           0.0         8157.0                0.0\n",
      "4  12/31/2014  284        2730.0         8115.0             9633.0\n",
      "5  12/28/2014  281        2706.0         8018.0             9446.0\n",
      "6  12/27/2014  280        2695.0            0.0             9409.0\n",
      "7  12/24/2014  277        2630.0         7977.0             9203.0\n",
      "8  12/21/2014  273        2597.0            0.0             9004.0\n",
      "9  12/20/2014  272        2571.0         7862.0             8939.0\n",
      "         Date  Day  Cases_Guinea  Cases_Liberia  Cases_SierraLeone\n",
      "0    1/5/2015  289        2776.0            NaN            10030.0\n",
      "1    1/4/2015  288        2775.0            NaN             9780.0\n",
      "2    1/3/2015  287        2769.0         8166.0             9722.0\n",
      "3    1/2/2015  286        2769.0         8157.0             9722.0\n",
      "4  12/31/2014  284        2730.0         8115.0             9633.0\n",
      "5  12/28/2014  281        2706.0         8018.0             9446.0\n",
      "6  12/27/2014  280        2695.0         8018.0             9409.0\n",
      "7  12/24/2014  277        2630.0         7977.0             9203.0\n",
      "8  12/21/2014  273        2597.0         7977.0             9004.0\n",
      "9  12/20/2014  272        2571.0         7862.0             8939.0\n",
      "         Date  Day  Cases_Guinea  Cases_Liberia  Cases_SierraLeone\n",
      "0    1/5/2015  289        2776.0            NaN            10030.0\n",
      "1    1/4/2015  288        2775.0            NaN             9780.0\n",
      "2    1/3/2015  287        2769.0         8166.0             9722.0\n",
      "3    1/2/2015  286        2749.5         8157.0             9677.5\n",
      "4  12/31/2014  284        2730.0         8115.0             9633.0\n",
      "5  12/28/2014  281        2706.0         8018.0             9446.0\n",
      "6  12/27/2014  280        2695.0         7997.5             9409.0\n",
      "7  12/24/2014  277        2630.0         7977.0             9203.0\n",
      "8  12/21/2014  273        2597.0         7919.5             9004.0\n",
      "9  12/20/2014  272        2571.0         7862.0             8939.0\n"
     ]
    },
    {
     "name": "stderr",
     "output_type": "stream",
     "text": [
      "C:\\Users\\Admin\\AppData\\Local\\Temp\\ipykernel_23816\\3055814250.py:2: FutureWarning: DataFrame.fillna with 'method' is deprecated and will raise in a future version. Use obj.ffill() or obj.bfill() instead.\n",
      "  print(ebola.fillna(method='ffill').iloc[0:10, 0:5])\n",
      "C:\\Users\\Admin\\AppData\\Local\\Temp\\ipykernel_23816\\3055814250.py:3: FutureWarning: DataFrame.interpolate with object dtype is deprecated and will raise in a future version. Call obj.infer_objects(copy=False) before interpolating instead.\n",
      "  print(ebola.interpolate().iloc[0:10, 0:5])\n"
     ]
    }
   ],
   "source": [
    "print(ebola.fillna(0).iloc[0:10, 0:5])\n",
    "print(ebola.fillna(method='ffill').iloc[0:10, 0:5])\n",
    "print(ebola.interpolate().iloc[0:10, 0:5])"
   ]
  },
  {
   "cell_type": "code",
   "execution_count": 18,
   "id": "00e7c937-1306-483d-8492-dd41f19749a4",
   "metadata": {},
   "outputs": [
    {
     "name": "stdout",
     "output_type": "stream",
     "text": [
      "84729.0\n"
     ]
    }
   ],
   "source": [
    "ebola_dropna = ebola.dropna()\n",
    "print(ebola.Cases_Guinea.sum(skipna=True))"
   ]
  },
  {
   "cell_type": "code",
   "execution_count": 19,
   "id": "c8797555-ede5-4d5e-96b7-22968f68f209",
   "metadata": {},
   "outputs": [],
   "source": [
    "#7 깔끔한 데이터"
   ]
  },
  {
   "cell_type": "code",
   "execution_count": 20,
   "id": "ad751f3a-651a-4458-803c-450407a256ae",
   "metadata": {},
   "outputs": [
    {
     "name": "stdout",
     "output_type": "stream",
     "text": [
      "             religion  <$10k  $10-20k  $20-30k  $30-40k  $40-50k  $50-75k  \\\n",
      "0            Agnostic     27       34       60       81       76      137   \n",
      "1             Atheist     12       27       37       52       35       70   \n",
      "2            Buddhist     27       21       30       34       33       58   \n",
      "3            Catholic    418      617      732      670      638     1116   \n",
      "4  Don’t know/refused     15       14       15       11       10       35   \n",
      "\n",
      "   $75-100k  $100-150k  >150k  Don't know/refused  \n",
      "0       122        109     84                  96  \n",
      "1        73         59     74                  76  \n",
      "2        62         39     53                  54  \n",
      "3       949        792    633                1489  \n",
      "4        21         17     18                 116  \n"
     ]
    }
   ],
   "source": [
    "pew = pd.read_csv('C:/Users/Admin/OneDrive/바탕 화면/Kuggle/data/pew.csv')\n",
    "print(pew.head())"
   ]
  },
  {
   "cell_type": "code",
   "execution_count": 22,
   "id": "5ca2f056-553d-40a5-8850-0fc4eeb754a1",
   "metadata": {},
   "outputs": [
    {
     "name": "stdout",
     "output_type": "stream",
     "text": [
      "             religion variable  value\n",
      "0            Agnostic    <$10k     27\n",
      "1             Atheist    <$10k     12\n",
      "2            Buddhist    <$10k     27\n",
      "3            Catholic    <$10k    418\n",
      "4  Don’t know/refused    <$10k     15\n"
     ]
    }
   ],
   "source": [
    "pew_long = pd.melt(pew, id_vars='religion')\n",
    "print(pew_long.head())"
   ]
  },
  {
   "cell_type": "code",
   "execution_count": 23,
   "id": "a03b2e2d-6eaa-41d2-9b68-cd87edba2850",
   "metadata": {},
   "outputs": [
    {
     "name": "stdout",
     "output_type": "stream",
     "text": [
      "             religion income  count\n",
      "0            Agnostic  <$10k     27\n",
      "1             Atheist  <$10k     12\n",
      "2            Buddhist  <$10k     27\n",
      "3            Catholic  <$10k    418\n",
      "4  Don’t know/refused  <$10k     15\n"
     ]
    }
   ],
   "source": [
    "pew_long = pd.melt(pew, id_vars='religion', var_name='income', value_name='count')\n",
    "print(pew_long.head())"
   ]
  },
  {
   "cell_type": "code",
   "execution_count": 26,
   "id": "94c0c546-c9cd-4ae0-b65a-743fa2edfacc",
   "metadata": {},
   "outputs": [
    {
     "name": "stdout",
     "output_type": "stream",
     "text": [
      "   year        artist                    track  time date.entered  wk1   wk2  \\\n",
      "0  2000         2 Pac  Baby Don't Cry (Keep...  4:22   2000-02-26   87  82.0   \n",
      "1  2000       2Ge+her  The Hardest Part Of ...  3:15   2000-09-02   91  87.0   \n",
      "2  2000  3 Doors Down               Kryptonite  3:53   2000-04-08   81  70.0   \n",
      "3  2000  3 Doors Down                    Loser  4:24   2000-10-21   76  76.0   \n",
      "4  2000      504 Boyz            Wobble Wobble  3:35   2000-04-15   57  34.0   \n",
      "\n",
      "    wk3   wk4   wk5   wk6   wk7   wk8   wk9  wk10  wk11  \n",
      "0  72.0  77.0  87.0  94.0  99.0   NaN   NaN   NaN   NaN  \n",
      "1  92.0   NaN   NaN   NaN   NaN   NaN   NaN   NaN   NaN  \n",
      "2  68.0  67.0  66.0  57.0  54.0  53.0  51.0  51.0  51.0  \n",
      "3  72.0  69.0  67.0  65.0  55.0  59.0  62.0  61.0  61.0  \n",
      "4  25.0  17.0  17.0  31.0  36.0  49.0  53.0  57.0  64.0  \n"
     ]
    }
   ],
   "source": [
    "billboard = pd.read_csv('C:/Users/Admin/OneDrive/바탕 화면/Kuggle/data/billboard.csv')\n",
    "print(billboard.iloc[0:5, 0:16])"
   ]
  },
  {
   "cell_type": "code",
   "execution_count": 27,
   "id": "a9639745-a05a-419d-a5fa-d122c3c00b3a",
   "metadata": {},
   "outputs": [
    {
     "name": "stdout",
     "output_type": "stream",
     "text": [
      "   year        artist                    track  time date.entered week  rating\n",
      "0  2000         2 Pac  Baby Don't Cry (Keep...  4:22   2000-02-26  wk1    87.0\n",
      "1  2000       2Ge+her  The Hardest Part Of ...  3:15   2000-09-02  wk1    91.0\n",
      "2  2000  3 Doors Down               Kryptonite  3:53   2000-04-08  wk1    81.0\n",
      "3  2000  3 Doors Down                    Loser  4:24   2000-10-21  wk1    76.0\n",
      "4  2000      504 Boyz            Wobble Wobble  3:35   2000-04-15  wk1    57.0\n"
     ]
    }
   ],
   "source": [
    "billboard_long = pd.melt(billboard, id_vars=['year', 'artist', 'track', 'time', 'date.entered'],\n",
    "                        var_name='week', value_name='rating')\n",
    "print(billboard_long.head())"
   ]
  },
  {
   "cell_type": "code",
   "execution_count": 32,
   "id": "c1127ceb-9a72-48aa-829e-b74952edd1ac",
   "metadata": {},
   "outputs": [
    {
     "name": "stdout",
     "output_type": "stream",
     "text": [
      "        id  year  month element  d1    d2    d3  d4    d5  d6  ...  d22   d23  \\\n",
      "0  MX17004  2010      1    tmax NaN   NaN   NaN NaN   NaN NaN  ...  NaN   NaN   \n",
      "1  MX17004  2010      1    tmin NaN   NaN   NaN NaN   NaN NaN  ...  NaN   NaN   \n",
      "2  MX17004  2010      2    tmax NaN  27.3  24.1 NaN   NaN NaN  ...  NaN  29.9   \n",
      "3  MX17004  2010      2    tmin NaN  14.4  14.4 NaN   NaN NaN  ...  NaN  10.7   \n",
      "4  MX17004  2010      3    tmax NaN   NaN   NaN NaN  32.1 NaN  ...  NaN   NaN   \n",
      "\n",
      "   d24  d25  d26  d27  d28  d29   d30  d31  \n",
      "0  NaN  NaN  NaN  NaN  NaN  NaN  27.8  NaN  \n",
      "1  NaN  NaN  NaN  NaN  NaN  NaN  14.5  NaN  \n",
      "2  NaN  NaN  NaN  NaN  NaN  NaN   NaN  NaN  \n",
      "3  NaN  NaN  NaN  NaN  NaN  NaN   NaN  NaN  \n",
      "4  NaN  NaN  NaN  NaN  NaN  NaN   NaN  NaN  \n",
      "\n",
      "[5 rows x 35 columns]\n"
     ]
    }
   ],
   "source": [
    "weather = pd.read_csv('C:/Users/Admin/OneDrive/바탕 화면/Kuggle/data/weather.csv')\n",
    "print(weather.head())"
   ]
  },
  {
   "cell_type": "code",
   "execution_count": 30,
   "id": "c4de1a67-e36f-456f-b0df-a35717edd403",
   "metadata": {},
   "outputs": [
    {
     "name": "stdout",
     "output_type": "stream",
     "text": [
      "        id  year  month element day  temp\n",
      "0  MX17004  2010      1    tmax  d1   NaN\n",
      "1  MX17004  2010      1    tmin  d1   NaN\n",
      "2  MX17004  2010      2    tmax  d1   NaN\n",
      "3  MX17004  2010      2    tmin  d1   NaN\n",
      "4  MX17004  2010      3    tmax  d1   NaN\n"
     ]
    }
   ],
   "source": [
    "weather_melt = pd.melt(weather, id_vars=['id', 'year', 'month', 'element'],\n",
    "                      var_name='day', value_name='temp')\n",
    "print(weather_melt.head())"
   ]
  },
  {
   "cell_type": "code",
   "execution_count": 33,
   "id": "cf182528-f2fa-463a-bb05-796dc22a854f",
   "metadata": {},
   "outputs": [
    {
     "name": "stdout",
     "output_type": "stream",
     "text": [
      "element                 tmax  tmin\n",
      "id      year month day            \n",
      "MX17004 2010 1     d1    NaN   NaN\n",
      "                   d10   NaN   NaN\n",
      "                   d11   NaN   NaN\n",
      "                   d12   NaN   NaN\n",
      "                   d13   NaN   NaN\n",
      "...                      ...   ...\n",
      "             12    d5    NaN   NaN\n",
      "                   d6   27.8  10.5\n",
      "                   d7    NaN   NaN\n",
      "                   d8    NaN   NaN\n",
      "                   d9    NaN   NaN\n",
      "\n",
      "[341 rows x 2 columns]\n"
     ]
    }
   ],
   "source": [
    "weather_tidy = weather_melt.pivot_table(\n",
    "    index=['id', 'year', 'month', 'day'],\n",
    "    columns='element',\n",
    "    values='temp',\n",
    "    dropna=False\n",
    ")\n",
    "print(weather_tidy)"
   ]
  },
  {
   "cell_type": "code",
   "execution_count": 34,
   "id": "90691e9a-2dc2-4d38-8b40-9a5a6f17d4c1",
   "metadata": {},
   "outputs": [
    {
     "name": "stdout",
     "output_type": "stream",
     "text": [
      "element       id  year  month  day  tmax  tmin\n",
      "0        MX17004  2010      1   d1   NaN   NaN\n",
      "1        MX17004  2010      1  d10   NaN   NaN\n",
      "2        MX17004  2010      1  d11   NaN   NaN\n",
      "3        MX17004  2010      1  d12   NaN   NaN\n",
      "4        MX17004  2010      1  d13   NaN   NaN\n",
      "..           ...   ...    ...  ...   ...   ...\n",
      "336      MX17004  2010     12   d5   NaN   NaN\n",
      "337      MX17004  2010     12   d6  27.8  10.5\n",
      "338      MX17004  2010     12   d7   NaN   NaN\n",
      "339      MX17004  2010     12   d8   NaN   NaN\n",
      "340      MX17004  2010     12   d9   NaN   NaN\n",
      "\n",
      "[341 rows x 6 columns]\n"
     ]
    }
   ],
   "source": [
    "weather_tidy_flat = weather_tidy.reset_index()\n",
    "print(weather_tidy_flat)"
   ]
  },
  {
   "cell_type": "code",
   "execution_count": 35,
   "id": "8aaae667-0d9b-4540-9425-031363bc0540",
   "metadata": {},
   "outputs": [
    {
     "name": "stdout",
     "output_type": "stream",
     "text": [
      "   year        artist                    track  time date.entered week  rating\n",
      "0  2000         2 Pac  Baby Don't Cry (Keep...  4:22   2000-02-26  wk1    87.0\n",
      "1  2000       2Ge+her  The Hardest Part Of ...  3:15   2000-09-02  wk1    91.0\n",
      "2  2000  3 Doors Down               Kryptonite  3:53   2000-04-08  wk1    81.0\n",
      "3  2000  3 Doors Down                    Loser  4:24   2000-10-21  wk1    76.0\n",
      "4  2000      504 Boyz            Wobble Wobble  3:35   2000-04-15  wk1    57.0\n"
     ]
    }
   ],
   "source": [
    "billboard = pd.read_csv('C:/Users/Admin/OneDrive/바탕 화면/Kuggle/data/billboard.csv')\n",
    "billboard_long = pd.melt(billboard, id_vars=['year', 'artist', 'track', 'time', 'date.entered'],\n",
    "                        var_name='week', value_name='rating')\n",
    "print(billboard_long.head())"
   ]
  },
  {
   "cell_type": "code",
   "execution_count": 36,
   "id": "e861d87e-66c1-4cc4-b7d9-60b9693bc667",
   "metadata": {},
   "outputs": [
    {
     "name": "stdout",
     "output_type": "stream",
     "text": [
      "   year        artist                    track  time  id\n",
      "0  2000         2 Pac  Baby Don't Cry (Keep...  4:22   0\n",
      "1  2000       2Ge+her  The Hardest Part Of ...  3:15   1\n",
      "2  2000  3 Doors Down               Kryptonite  3:53   2\n",
      "3  2000  3 Doors Down                    Loser  4:24   3\n",
      "4  2000      504 Boyz            Wobble Wobble  3:35   4\n"
     ]
    }
   ],
   "source": [
    "billboard_songs = billboard_long[['year', 'artist', 'track', 'time']]\n",
    "billboard_songs = billboard_songs.drop_duplicates()\n",
    "billboard_songs['id'] = range(len(billboard_songs))\n",
    "print(billboard_songs.head())"
   ]
  },
  {
   "cell_type": "code",
   "execution_count": null,
   "id": "041e0400-8a47-4ec0-8e94-b0c7344e0df0",
   "metadata": {},
   "outputs": [],
   "source": []
  }
 ],
 "metadata": {
  "kernelspec": {
   "display_name": "Python 3 (ipykernel)",
   "language": "python",
   "name": "python3"
  },
  "language_info": {
   "codemirror_mode": {
    "name": "ipython",
    "version": 3
   },
   "file_extension": ".py",
   "mimetype": "text/x-python",
   "name": "python",
   "nbconvert_exporter": "python",
   "pygments_lexer": "ipython3",
   "version": "3.11.7"
  }
 },
 "nbformat": 4,
 "nbformat_minor": 5
}
