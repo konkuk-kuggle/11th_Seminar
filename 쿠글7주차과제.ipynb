{
  "cells": [
    {
      "cell_type": "code",
      "execution_count": 1,
      "metadata": {
        "id": "tmxXYqyW9VBd"
      },
      "outputs": [],
      "source": [
        "import torch\n",
        "import torchvision.datasets as dsets\n",
        "import torchvision.transforms as transforms\n",
        "import torch.nn.init     # 가중치 초기화"
      ]
    },
    {
      "cell_type": "code",
      "execution_count": 2,
      "metadata": {
        "id": "FppW99lR95ch"
      },
      "outputs": [],
      "source": [
        "# CUDA 사용 : GPU를 이용해 연산을 가속할 수 있도록 설계된 기술\n",
        "device = 'cuda' if torch.cuda.is_available() else 'cpu'\n",
        "\n",
        "# 랜덤 시드 고정\n",
        "torch.manual_seed(777)\n",
        "\n",
        "# GPU 사용 가능일 경우 랜덤 시드 고정\n",
        "if device == 'cuda':\n",
        "    torch.cuda.manual_seed_all(777)"
      ]
    },
    {
      "cell_type": "code",
      "execution_count": 3,
      "metadata": {
        "colab": {
          "base_uri": "https://localhost:8080/"
        },
        "id": "-AyPuXPr986n",
        "outputId": "8060679d-4b2a-4027-bc6d-a71b88f87fa6"
      },
      "outputs": [
        {
          "output_type": "stream",
          "name": "stderr",
          "text": [
            "100%|██████████| 9.91M/9.91M [00:00<00:00, 22.1MB/s]\n",
            "100%|██████████| 28.9k/28.9k [00:00<00:00, 606kB/s]\n",
            "100%|██████████| 1.65M/1.65M [00:00<00:00, 5.56MB/s]\n",
            "100%|██████████| 4.54k/4.54k [00:00<00:00, 8.70MB/s]\n"
          ]
        }
      ],
      "source": [
        "# 파라미터 설정\n",
        "learning_rate = 0.001\n",
        "training_epochs = 15\n",
        "batch_size = 100\n",
        "\n",
        "# 데이터셋 정의\n",
        "mnist_train = dsets.MNIST(root='MNIST_data/', # 다운로드 경로 지정\n",
        "                          train=True, # True를 지정하면 훈련 데이터로 다운로드\n",
        "                          transform=transforms.ToTensor(), # 텐서로 변환\n",
        "                          download=True)\n",
        "\n",
        "mnist_test = dsets.MNIST(root='MNIST_data/', # 다운로드 경로 지정\n",
        "                         train=False, # False를 지정하면 테스트 데이터로 다운로드\n",
        "\n",
        "                         # ⭐⭐빈칸⭐⭐\n",
        "                         transform=transforms.ToTensor(), # ⭐⭐텐서로 변환하기 위한 메소드를 작성해주세요\n",
        "                         download=True)\n",
        "\n",
        "# 데이터로더를 사용하여 배치 크기 지정\n",
        "data_loader = torch.utils.data.DataLoader(dataset=mnist_train,\n",
        "                                          batch_size=batch_size,\n",
        "                                          shuffle=True,\n",
        "                                          drop_last=True)"
      ]
    },
    {
      "cell_type": "code",
      "execution_count": 4,
      "metadata": {
        "id": "EwPDBV-g-IHZ"
      },
      "outputs": [],
      "source": [
        "class CNN(torch.nn.Module):\n",
        "\n",
        "    def __init__(self):\n",
        "        super().__init__()\n",
        "        # 첫번째층    배치 크기 × 채널 × 높이(height) × 너비(widht)\n",
        "        # ImagIn shape =(100, 1, 28, 28)\n",
        "        #    Conv     -> (100, 32, 28, 28)\n",
        "        #    Pool     -> (100, 32, 14, 14)\n",
        "        self.layer1 = torch.nn.Sequential(\n",
        "            # ⭐⭐빈칸 - 합성곱 층의 채널의 수⭐⭐\n",
        "            torch.nn.Conv2d(1, 32, kernel_size=3, stride=1, padding=1),\n",
        "            torch.nn.ReLU(),\n",
        "            torch.nn.MaxPool2d(kernel_size=2, stride=2))\n",
        "\n",
        "        # 두번째층\n",
        "        # ImagIn shape =(100, 32, 14, 14)\n",
        "        #    Conv      ->(100, 64, 14, 14)\n",
        "        #    Pool      ->(100, 64, 7, 7)\n",
        "        self.layer2 = torch.nn.Sequential(\n",
        "            # ⭐⭐빈칸 - 입력 이미지의 채널의 수⭐⭐\n",
        "            torch.nn.Conv2d(32, 64, kernel_size=3, stride=1, padding=1),\n",
        "            torch.nn.ReLU(),\n",
        "            torch.nn.MaxPool2d(kernel_size=2, stride=2))\n",
        "\n",
        "        # 전결합층 정의 : 64x7x7 inputs -> 10 outputs\n",
        "        self.fc = torch.nn.Linear(7*7*64, 10, bias=True)\n",
        "\n",
        "        # 전결합층 한정으로 가중치 초기화\n",
        "        torch.nn.init.xavier_uniform_(self.fc.weight)\n",
        "\n",
        "    def forward(self, x):\n",
        "        out = self.layer1(x)\n",
        "        out = self.layer2(out)\n",
        "        out = out.view(out.size(0), -1)   # 전결합층을 위해서 Flatten\n",
        "        out = self.fc(out)\n",
        "        return out"
      ]
    },
    {
      "cell_type": "markdown",
      "metadata": {
        "id": "PXDXNECr-0-x"
      },
      "source": [
        "⭐⭐문제⭐⭐\n",
        "첫번째 층에서 합성곱층과 풀링층의 커널 사이즈와 스트라이드 크기를 각각 작성해주세요.\n",
        "합성곱층\n",
        "커널 : 3\n",
        "스트라이드 : 1\n",
        "풀링층\n",
        "커널 : 2\n",
        "스트라이드 : 2"
      ]
    },
    {
      "cell_type": "code",
      "execution_count": 5,
      "metadata": {
        "id": "1ACRQ35c-syi"
      },
      "outputs": [],
      "source": [
        "# CNN 모델 정의\n",
        "model = CNN().to(device)\n",
        "\n",
        "# 비용함수 & 옵티마이저\n",
        "criterion = torch.nn.CrossEntropyLoss().to(device)    # 출력값에 활성화함수(소프트맥스) 적용 + 비용 함수\n",
        "optimizer = torch.optim.Adam(model.parameters(), lr=learning_rate)"
      ]
    },
    {
      "cell_type": "code",
      "execution_count": 6,
      "metadata": {
        "colab": {
          "base_uri": "https://localhost:8080/"
        },
        "id": "oD4p4j3v_TE2",
        "outputId": "71c758d6-a2c1-42e7-bea0-46c030519e41"
      },
      "outputs": [
        {
          "output_type": "stream",
          "name": "stdout",
          "text": [
            "총 배치의 수 : 600\n"
          ]
        }
      ],
      "source": [
        "total_batch = len(data_loader)\n",
        "print(f'총 배치의 수 : {total_batch}')\n",
        "# 미니 배치 크기를 100으로 했으므로 결국 훈련 데이터는 총 60,000개란 의미"
      ]
    },
    {
      "cell_type": "code",
      "execution_count": 7,
      "metadata": {
        "colab": {
          "base_uri": "https://localhost:8080/"
        },
        "id": "w2M94Zfp_VXp",
        "outputId": "d1bdefb4-d22d-4975-a144-70f807ade7a0"
      },
      "outputs": [
        {
          "output_type": "stream",
          "name": "stdout",
          "text": [
            "[Epoch:    1] cost = 0.225560248\n",
            "[Epoch:    2] cost = 0.0630551875\n",
            "[Epoch:    3] cost = 0.0462681577\n",
            "[Epoch:    4] cost = 0.0374339223\n",
            "[Epoch:    5] cost = 0.0314037167\n",
            "[Epoch:    6] cost = 0.0261414386\n",
            "[Epoch:    7] cost = 0.0216277987\n",
            "[Epoch:    8] cost = 0.0179725569\n",
            "[Epoch:    9] cost = 0.0158094056\n",
            "[Epoch:   10] cost = 0.0131764095\n",
            "[Epoch:   11] cost = 0.00995210093\n",
            "[Epoch:   12] cost = 0.00957405847\n",
            "[Epoch:   13] cost = 0.00827191118\n",
            "[Epoch:   14] cost = 0.00659538386\n",
            "[Epoch:   15] cost = 0.00589284115\n"
          ]
        }
      ],
      "source": [
        "for epoch in range(training_epochs):\n",
        "    avg_cost = 0  # 에포크당 평균 비용을 저장하기 위한 변수 초기화\n",
        "\n",
        "    for X, Y in data_loader:  # 미니 배치 단위로 데이터를 꺼내옴. X는 입력 데이터, Y는 레이블\n",
        "        # 이미지 데이터는 이미 (28x28) 크기를 가지므로, 별도의 reshape 필요 없음\n",
        "        # 레이블 Y는 원-핫 인코딩이 아닌 정수형 클래스 레이블임\n",
        "        X = X.to(device)  # 입력 데이터를 연산이 수행될 장치로 이동 (예: GPU)\n",
        "        Y = Y.to(device)  # 레이블을 연산이 수행될 장치로 이동 (예: GPU)\n",
        "\n",
        "        optimizer.zero_grad()  # 옵티마이저의 기울기 초기화\n",
        "        hypothesis = model(X)  # 모델을 통해 예측값(hypothesis)을 계산 (순전파 연산)\n",
        "        cost = criterion(hypothesis, Y)  # 예측값과 실제값 Y 간의 손실(cost) 계산\n",
        "        cost.backward()  # 역전파 연산을 통해 기울기 계산\n",
        "        optimizer.step()  # 옵티마이저를 통해 파라미터 업데이트\n",
        "\n",
        "        avg_cost += cost / total_batch  # 현재 배치의 비용을 전체 배치 수로 나누어 누적\n",
        "\n",
        "    # 에포크가 끝날 때마다 평균 비용 출력\n",
        "    print('[Epoch: {:>4}] cost = {:>.9}'.format(epoch + 1, avg_cost))"
      ]
    },
    {
      "cell_type": "code",
      "source": [
        "# 학습을 진행하지 않을 것이므로 torch.no_grad() 사용\n",
        "with torch.no_grad():\n",
        "    # 테스트 데이터를 모델에 입력하기 위한 준비\n",
        "    X_test = mnist_test.test_data.view(len(mnist_test), 1, 28, 28).float().to(device)  # 테스트 데이터셋의 크기를 맞추고, 연산을 위한 장치로 이동\n",
        "    Y_test = mnist_test.test_labels.to(device)  # 테스트 데이터셋의 레이블을 연산을 위한 장치로 이동\n",
        "\n",
        "    # 모델 예측 수행\n",
        "    prediction = model(X_test)  # 테스트 데이터에 대해 모델이 예측한 결과값\n",
        "\n",
        "    # 예측 결과와 실제 레이블 비교\n",
        "    correct_prediction = torch.argmax(prediction, 1) == Y_test  # 예측된 클래스와 실제 레이블이 일치하는지 확인\n",
        "\n",
        "    # 정확도 계산\n",
        "    accuracy = correct_prediction.float().mean()  # 정확도를 계산하기 위해 일치하는 예측의 평균을 구함\n",
        "    print('Accuracy:', accuracy.item())  # 정확도를 출력"
      ],
      "metadata": {
        "colab": {
          "base_uri": "https://localhost:8080/"
        },
        "id": "3rqrPeeD1m7h",
        "outputId": "d2204d02-d004-4b6c-b536-408bf3fefd36"
      },
      "execution_count": 8,
      "outputs": [
        {
          "output_type": "stream",
          "name": "stderr",
          "text": [
            "/usr/local/lib/python3.11/dist-packages/torchvision/datasets/mnist.py:81: UserWarning: test_data has been renamed data\n",
            "  warnings.warn(\"test_data has been renamed data\")\n",
            "/usr/local/lib/python3.11/dist-packages/torchvision/datasets/mnist.py:71: UserWarning: test_labels has been renamed targets\n",
            "  warnings.warn(\"test_labels has been renamed targets\")\n"
          ]
        },
        {
          "output_type": "stream",
          "name": "stdout",
          "text": [
            "Accuracy: 0.9883999824523926\n"
          ]
        }
      ]
    },
    {
      "cell_type": "markdown",
      "source": [
        "⭐⭐문제⭐⭐\n",
        "합성곱층이 늘어나면 정확도는 어떻게 될지 간단하게 작성해보세요!\n",
        "정답 : 초기에는 정확도가 향상되지만, 일정 지점을 넘어서면 과적합으로 오히려 감소할 수 있음."
      ],
      "metadata": {
        "id": "7AHCclwd6BZ8"
      }
    }
  ],
  "metadata": {
    "colab": {
      "provenance": [],
      "authorship_tag": "ABX9TyP8xETXqv8VosVEA0srMSZp"
    },
    "kernelspec": {
      "display_name": "Python 3",
      "name": "python3"
    },
    "language_info": {
      "name": "python"
    }
  },
  "nbformat": 4,
  "nbformat_minor": 0
}