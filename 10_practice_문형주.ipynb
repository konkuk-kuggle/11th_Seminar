{
 "cells": [
  {
   "cell_type": "markdown",
   "metadata": {},
   "source": [
    "## 202114277 문형주"
   ]
  },
  {
   "cell_type": "markdown",
   "metadata": {},
   "source": [
    "# 제곱 함수와 n 제곱 함수 만들기"
   ]
  },
  {
   "cell_type": "code",
   "execution_count": 2,
   "metadata": {},
   "outputs": [
    {
     "name": "stdout",
     "output_type": "stream",
     "text": [
      "16\n",
      "16\n"
     ]
    }
   ],
   "source": [
    "def my_sq(x):\n",
    "    return x**2\n",
    "def my_exp(x,n):\n",
    "    return x**n\n",
    "print(my_sq(4))\n",
    "print(my_exp(2,4))"
   ]
  },
  {
   "cell_type": "markdown",
   "metadata": {},
   "source": [
    "# 시리즈와 apply 메서드"
   ]
  },
  {
   "cell_type": "code",
   "execution_count": 8,
   "metadata": {},
   "outputs": [
    {
     "name": "stdout",
     "output_type": "stream",
     "text": [
      "    a   b\n",
      "0  10  20\n",
      "1  20  30\n",
      "2  30  40\n",
      "0    100\n",
      "1    400\n",
      "2    900\n",
      "Name: a, dtype: int64\n",
      "0    100\n",
      "1    400\n",
      "2    900\n",
      "Name: a, dtype: int64\n",
      "0    100\n",
      "1    400\n",
      "2    900\n",
      "Name: a, dtype: int64\n"
     ]
    }
   ],
   "source": [
    "import pandas as pd\n",
    "df=pd.DataFrame({'a':[10,20,30],\n",
    "                 'b':[20,30,40]})\n",
    "print(df)\n",
    "\n",
    "print(df['a']**2)\n",
    "\n",
    "sq=df['a'].apply(my_sq)\n",
    "print(sq)\n",
    "\n",
    "ex=df['a'].apply(my_exp,n=2)\n",
    "print(ex)"
   ]
  },
  {
   "cell_type": "markdown",
   "metadata": {},
   "source": [
    "# 데이터 프레임과 apply 메서드"
   ]
  },
  {
   "cell_type": "code",
   "execution_count": 12,
   "metadata": {},
   "outputs": [
    {
     "name": "stdout",
     "output_type": "stream",
     "text": [
      "0    10\n",
      "1    20\n",
      "2    30\n",
      "Name: a, dtype: int64\n",
      "0    20\n",
      "1    30\n",
      "2    40\n",
      "Name: b, dtype: int64\n",
      "a    None\n",
      "b    None\n",
      "dtype: object\n"
     ]
    }
   ],
   "source": [
    "df=pd.DataFrame({'a':[10,20,30],'b':[20,30,40]})\n",
    "\n",
    "def print_me(x):\n",
    "    print(x)\n",
    "\n",
    "print(df.apply(print_me,axis=0))"
   ]
  },
  {
   "cell_type": "code",
   "execution_count": 13,
   "metadata": {},
   "outputs": [
    {
     "name": "stdout",
     "output_type": "stream",
     "text": [
      "           a          b\n",
      "0  13.333333  20.000000\n",
      "1  16.666667  23.333333\n"
     ]
    }
   ],
   "source": [
    "def avg_3_apply(col):\n",
    "    x=col[0],\n",
    "    y=col[1],\n",
    "    z=col[2]\n",
    "    return(x+y+z)/3\n",
    "\n",
    "print(df.apply(avg_3_apply))"
   ]
  },
  {
   "cell_type": "markdown",
   "metadata": {},
   "source": [
    "# 데이터프레임의 누락값을 처리한 다음 apply 메서드 사용하기 - 열 방향"
   ]
  },
  {
   "cell_type": "code",
   "execution_count": 16,
   "metadata": {},
   "outputs": [
    {
     "name": "stdout",
     "output_type": "stream",
     "text": [
      "<class 'pandas.core.frame.DataFrame'>\n",
      "RangeIndex: 891 entries, 0 to 890\n",
      "Data columns (total 15 columns):\n",
      " #   Column       Non-Null Count  Dtype   \n",
      "---  ------       --------------  -----   \n",
      " 0   survived     891 non-null    int64   \n",
      " 1   pclass       891 non-null    int64   \n",
      " 2   sex          891 non-null    object  \n",
      " 3   age          714 non-null    float64 \n",
      " 4   sibsp        891 non-null    int64   \n",
      " 5   parch        891 non-null    int64   \n",
      " 6   fare         891 non-null    float64 \n",
      " 7   embarked     889 non-null    object  \n",
      " 8   class        891 non-null    category\n",
      " 9   who          891 non-null    object  \n",
      " 10  adult_male   891 non-null    bool    \n",
      " 11  deck         203 non-null    category\n",
      " 12  embark_town  889 non-null    object  \n",
      " 13  alive        891 non-null    object  \n",
      " 14  alone        891 non-null    bool    \n",
      "dtypes: bool(2), category(2), float64(2), int64(4), object(5)\n",
      "memory usage: 80.7+ KB\n",
      "None\n"
     ]
    }
   ],
   "source": [
    "import seaborn as sns\n",
    "titanic=sns.load_dataset('titanic')\n",
    "print(titanic.info())"
   ]
  },
  {
   "cell_type": "code",
   "execution_count": 18,
   "metadata": {},
   "outputs": [
    {
     "name": "stdout",
     "output_type": "stream",
     "text": [
      "survived         0\n",
      "pclass           0\n",
      "sex              0\n",
      "age            177\n",
      "sibsp            0\n",
      "parch            0\n",
      "fare             0\n",
      "embarked         2\n",
      "class            0\n",
      "who              0\n",
      "adult_male       0\n",
      "deck           688\n",
      "embark_town      2\n",
      "alive            0\n",
      "alone            0\n",
      "dtype: int64\n"
     ]
    }
   ],
   "source": [
    "import numpy as np\n",
    "def count_missing(vec):\n",
    "    null_vec=pd.isnull(vec)\n",
    "    null_count=np.sum(null_vec)\n",
    "    return null_count\n",
    "\n",
    "cmis_col=titanic.apply(count_missing)\n",
    "print(cmis_col)"
   ]
  },
  {
   "cell_type": "code",
   "execution_count": 21,
   "metadata": {},
   "outputs": [
    {
     "name": "stdout",
     "output_type": "stream",
     "text": [
      "survived       0.000000\n",
      "pclass         0.000000\n",
      "sex            0.000000\n",
      "age            0.198653\n",
      "sibsp          0.000000\n",
      "parch          0.000000\n",
      "fare           0.000000\n",
      "embarked       0.002245\n",
      "class          0.000000\n",
      "who            0.000000\n",
      "adult_male     0.000000\n",
      "deck           0.772166\n",
      "embark_town    0.002245\n",
      "alive          0.000000\n",
      "alone          0.000000\n",
      "dtype: float64\n"
     ]
    }
   ],
   "source": [
    "def prop_missing(vec):\n",
    "    num=count_missing(vec)\n",
    "    dem=vec.size\n",
    "    return num/dem\n",
    "\n",
    "pmis_col=titanic.apply(prop_missing)\n",
    "print(pmis_col)"
   ]
  },
  {
   "cell_type": "markdown",
   "metadata": {},
   "source": [
    "# 데이터프레임의 누락값을 처리한 다음 apply 메서드 사용하기 - 행 방뱡"
   ]
  },
  {
   "cell_type": "code",
   "execution_count": 24,
   "metadata": {},
   "outputs": [
    {
     "name": "stdout",
     "output_type": "stream",
     "text": [
      "   survived  pclass     sex   age  sibsp  parch     fare embarked  class  \\\n",
      "0         0       3    male  22.0      1      0   7.2500        S  Third   \n",
      "1         1       1  female  38.0      1      0  71.2833        C  First   \n",
      "2         1       3  female  26.0      0      0   7.9250        S  Third   \n",
      "3         1       1  female  35.0      1      0  53.1000        S  First   \n",
      "4         0       3    male  35.0      0      0   8.0500        S  Third   \n",
      "\n",
      "     who  adult_male deck  embark_town alive  alone  num_missing  \n",
      "0    man        True  NaN  Southampton    no  False            1  \n",
      "1  woman       False    C    Cherbourg   yes  False            0  \n",
      "2  woman       False  NaN  Southampton   yes   True            1  \n",
      "3  woman       False    C  Southampton   yes  False            0  \n",
      "4    man        True  NaN  Southampton    no   True            1  \n",
      "     survived  pclass     sex  age  sibsp  parch     fare embarked  class  \\\n",
      "790         0       3    male  NaN      0      0   7.7500        Q  Third   \n",
      "468         0       3    male  NaN      0      0   7.7250        Q  Third   \n",
      "792         0       3  female  NaN      8      2  69.5500        S  Third   \n",
      "42          0       3    male  NaN      0      0   7.8958        C  Third   \n",
      "832         0       3    male  NaN      0      0   7.2292        C  Third   \n",
      "451         0       3    male  NaN      1      0  19.9667        S  Third   \n",
      "531         0       3    male  NaN      0      0   7.2292        C  Third   \n",
      "250         0       3    male  NaN      0      0   7.2500        S  Third   \n",
      "330         1       3  female  NaN      2      0  23.2500        Q  Third   \n",
      "358         1       3  female  NaN      0      0   7.8792        Q  Third   \n",
      "\n",
      "       who  adult_male deck  embark_town alive  alone  num_missing  \n",
      "790    man        True  NaN   Queenstown    no   True            2  \n",
      "468    man        True  NaN   Queenstown    no   True            2  \n",
      "792  woman       False  NaN  Southampton    no  False            2  \n",
      "42     man        True  NaN    Cherbourg    no   True            2  \n",
      "832    man        True  NaN    Cherbourg    no   True            2  \n",
      "451    man        True  NaN  Southampton    no  False            2  \n",
      "531    man        True  NaN    Cherbourg    no   True            2  \n",
      "250    man        True  NaN  Southampton    no   True            2  \n",
      "330  woman       False  NaN   Queenstown   yes  False            2  \n",
      "358  woman       False  NaN   Queenstown   yes   True            2  \n"
     ]
    }
   ],
   "source": [
    "cmis_row=titanic.apply(count_missing,axis=1)\n",
    "titanic['num_missing']=titanic.apply(count_missing,axis=1)\n",
    "\n",
    "print(titanic.head())\n",
    "\n",
    "print(titanic.loc[titanic.num_missing>1,:].sample(10))"
   ]
  }
 ],
 "metadata": {
  "kernelspec": {
   "display_name": "Python 3 (ipykernel)",
   "language": "python",
   "name": "python3"
  },
  "language_info": {
   "codemirror_mode": {
    "name": "ipython",
    "version": 3
   },
   "file_extension": ".py",
   "mimetype": "text/x-python",
   "name": "python",
   "nbconvert_exporter": "python",
   "pygments_lexer": "ipython3",
   "version": "3.11.7"
  }
 },
 "nbformat": 4,
 "nbformat_minor": 4
}
