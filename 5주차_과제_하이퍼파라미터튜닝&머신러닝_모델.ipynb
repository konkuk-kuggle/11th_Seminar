{
  "cells": [
    {
      "cell_type": "markdown",
      "id": "51c22f7d",
      "metadata": {
        "id": "51c22f7d"
      },
      "source": [
        "### 베이지안 최적화 기반 하이퍼 파라미터 튜닝 (w. HyperOpt)"
      ]
    },
    {
      "cell_type": "code",
      "execution_count": null,
      "id": "2d57320f",
      "metadata": {
        "id": "2d57320f"
      },
      "outputs": [],
      "source": [
        "#pip install hyperopt"
      ]
    },
    {
      "cell_type": "code",
      "execution_count": null,
      "id": "6ff2c890",
      "metadata": {
        "colab": {
          "base_uri": "https://localhost:8080/"
        },
        "id": "6ff2c890",
        "outputId": "9b4d99ad-a75a-41e0-9b39-9299ba06dcdd"
      },
      "outputs": [
        {
          "output_type": "stream",
          "name": "stdout",
          "text": [
            "0.2.7\n"
          ]
        }
      ],
      "source": [
        "import hyperopt\n",
        "\n",
        "print(hyperopt.__version__)"
      ]
    },
    {
      "cell_type": "code",
      "execution_count": null,
      "id": "59720ff7",
      "metadata": {
        "id": "59720ff7"
      },
      "outputs": [],
      "source": [
        "from hyperopt import hp\n",
        "\n",
        "# -10 ~ 10까지 1간격을 가지는 입력 변수 x와 -15 ~ 15까지 1간격으로 입력 변수 y 설정.\n",
        "search_space = {'x': hp.quniform('x', ___, ___, ___), 'y': hp.quniform('y', ___, ___, ___) } ### 빈칸"
      ]
    },
    {
      "cell_type": "code",
      "execution_count": null,
      "id": "53ecdd65",
      "metadata": {
        "id": "53ecdd65"
      },
      "outputs": [],
      "source": [
        "from hyperopt import STATUS_OK\n",
        "\n",
        "# 목적 함수를 생성. 변숫값과 변수 검색 공간을 가지는 딕셔너리를 인자로 받고, 특정 값을 반환\n",
        "def objective_func(search_space):\n",
        "    x = search_space['x']\n",
        "    y = search_space['y']\n",
        "    retval = x**2 - 20*y\n",
        "\n",
        "    return retval"
      ]
    },
    {
      "cell_type": "code",
      "execution_count": null,
      "id": "0022844b",
      "metadata": {
        "id": "0022844b"
      },
      "outputs": [],
      "source": [
        "from hyperopt import fmin, tpe, Trials\n",
        "import numpy as np\n",
        "\n",
        "# 입력 결괏값을 저장한 Trials 객체값 생성.\n",
        "trial_val = Trials()\n",
        "\n",
        "# 목적 함수의 최솟값을 반환하는 최적 입력 변숫값을 5번의 입력값 시도(max_evals=5)로 찾아냄.\n",
        "best_01 = fmin(fn=objective_func, space=search_space, algo=tpe.suggest, max_evals=5\n",
        "               , trials=trial_val, rstate=np.random.default_rng(seed=0))\n",
        "print('best:', best_01)"
      ]
    },
    {
      "cell_type": "code",
      "execution_count": null,
      "id": "b29e3a4d",
      "metadata": {
        "id": "b29e3a4d"
      },
      "outputs": [],
      "source": [
        "trial_val = Trials()\n",
        "\n",
        "# max_evals를 20회로 늘려서 재테스트\n",
        "best_02 = fmin(fn=objective_func, space=search_space, algo=tpe.suggest, max_evals=20\n",
        "               , trials=trial_val, rstate=np.random.default_rng(seed=0))\n",
        "print('best:', best_02)"
      ]
    },
    {
      "cell_type": "markdown",
      "id": "038dc6fd",
      "metadata": {
        "id": "038dc6fd"
      },
      "source": [
        "### max_evals의 값을 조정해서 최적해인 x=0에 가깝게 다가가는 최소 시도 횟수를 찾아보세요!"
      ]
    },
    {
      "cell_type": "markdown",
      "id": "51c47f43",
      "metadata": {
        "id": "51c47f43"
      },
      "source": [
        "### point : 명확한 답은 없지만, x=0(-0.0)에 근사하도록 여러분이 직접 값을 조정해보세요 :)"
      ]
    },
    {
      "cell_type": "code",
      "execution_count": null,
      "id": "9abc2f26",
      "metadata": {
        "id": "9abc2f26"
      },
      "outputs": [],
      "source": [
        "trial_val = Trials()\n",
        "\n",
        "# max_evals의 값을 대입해서 최적해를 찾아보세요요\n",
        "best_02 = fmin(fn=objective_func, space=search_space, algo=tpe.suggest, max_evals=\"___\"  ### 빈칸칸\n",
        "               , trials=trial_val, rstate=np.random.default_rng(seed=0))\n",
        "print('best:', best_02)"
      ]
    },
    {
      "cell_type": "markdown",
      "id": "f6bb0caa",
      "metadata": {
        "id": "f6bb0caa"
      },
      "source": [
        "----------------------------------------------------------------------------"
      ]
    },
    {
      "cell_type": "code",
      "execution_count": null,
      "id": "69910b83",
      "metadata": {
        "id": "69910b83"
      },
      "outputs": [],
      "source": [
        "# fmin( )에 인자로 들어가는 Trials 객체의 result 속성에 파이썬 리스트로 목적 함수 반환값들이 저장됨\n",
        "# 리스트 내부의 개별 원소는 {'loss':함수 반환값, 'status':반환 상태값} 와 같은 딕셔너리임.\n",
        "print(trial_val.results)"
      ]
    },
    {
      "cell_type": "code",
      "execution_count": null,
      "id": "4f52a94f",
      "metadata": {
        "id": "4f52a94f"
      },
      "outputs": [],
      "source": [
        "# Trials 객체의 vals 속성에 {'입력변수명':개별 수행 시마다 입력된 값 리스트} 형태로 저장됨.\n",
        "print(trial_val.vals)"
      ]
    },
    {
      "cell_type": "code",
      "execution_count": null,
      "id": "3596f8c2",
      "metadata": {
        "id": "3596f8c2"
      },
      "outputs": [],
      "source": [
        "import pandas as pd\n",
        "\n",
        "# results에서 loss 키값에 해당하는 밸류들을 추출하여 list로 생성.\n",
        "losses = [loss_dict['___'] for loss_dict in trial_val.results] ### 빈칸\n",
        "\n",
        "# DataFrame으로 생성.\n",
        "result_df = pd.DataFrame({'___': trial_val.vals['___'], '___': trial_val.vals['___'], '___': ___}) ### 빈칸칸\n",
        "result_df"
      ]
    },
    {
      "cell_type": "markdown",
      "id": "d93bbad2",
      "metadata": {
        "id": "d93bbad2"
      },
      "source": [
        "### losses 값이 작을수록, 정확도가 최대화된다!"
      ]
    },
    {
      "cell_type": "markdown",
      "source": [
        "#스태킹 앙상블-유방암 데이터\n",
        "*'##' 있는 데이 빈칸이 있습니다!"
      ],
      "metadata": {
        "id": "R8tcIjXXcf4_"
      },
      "id": "R8tcIjXXcf4_"
    },
    {
      "cell_type": "markdown",
      "source": [
        "##tran,test 데이터 분리 스태킹"
      ],
      "metadata": {
        "id": "WuNbxoH0I6md"
      },
      "id": "WuNbxoH0I6md"
    },
    {
      "cell_type": "markdown",
      "source": [
        "데이터 로드"
      ],
      "metadata": {
        "id": "mI1EfYN1xWtE"
      },
      "id": "mI1EfYN1xWtE"
    },
    {
      "cell_type": "code",
      "source": [
        "import numpy as np\n",
        "import pandas as pd\n",
        "\n",
        "from sklearn.neighbors import KNeighborsClassifier\n",
        "from sklearn.ensemble import RandomForestClassifier\n",
        "from sklearn.ensemble import AdaBoostClassifier\n",
        "from sklearn.tree import DecisionTreeClassifier\n",
        "from sklearn.linear_model import LogisticRegression\n",
        "\n",
        "from sklearn.datasets import load_breast_cancer\n",
        "from sklearn.model_selection import train_test_split\n",
        "from sklearn.metrics import accuracy_score\n",
        "\n",
        "cancer_data = load_breast_cancer()\n",
        "\n",
        "#'data'와 'target' 합치기\n",
        "pd.concat([pd.DataFrame(cancer_data.data, columns=cancer_data.feature_names), pd.DataFrame(cancer_data.target, columns=['target'])], axis=1)"
      ],
      "metadata": {
        "id": "NYAZPQoj7k3h"
      },
      "id": "NYAZPQoj7k3h",
      "execution_count": null,
      "outputs": []
    },
    {
      "cell_type": "markdown",
      "source": [
        "테스트셋분리"
      ],
      "metadata": {
        "id": "Ird65i-PxuPv"
      },
      "id": "Ird65i-PxuPv"
    },
    {
      "cell_type": "code",
      "source": [
        "X_data = cancer_data.data\n",
        "y_label = cancer_data.target\n",
        "\n",
        "X_train , X_test , y_train , y_test = train_test_split(X_data , y_label , test_size=0.2 , random_state=0)"
      ],
      "metadata": {
        "id": "d9YgeEk0ZO9J"
      },
      "execution_count": null,
      "outputs": [],
      "id": "d9YgeEk0ZO9J"
    },
    {
      "cell_type": "markdown",
      "source": [
        "개별모델,메타모델 객체 생성"
      ],
      "metadata": {
        "id": "RQeX8xqyxw7s"
      },
      "id": "RQeX8xqyxw7s"
    },
    {
      "cell_type": "code",
      "execution_count": null,
      "metadata": {
        "id": "mL6mzwy0WplR"
      },
      "outputs": [],
      "source": [
        "from re import X\n",
        "# 개별 ML 모델을 위한 Classifier 생성.\n",
        "knn_clf  = KNeighborsClassifier(n_neighbors=4)\n",
        "rf_clf = RandomForestClassifier(n_estimators=100, random_state=0)\n",
        "dt_clf = DecisionTreeClassifier()\n",
        "##Adaboost모델의 n_estimator는 결정트리의 개수를 의미하는 하이퍼파라미터입니다\n",
        "##결정트리 개수를 100 으로 지정해주세요\n",
        "ada_clf = AdaBoostClassifier(n_estimators=___)\n",
        "\n",
        "# 최종 Stacking 모델을 위한 Classifier생성.\n",
        "lr_final = LogisticRegression(C=10)"
      ],
      "id": "mL6mzwy0WplR"
    },
    {
      "cell_type": "markdown",
      "source": [
        " 개별 모델들을 학습"
      ],
      "metadata": {
        "id": "pFPnIszjx94R"
      },
      "id": "pFPnIszjx94R"
    },
    {
      "cell_type": "code",
      "source": [
        "knn_clf.fit(X_train, y_train)\n",
        "rf_clf.fit(X_train , y_train)\n",
        "dt_clf.fit(X_train , y_train)\n",
        "ada_clf.fit(X_train, y_train)"
      ],
      "metadata": {
        "id": "wbSIs21b7eoR"
      },
      "id": "wbSIs21b7eoR",
      "execution_count": null,
      "outputs": []
    },
    {
      "cell_type": "markdown",
      "source": [
        "예측"
      ],
      "metadata": {
        "id": "5iHWDOzex_fw"
      },
      "id": "5iHWDOzex_fw"
    },
    {
      "cell_type": "code",
      "source": [
        "# 학습된 개별 모델들이 각자 반환하는 예측 데이터 셋을 생성하고 개별 모델의 정확도 측정.\n",
        "knn_pred = knn_clf.predict(X_test)\n",
        "rf_pred = rf_clf.predict(X_test)\n",
        "dt_pred = dt_clf.predict(X_test)\n",
        "ada_pred = ada_clf.predict(X_test)\n",
        "\n",
        "print('KNN 정확도: {0:.4f}'.format(accuracy_score(y_test, knn_pred)))\n",
        "print('랜덤 포레스트 정확도: {0:.4f}'.format(accuracy_score(y_test, rf_pred)))\n",
        "print('결정 트리 정확도: {0:.4f}'.format(accuracy_score(y_test, dt_pred)))\n",
        "print('에이다부스트 정확도: {0:.4f} :'.format(accuracy_score(y_test, ada_pred)))"
      ],
      "metadata": {
        "id": "ydZgBuwW7nx1"
      },
      "id": "ydZgBuwW7nx1",
      "execution_count": null,
      "outputs": []
    },
    {
      "cell_type": "code",
      "source": [
        "##Q:제일 높은 정확도는?(수치를 쓰세요)\n",
        "##A:"
      ],
      "metadata": {
        "id": "B8QqH9C9AhFX"
      },
      "execution_count": null,
      "outputs": [],
      "id": "B8QqH9C9AhFX"
    },
    {
      "cell_type": "code",
      "source": [
        "#모델별 예측값 세로로 합치기\n",
        "##결정트리 예측값 입력\n",
        "pred = np.array([knn_pred, rf_pred,_______,ada_pred])\n",
        "print(pred.shape)\n",
        "\n",
        "# transpose를 이용해 행과 열의 위치 교환. 컬럼 레벨로 각 알고리즘의 예측 결과를 피처로 만듦.\n",
        "pred = np.transpose(pred)\n",
        "print(pred.shape)"
      ],
      "metadata": {
        "id": "9m0-IuRp7qVd"
      },
      "id": "9m0-IuRp7qVd",
      "execution_count": null,
      "outputs": []
    },
    {
      "cell_type": "code",
      "source": [
        "lr_final.fit(pred, y_test)\n",
        "final = lr_final.predict(pred)\n",
        "\n",
        "print('최종 메타 모델의 예측 정확도: {0:.4f}'.format(accuracy_score(y_test , final)))"
      ],
      "metadata": {
        "id": "5NZLMbC97r8O"
      },
      "id": "5NZLMbC97r8O",
      "execution_count": null,
      "outputs": []
    },
    {
      "cell_type": "markdown",
      "metadata": {
        "id": "RI-vVdQvWplS"
      },
      "source": [
        "## 교차검증 세트 기반의 스태킹"
      ],
      "id": "RI-vVdQvWplS"
    },
    {
      "cell_type": "markdown",
      "source": [
        "개별 기반 모델에서 최종 메타 모델이 사용할 학습 및 테스트용 데이터를 생성하기 위한 함수 작성"
      ],
      "metadata": {
        "id": "QKLskoowDFh3"
      },
      "id": "QKLskoowDFh3"
    },
    {
      "cell_type": "code",
      "execution_count": null,
      "metadata": {
        "id": "oRMCE2OeWplT"
      },
      "outputs": [],
      "source": [
        "from sklearn.model_selection import KFold\n",
        "from sklearn.metrics import mean_absolute_error\n",
        "\n",
        "def get_stacking_base_datasets(model, X_train_n, y_train_n, X_test_n, n_folds ):\n",
        "    # 지정된 n_folds값으로 KFold 생성.\n",
        "    kf = KFold(n_splits=n_folds, shuffle=False)\n",
        "    #추후에 메타 모델이 사용할 학습 데이터 반환을 위한 넘파이 배열 초기화\n",
        "    train_fold_pred = np.zeros((X_train_n.shape[0] ,1 ))\n",
        "    test_pred = np.zeros((X_test_n.shape[0],n_folds))\n",
        "    print(model.__class__.__name__ , ' model 시작 ')\n",
        "\n",
        "    for folder_counter , (train_index, valid_index) in enumerate(kf.split(X_train_n)):\n",
        "        #입력된 학습 데이터에서 기반 모델이 학습/예측할 폴드 데이터 셋 추출\n",
        "        print('\\t 폴드 세트: ',folder_counter,' 시작 ')\n",
        "        X_tr = X_train_n[train_index]\n",
        "        y_tr = y_train_n[train_index]\n",
        "        X_te = X_train_n[valid_index]\n",
        "\n",
        "        #폴드 세트 내부에서 다시 만들어진 학습 데이터로 기반 모델의 학습 수행.\n",
        "        model.fit(X_tr , y_tr)\n",
        "        #폴드 세트 내부에서 다시 만들어진 검증 데이터로 기반 모델 예측 후 데이터 저장.\n",
        "        train_fold_pred[valid_index, :] = model.predict(X_te).reshape(-1,1)\n",
        "        #입력된 원본 테스트 데이터를 폴드 세트내 학습된 기반 모델에서 예측 후 데이터 저장.\n",
        "        test_pred[:, folder_counter] = model.predict(X_test_n)\n",
        "\n",
        "    # 폴드 세트 내에서 원본 테스트 데이터를 예측한 데이터를 평균하여 테스트 데이터로 생성\n",
        "    test_pred_mean = np.mean(test_pred, axis=1).reshape(-1,1)\n",
        "\n",
        "    #train_fold_pred는 최종 메타 모델이 사용하는 학습 데이터, test_pred_mean은 테스트 데이터\n",
        "    return train_fold_pred , test_pred_mean"
      ],
      "id": "oRMCE2OeWplT"
    },
    {
      "cell_type": "markdown",
      "source": [
        "개별 모델별로 교차검증으로 데이터 학습"
      ],
      "metadata": {
        "id": "BoTFNmfWE6bO"
      },
      "id": "BoTFNmfWE6bO"
    },
    {
      "cell_type": "code",
      "execution_count": null,
      "metadata": {
        "colab": {
          "base_uri": "https://localhost:8080/"
        },
        "id": "M_nkVlhZWplT",
        "outputId": "e1e48ed8-bbea-41b5-e6fc-648e5a83c1a7"
      },
      "outputs": [
        {
          "output_type": "stream",
          "name": "stdout",
          "text": [
            "KNeighborsClassifier  model 시작 \n",
            "\t 폴드 세트:  0  시작 \n",
            "\t 폴드 세트:  1  시작 \n",
            "\t 폴드 세트:  2  시작 \n",
            "\t 폴드 세트:  3  시작 \n",
            "\t 폴드 세트:  4  시작 \n",
            "\t 폴드 세트:  5  시작 \n",
            "\t 폴드 세트:  6  시작 \n",
            "RandomForestClassifier  model 시작 \n",
            "\t 폴드 세트:  0  시작 \n",
            "\t 폴드 세트:  1  시작 \n",
            "\t 폴드 세트:  2  시작 \n",
            "\t 폴드 세트:  3  시작 \n",
            "\t 폴드 세트:  4  시작 \n",
            "\t 폴드 세트:  5  시작 \n",
            "\t 폴드 세트:  6  시작 \n",
            "DecisionTreeClassifier  model 시작 \n",
            "\t 폴드 세트:  0  시작 \n",
            "\t 폴드 세트:  1  시작 \n",
            "\t 폴드 세트:  2  시작 \n",
            "\t 폴드 세트:  3  시작 \n",
            "\t 폴드 세트:  4  시작 \n",
            "\t 폴드 세트:  5  시작 \n",
            "\t 폴드 세트:  6  시작 \n",
            "AdaBoostClassifier  model 시작 \n",
            "\t 폴드 세트:  0  시작 \n",
            "\t 폴드 세트:  1  시작 \n",
            "\t 폴드 세트:  2  시작 \n",
            "\t 폴드 세트:  3  시작 \n",
            "\t 폴드 세트:  4  시작 \n",
            "\t 폴드 세트:  5  시작 \n",
            "\t 폴드 세트:  6  시작 \n"
          ]
        }
      ],
      "source": [
        "##7겹교차검증을 수행해주세요\n",
        "knn_train, knn_test = get_stacking_base_datasets(knn_clf, X_train, y_train, X_test, _)\n",
        "rf_train, rf_test = get_stacking_base_datasets(rf_clf, X_train, y_train, X_test, _)\n",
        "dt_train, dt_test = get_stacking_base_datasets(dt_clf, X_train, y_train, X_test,  _)\n",
        "ada_train, ada_test = get_stacking_base_datasets(ada_clf, X_train, y_train, X_test, _)"
      ],
      "id": "M_nkVlhZWplT"
    },
    {
      "cell_type": "markdown",
      "source": [
        "개별 모델들의 예측값들을 합친 새로운 학습데이터 생성"
      ],
      "metadata": {
        "id": "494bs6n9HX2C"
      },
      "id": "494bs6n9HX2C"
    },
    {
      "cell_type": "code",
      "execution_count": null,
      "metadata": {
        "colab": {
          "base_uri": "https://localhost:8080/"
        },
        "id": "cmHFg6ThWplU",
        "outputId": "35b4018a-8fa7-4cef-c135-8dd102a460f1"
      },
      "outputs": [
        {
          "output_type": "stream",
          "name": "stdout",
          "text": [
            "원본 학습 피처 데이터 Shape: (455, 30) 원본 테스트 피처 Shape: (114, 30)\n",
            "스태킹 학습 피처 데이터 Shape: (455, 4) 스태킹 테스트 피처 데이터 Shape: (114, 4)\n"
          ]
        }
      ],
      "source": [
        "Stack_final_X_train = np.concatenate((knn_train, rf_train, dt_train, ada_train), axis=1)\n",
        "Stack_final_X_test = np.concatenate((knn_test, rf_test, dt_test, ada_test), axis=1)\n",
        "print('원본 학습 피처 데이터 Shape:',X_train.shape, '원본 테스트 피처 Shape:',X_test.shape)\n",
        "print('스태킹 학습 피처 데이터 Shape:', Stack_final_X_train.shape,\n",
        "      '스태킹 테스트 피처 데이터 Shape:',Stack_final_X_test.shape)"
      ],
      "id": "cmHFg6ThWplU"
    },
    {
      "cell_type": "code",
      "execution_count": null,
      "metadata": {
        "colab": {
          "base_uri": "https://localhost:8080/"
        },
        "id": "S8LQEtlMWplU",
        "outputId": "13069ee0-8cbd-4671-dc4d-ec118616e90f"
      },
      "outputs": [
        {
          "output_type": "stream",
          "name": "stdout",
          "text": [
            "최종 메타 모델의 예측 정확도: 0.9649\n"
          ]
        }
      ],
      "source": [
        "lr_final.fit(Stack_final_X_train, y_train)\n",
        "stack_final = lr_final.predict(Stack_final_X_test)\n",
        "\n",
        "print('최종 메타 모델의 예측 정확도: {0:.4f}'.format(accuracy_score(y_test, stack_final)))"
      ],
      "id": "S8LQEtlMWplU"
    },
    {
      "cell_type": "markdown",
      "source": [
        "#개별질문"
      ],
      "metadata": {
        "id": "Lyn0VjcIJHmI"
      },
      "id": "Lyn0VjcIJHmI"
    },
    {
      "cell_type": "code",
      "source": [
        "##Q: 이번 1차 프로젝트에서 사용한(사용할) 모델과 그 모델을 선택한 이유를 설명해주세요\n",
        "##A:"
      ],
      "metadata": {
        "id": "S5o2GHcNIJSp"
      },
      "execution_count": null,
      "outputs": [],
      "id": "S5o2GHcNIJSp"
    }
  ],
  "metadata": {
    "kernelspec": {
      "display_name": "Python 3",
      "language": "python",
      "name": "python3"
    },
    "language_info": {
      "codemirror_mode": {
        "name": "ipython",
        "version": 3
      },
      "file_extension": ".py",
      "mimetype": "text/x-python",
      "name": "python",
      "nbconvert_exporter": "python",
      "pygments_lexer": "ipython3",
      "version": "3.12.8"
    },
    "colab": {
      "provenance": []
    }
  },
  "nbformat": 4,
  "nbformat_minor": 5
}