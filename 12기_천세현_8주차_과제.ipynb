{
  "cells": [
    {
      "cell_type": "markdown",
      "metadata": {
        "id": "GWWjx_Q_gGLC"
      },
      "source": [
        "# 자연어세미나 과제: 코사인 유사도 실습\n",
        "\n",
        "## 1. 이론 요약\n",
        "\n",
        "- 코사인 유사도란 무엇인가요?\n",
        "- 왜 자연어 처리(NLP)에서 코사인 유사도를 사용하는지 서술하세요."
      ]
    },
    {
      "cell_type": "markdown",
      "metadata": {
        "id": "p9lGt3QRgGLF"
      },
      "source": [
        "답변 :두 벡터 간 코사인 각도가 작을수록 유사도가 높은 것으로 간주하며, 검색 키워드와 코사인 유사도가 높을수록 연관성 높은 키워드를 포함한 문서를 추천해줌."
      ]
    },
    {
      "cell_type": "markdown",
      "metadata": {
        "id": "pbmtWunbgGLG"
      },
      "source": [
        "## 2. 코사인 유사도 적용하기"
      ]
    },
    {
      "cell_type": "code",
      "execution_count": 2,
      "metadata": {
        "id": "vq5cpQd1gGLH",
        "outputId": "b0f4a6f7-e6aa-49fa-ce56-ae899ffb9b15",
        "colab": {
          "base_uri": "https://localhost:8080/"
        }
      },
      "outputs": [
        {
          "output_type": "stream",
          "name": "stdout",
          "text": [
            "코사인 유사도(직접 계산): 0.5773502691896258\n"
          ]
        }
      ],
      "source": [
        "# 예제 문장\n",
        "sentence_a = \"나는 파이썬을 좋아합니다.\"\n",
        "sentence_b = \"나는 파이썬과 자바를 공부합니다.\"\n",
        "\n",
        "# 단어 집합 만들기\n",
        "vocab = [\"나는\", \"파이썬\", \"좋아합니다\", \"자바\", \"공부합니다\"]\n",
        "\n",
        "# 벡터화\n",
        "vec_a = [1, 1, 1, 0, 0]\n",
        "vec_b = [1, 1, 0, 1, 1]\n",
        "\n",
        "import numpy as np\n",
        "\n",
        "# 코사인 유사도 직접 계산\n",
        "dot_product = np.dot(vec_a, vec_b)\n",
        "norm_a = np.linalg.norm(vec_a)\n",
        "norm_b = np.linalg.norm(vec_b)\n",
        "cosine_similarity = dot_product/(norm_a*norm_b)\n",
        "print(\"코사인 유사도(직접 계산):\", cosine_similarity)\n"
      ]
    },
    {
      "cell_type": "markdown",
      "metadata": {
        "id": "vpOQyeh3gGLK"
      },
      "source": [
        "## 3. 문장 유사도를 활용한 텍스트 분류 시스템 돌려보기\n",
        "입력 예시) 딥러닝 인공신경망"
      ]
    },
    {
      "cell_type": "code",
      "execution_count": 5,
      "metadata": {
        "id": "nVnZ9AbcgGLL",
        "outputId": "719595cb-7d43-4862-aff2-2b492c03e1f7",
        "colab": {
          "base_uri": "https://localhost:8080/"
        }
      },
      "outputs": [
        {
          "output_type": "stream",
          "name": "stdout",
          "text": [
            "===== 문장 분류 시스템 =====\n",
            "다음 중 가장 유사한 문장을 찾습니다:\n",
            "문장 A: 파이썬 프로그래밍 언어 입니다\n",
            "문장 B: 자연어 처리 컴퓨터 인간 언어 이해 기술 입니다\n",
            "문장 C: 머신러닝 데이터 기반 학습 알고리즘 입니다\n",
            "문장 D: 딥러닝 인공신경망 사용 기계학습 방법 입니다\n",
            "\n",
            "분류할 문장을 입력하세요: 자연스러운 기계학습\n",
            "생성된 단어장: ['데이터', '인공신경망', '파이썬', '알고리즘', '처리', '기계학습', '기술', '기반', '방법', '자연어', '사용', '컴퓨터', '인간', '딥러닝', '언어', '학습', '입니다', '프로그래밍', '머신러닝', '자연스러운', '이해']\n",
            "\n",
            "========= 유사도 결과 =========\n",
            "문장 D: 0.2887 - '딥러닝 인공신경망 사용 기계학습 방법 입니다'\n",
            "문장 A: 0.0000 - '파이썬 프로그래밍 언어 입니다'\n",
            "문장 B: 0.0000 - '자연어 처리 컴퓨터 인간 언어 이해 기술 입니다'\n",
            "문장 C: 0.0000 - '머신러닝 데이터 기반 학습 알고리즘 입니다'\n",
            "\n",
            "========= 최종 결과 =========\n",
            "입력 문장: '자연스러운 기계학습'\n",
            "가장 유사한 문장: 문장 D (유사도: 0.2887)\n",
            "'딥러닝 인공신경망 사용 기계학습 방법 입니다'\n"
          ]
        }
      ],
      "source": [
        "# 필요한 라이브러리 import\n",
        "import numpy as np\n",
        "\n",
        "# 1. 참조 문장 정의 (A, B, C, D) - 조사 제거하고 띄어쓰기 단위로 정리\n",
        "reference_sentences = {\n",
        "    'A': \"파이썬 프로그래밍 언어 입니다\",\n",
        "    'B': \"자연어 처리 컴퓨터 인간 언어 이해 기술 입니다\",\n",
        "    'C': \"머신러닝 데이터 기반 학습 알고리즘 입니다\",\n",
        "    'D': \"딥러닝 인공신경망 사용 기계학습 방법 입니다\"\n",
        "}\n",
        "\n",
        "# 2. 문장을 벡터로 변환하는 함수 (단순 띄어쓰기 분리)\n",
        "def sentence_to_vector(sentence, vocab):\n",
        "    tokens = sentence.split()\n",
        "    vector = [1 if token in tokens else 0 for token in vocab]\n",
        "    return vector\n",
        "\n",
        "# 3. 코사인 유사도를 직접 계산하는 함수\n",
        "def calculate_cosine_similarity(vec_a, vec_b):\n",
        "    # 내적 계산\n",
        "    dot_product = np.dot(vec_a, vec_b)\n",
        "    # 각 벡터의 크기(norm) 계산\n",
        "    norm_a = np.linalg.norm(vec_a)\n",
        "    norm_b = np.linalg.norm(vec_b)\n",
        "    # 코사인 유사도 계산\n",
        "    cosine_similarity = dot_product / (norm_a * norm_b)\n",
        "    return cosine_similarity\n",
        "\n",
        "# 4. 메인 함수: 사용자 입력과 참조 문장들 간의 유사도 계산\n",
        "def find_most_similar_sentence(user_input):\n",
        "    # 모든 문장 모으기\n",
        "    all_sentences = list(reference_sentences.values()) + [user_input]\n",
        "\n",
        "    # 토큰화 (단순 띄어쓰기)\n",
        "    all_tokens = []\n",
        "    for sentence in all_sentences:\n",
        "        all_tokens.extend(sentence.split())\n",
        "\n",
        "    # 단어장 만들기\n",
        "    vocab = list(set(all_tokens))\n",
        "    print(\"생성된 단어장:\", vocab)\n",
        "\n",
        "    # 모든 문장을 벡터로 변환\n",
        "    vectors = []\n",
        "    for sentence in all_sentences:\n",
        "        vector = sentence_to_vector(sentence, vocab)\n",
        "        vectors.append(vector)\n",
        "\n",
        "    # 마지막 벡터가 사용자 입력 벡터\n",
        "    user_vector = vectors[-1]\n",
        "    reference_vectors = vectors[:-1]\n",
        "\n",
        "    # 유사도 계산 (numpy 직접 사용)\n",
        "    similarities = {}\n",
        "    for idx, (label, sentence) in enumerate(reference_sentences.items()):\n",
        "        # 직접 계산 함수 사용\n",
        "        sim = calculate_cosine_similarity(user_vector, reference_vectors[idx])\n",
        "        similarities[label] = sim\n",
        "\n",
        "    # 결과 정렬 및 출력\n",
        "    sorted_similarities = sorted(similarities.items(), key=lambda x: x[1], reverse=True)\n",
        "\n",
        "    print(\"\\n========= 유사도 결과 =========\")\n",
        "    for label, sim in sorted_similarities:\n",
        "        print(f\"문장 {label}: {sim:.4f} - '{reference_sentences[label]}'\")\n",
        "\n",
        "    # 가장 유사한 문장 찾기\n",
        "    most_similar_label = sorted_similarities[0][0]\n",
        "\n",
        "    return most_similar_label, sorted_similarities[0][1]\n",
        "\n",
        "# 5. 사용자 입력 받기 및 결과 출력\n",
        "def classify_text():\n",
        "    print(\"===== 문장 분류 시스템 =====\")\n",
        "    print(\"다음 중 가장 유사한 문장을 찾습니다:\")\n",
        "    for label, sentence in reference_sentences.items():\n",
        "        print(f\"문장 {label}: {sentence}\")\n",
        "\n",
        "    user_input = input(\"\\n분류할 문장을 입력하세요: \")\n",
        "\n",
        "    most_similar_label, similarity = find_most_similar_sentence(user_input)\n",
        "\n",
        "    print(\"\\n========= 최종 결과 =========\")\n",
        "    print(f\"입력 문장: '{user_input}'\")\n",
        "    print(f\"가장 유사한 문장: 문장 {most_similar_label} (유사도: {similarity:.4f})\")\n",
        "    print(f\"'{reference_sentences[most_similar_label]}'\")\n",
        "\n",
        "# 실행\n",
        "classify_text()"
      ]
    }
  ],
  "metadata": {
    "kernelspec": {
      "display_name": "base",
      "language": "python",
      "name": "python3"
    },
    "language_info": {
      "codemirror_mode": {
        "name": "ipython",
        "version": 3
      },
      "file_extension": ".py",
      "mimetype": "text/x-python",
      "name": "python",
      "nbconvert_exporter": "python",
      "pygments_lexer": "ipython3",
      "version": "3.12.4"
    },
    "colab": {
      "provenance": []
    }
  },
  "nbformat": 4,
  "nbformat_minor": 0
}