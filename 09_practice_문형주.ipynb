{
 "cells": [
  {
   "cell_type": "markdown",
   "metadata": {},
   "source": [
    "## 202114277 문형주"
   ]
  },
  {
   "cell_type": "markdown",
   "metadata": {},
   "source": [
    "# 문자열 추출하기"
   ]
  },
  {
   "cell_type": "code",
   "execution_count": 5,
   "metadata": {},
   "outputs": [
    {
     "name": "stdout",
     "output_type": "stream",
     "text": [
      "g\n",
      "a\n",
      "gra\n",
      "h\n",
      "a\n",
      "a\n"
     ]
    }
   ],
   "source": [
    "word='grail'\n",
    "sent='a scratch'\n",
    "\n",
    "print(word[0])\n",
    "print(sent[0])\n",
    "\n",
    "print(word[0:3])\n",
    "print(sent[-1])\n",
    "\n",
    "print(sent[-9:-8])\n",
    "print(sent[0:-8])"
   ]
  },
  {
   "cell_type": "markdown",
   "metadata": {},
   "source": [
    "# 전체 문자열 추출하기"
   ]
  },
  {
   "cell_type": "code",
   "execution_count": 6,
   "metadata": {},
   "outputs": [
    {
     "name": "stdout",
     "output_type": "stream",
     "text": [
      "scratch\n"
     ]
    }
   ],
   "source": [
    "s_len=len(sent)\n",
    "print(sent[2:s_len])"
   ]
  },
  {
   "cell_type": "markdown",
   "metadata": {},
   "source": [
    "# 왼쪽이나 오른쪽 범위를 지정하지 않고 문자열 추출하기"
   ]
  },
  {
   "cell_type": "code",
   "execution_count": 8,
   "metadata": {},
   "outputs": [
    {
     "name": "stdout",
     "output_type": "stream",
     "text": [
      "gra\n",
      "gra\n",
      "scratch\n",
      "a scratch\n",
      "asrth\n"
     ]
    }
   ],
   "source": [
    "print(word[0:3])\n",
    "print(word[:3])\n",
    "print(sent[2:len(sent)])\n",
    "print(sent[:])\n",
    "print(sent[::2])"
   ]
  },
  {
   "cell_type": "markdown",
   "metadata": {},
   "source": [
    "# join, splitlines, replace 메서드 실습하기"
   ]
  },
  {
   "cell_type": "code",
   "execution_count": 21,
   "metadata": {},
   "outputs": [
    {
     "name": "stdout",
     "output_type": "stream",
     "text": [
      "40 46 52.837 N 73 58 26.302 w \n",
      "\n",
      "Guard:What? Ridden on a horse?\n",
      "King Arthur:Yes!\n",
      "Guard:You're using coconuts!\n",
      "King Arthur: What?\n",
      "Guard: You've got . .. coconut[s] and you're bangin ' 'em together.\n",
      " \n",
      "\n",
      "['Guard:What? Ridden on a horse?', 'King Arthur:Yes!', \"Guard:You're using coconuts!\", 'King Arthur: What?', \"Guard: You've got . .. coconut[s] and you're bangin ' 'em together.\"] \n",
      "\n",
      "['Guard:What? Ridden on a horse?', \"Guard:You're using coconuts!\", \"Guard: You've got . .. coconut[s] and you're bangin ' 'em together.\"]\n",
      "['What? Ridden on a horse?', \"You're using coconuts!\", \" You've got . .. coconut[s] and you're bangin ' 'em together.\"]\n"
     ]
    }
   ],
   "source": [
    "d1='40'\n",
    "m1='46'\n",
    "s1='52.837'\n",
    "u1='N'\n",
    "\n",
    "d2='73'\n",
    "m2='58'\n",
    "s2='26.302'\n",
    "u2='w'\n",
    "\n",
    "coords=' '.join([d1,m1,s1,u1,d2,m2,s2,u2])\n",
    "print(coords,'\\n')\n",
    "\n",
    "multi_str='''Guard:What? Ridden on a horse?\n",
    "King Arthur:Yes!\n",
    "Guard:You're using coconuts!\n",
    "King Arthur: What?\n",
    "Guard: You've got . .. coconut[s] and you're bangin ' 'em together.\n",
    "'''\n",
    "print(multi_str,'\\n')\n",
    "\n",
    "multi_split_str=multi_str.splitlines()\n",
    "print(multi_split_str,'\\n')\n",
    "\n",
    "guard=multi_split_str[::2]\n",
    "print(guard)\n",
    "\n",
    "guard=multi_str.replace(\"Guard:\",\"\").splitlines()[::2]\n",
    "print(guard)"
   ]
  },
  {
   "cell_type": "markdown",
   "metadata": {},
   "source": [
    "# 문자열 포매팅 실습하기"
   ]
  },
  {
   "cell_type": "code",
   "execution_count": 23,
   "metadata": {},
   "outputs": [
    {
     "name": "stdout",
     "output_type": "stream",
     "text": [
      "It's just a flesh wound!\n",
      "Hayden Planetarium Coordinates:40.7815 N,73.9733 W\n"
     ]
    }
   ],
   "source": [
    "var='flesh wound'\n",
    "s=\"It's just a {}!\"\n",
    "print(s.format(var))\n",
    "\n",
    "s='Hayden Planetarium Coordinates:{lat},{lon}'\n",
    "print(s.format(lat='40.7815 N',lon='73.9733 W'))"
   ]
  },
  {
   "cell_type": "markdown",
   "metadata": {},
   "source": [
    "# 수치값 포매팅 실습"
   ]
  },
  {
   "cell_type": "code",
   "execution_count": 24,
   "metadata": {},
   "outputs": [
    {
     "name": "stdout",
     "output_type": "stream",
     "text": [
      "Some digits of pi : 3.141592\n",
      "In 2005, Lu Chao of China recited 67,890 digits of pi\n"
     ]
    }
   ],
   "source": [
    "print('Some digits of pi : {}'.format(3.141592))\n",
    "print('In 2005, Lu Chao of China recited {:,} digits of pi'.format(67890))"
   ]
  },
  {
   "cell_type": "markdown",
   "metadata": {},
   "source": [
    "# % 연산자로 포매팅하기"
   ]
  },
  {
   "cell_type": "code",
   "execution_count": 32,
   "metadata": {},
   "outputs": [
    {
     "name": "stdout",
     "output_type": "stream",
     "text": [
      "I remember 0.0001031 or 0.0103% of what Lu Chao recited\n",
      "I only know 7 digits of pi\n",
      "Some digits of e: 2.72\n"
     ]
    }
   ],
   "source": [
    "print(\"I remember {0:.4} or {0:.4%} of what Lu Chao recited\".format(7/67890))\n",
    "\n",
    "s='I only know %d digits of pi' % 7\n",
    "print(s)\n",
    "print('Some digits of %(cont)s: %(value).2f' % {'cont':'e','value':2.718})"
   ]
  },
  {
   "cell_type": "markdown",
   "metadata": {},
   "source": [
    "# f-strings로 포매팅 사용하기"
   ]
  },
  {
   "cell_type": "code",
   "execution_count": 33,
   "metadata": {},
   "outputs": [
    {
     "name": "stdout",
     "output_type": "stream",
     "text": [
      "It's just a flesh wound!\n"
     ]
    }
   ],
   "source": [
    "var='flesh wound'\n",
    "s=f\"It's just a {var}!\"\n",
    "print(s)"
   ]
  },
  {
   "cell_type": "markdown",
   "metadata": {},
   "source": [
    "# 정규식으로 전화번호 패턴 찾기"
   ]
  },
  {
   "cell_type": "code",
   "execution_count": 37,
   "metadata": {},
   "outputs": [
    {
     "name": "stdout",
     "output_type": "stream",
     "text": [
      "<class 're.Match'>\n",
      "<re.Match object; span=(0, 10), match='1234567890'>\n",
      "True\n",
      "match\n"
     ]
    }
   ],
   "source": [
    "import re\n",
    "tele_num='1234567890'\n",
    "m=re.match(pattern='\\d\\d\\d\\d\\d\\d\\d\\d\\d\\d',string=tele_num)\n",
    "print(type(m))\n",
    "print(m)\n",
    "\n",
    "print(bool(m))\n",
    "if m:\n",
    "    print('match')\n",
    "else:\n",
    "    print('no match')\n"
   ]
  },
  {
   "cell_type": "markdown",
   "metadata": {},
   "source": [
    "# compile 메서드로 정규식 메서드 사용하기"
   ]
  },
  {
   "cell_type": "code",
   "execution_count": 38,
   "metadata": {},
   "outputs": [
    {
     "name": "stdout",
     "output_type": "stream",
     "text": [
      "<re.Match object; span=(0, 10), match='1234567890'>\n"
     ]
    }
   ],
   "source": [
    "p=re.compile('\\d{10}')\n",
    "s='1234567890'\n",
    "m=p.match(s)\n",
    "print(m)"
   ]
  }
 ],
 "metadata": {
  "kernelspec": {
   "display_name": "Python 3 (ipykernel)",
   "language": "python",
   "name": "python3"
  },
  "language_info": {
   "codemirror_mode": {
    "name": "ipython",
    "version": 3
   },
   "file_extension": ".py",
   "mimetype": "text/x-python",
   "name": "python",
   "nbconvert_exporter": "python",
   "pygments_lexer": "ipython3",
   "version": "3.11.7"
  }
 },
 "nbformat": 4,
 "nbformat_minor": 4
}
