{
 "cells": [
  {
   "cell_type": "code",
   "execution_count": 24,
   "id": "b095b3a2-af89-4185-80c9-8ca048d36441",
   "metadata": {},
   "outputs": [
    {
     "name": "stdout",
     "output_type": "stream",
     "text": [
      "1.3.0\n"
     ]
    }
   ],
   "source": [
    "import sklearn\n",
    "print(sklearn.__version__)\n",
    "from sklearn.impute import SimpleImputer"
   ]
  },
  {
   "cell_type": "code",
   "execution_count": 34,
   "id": "5e322b83-f535-4cdf-a995-649c96c5129e",
   "metadata": {},
   "outputs": [
    {
     "name": "stdout",
     "output_type": "stream",
     "text": [
      "            id      Name  Gender   Age           City  \\\n",
      "0            0  Aaradhya  Female  49.0       Ludhiana   \n",
      "1            1     Vivan    Male  26.0       Varanasi   \n",
      "2            2    Yuvraj    Male  33.0  Visakhapatnam   \n",
      "3            3    Yuvraj    Male  22.0         Mumbai   \n",
      "4            4      Rhea  Female  30.0         Kanpur   \n",
      "...        ...       ...     ...   ...            ...   \n",
      "140695  140695     Vidya  Female  18.0      Ahmedabad   \n",
      "140696  140696      Lata  Female  41.0      Hyderabad   \n",
      "140697  140697   Aanchal  Female  24.0        Kolkata   \n",
      "140698  140698    Prachi  Female  49.0       Srinagar   \n",
      "140699  140699       Sai    Male  27.0          Patna   \n",
      "\n",
      "       Working Professional or Student         Profession  Academic Pressure  \\\n",
      "0                 Working Professional               Chef                NaN   \n",
      "1                 Working Professional            Teacher                NaN   \n",
      "2                              Student                NaN                5.0   \n",
      "3                 Working Professional            Teacher                NaN   \n",
      "4                 Working Professional   Business Analyst                NaN   \n",
      "...                                ...                ...                ...   \n",
      "140695            Working Professional                NaN                NaN   \n",
      "140696            Working Professional     Content Writer                NaN   \n",
      "140697            Working Professional  Marketing Manager                NaN   \n",
      "140698            Working Professional            Plumber                NaN   \n",
      "140699                         Student                NaN                4.0   \n",
      "\n",
      "        Work Pressure  CGPA  Study Satisfaction  Job Satisfaction  \\\n",
      "0                 5.0   NaN                 NaN               2.0   \n",
      "1                 4.0   NaN                 NaN               3.0   \n",
      "2                 NaN  8.97                 2.0               NaN   \n",
      "3                 5.0   NaN                 NaN               1.0   \n",
      "4                 1.0   NaN                 NaN               1.0   \n",
      "...               ...   ...                 ...               ...   \n",
      "140695            5.0   NaN                 NaN               4.0   \n",
      "140696            5.0   NaN                 NaN               4.0   \n",
      "140697            3.0   NaN                 NaN               1.0   \n",
      "140698            5.0   NaN                 NaN               2.0   \n",
      "140699            NaN  9.24                 1.0               NaN   \n",
      "\n",
      "           Sleep Duration Dietary Habits    Degree  \\\n",
      "0       More than 8 hours        Healthy       BHM   \n",
      "1       Less than 5 hours      Unhealthy       LLB   \n",
      "2               5-6 hours        Healthy   B.Pharm   \n",
      "3       Less than 5 hours       Moderate       BBA   \n",
      "4               5-6 hours      Unhealthy       BBA   \n",
      "...                   ...            ...       ...   \n",
      "140695          5-6 hours      Unhealthy  Class 12   \n",
      "140696          7-8 hours       Moderate    B.Tech   \n",
      "140697  More than 8 hours       Moderate     B.Com   \n",
      "140698          5-6 hours       Moderate        ME   \n",
      "140699  Less than 5 hours        Healthy       BCA   \n",
      "\n",
      "       Have you ever had suicidal thoughts ?  Work/Study Hours  \\\n",
      "0                                         No               1.0   \n",
      "1                                        Yes               7.0   \n",
      "2                                        Yes               3.0   \n",
      "3                                        Yes              10.0   \n",
      "4                                        Yes               9.0   \n",
      "...                                      ...               ...   \n",
      "140695                                    No               2.0   \n",
      "140696                                   Yes               6.0   \n",
      "140697                                    No               4.0   \n",
      "140698                                   Yes              10.0   \n",
      "140699                                   Yes               2.0   \n",
      "\n",
      "        Financial Stress Family History of Mental Illness  Depression  \n",
      "0                    2.0                               No           0  \n",
      "1                    3.0                               No           1  \n",
      "2                    1.0                               No           1  \n",
      "3                    1.0                              Yes           1  \n",
      "4                    4.0                              Yes           0  \n",
      "...                  ...                              ...         ...  \n",
      "140695               4.0                              Yes           1  \n",
      "140696               5.0                              Yes           0  \n",
      "140697               4.0                               No           0  \n",
      "140698               1.0                               No           0  \n",
      "140699               3.0                              Yes           1  \n",
      "\n",
      "[140700 rows x 20 columns]\n"
     ]
    }
   ],
   "source": [
    "import pandas as pd\n",
    "\n",
    "# 데이터 로드\n",
    "train = pd.read_csv('train.csv')\n",
    "print(train)"
   ]
  },
  {
   "cell_type": "code",
   "execution_count": 36,
   "id": "9d5193d7-133f-4543-aa78-27f1d5894864",
   "metadata": {},
   "outputs": [
    {
     "name": "stdout",
     "output_type": "stream",
     "text": [
      "        Name  Gender   Age           City Working Professional or Student  \\\n",
      "id                                                                          \n",
      "0   Aaradhya  Female  49.0       Ludhiana            Working Professional   \n",
      "1      Vivan    Male  26.0       Varanasi            Working Professional   \n",
      "2     Yuvraj    Male  33.0  Visakhapatnam                         Student   \n",
      "3     Yuvraj    Male  22.0         Mumbai            Working Professional   \n",
      "4       Rhea  Female  30.0         Kanpur            Working Professional   \n",
      "\n",
      "          Profession  Academic Pressure  Work Pressure  CGPA  \\\n",
      "id                                                             \n",
      "0               Chef                NaN            5.0   NaN   \n",
      "1            Teacher                NaN            4.0   NaN   \n",
      "2                NaN                5.0            NaN  8.97   \n",
      "3            Teacher                NaN            5.0   NaN   \n",
      "4   Business Analyst                NaN            1.0   NaN   \n",
      "\n",
      "    Study Satisfaction  Job Satisfaction     Sleep Duration Dietary Habits  \\\n",
      "id                                                                           \n",
      "0                  NaN               2.0  More than 8 hours        Healthy   \n",
      "1                  NaN               3.0  Less than 5 hours      Unhealthy   \n",
      "2                  2.0               NaN          5-6 hours        Healthy   \n",
      "3                  NaN               1.0  Less than 5 hours       Moderate   \n",
      "4                  NaN               1.0          5-6 hours      Unhealthy   \n",
      "\n",
      "     Degree Have you ever had suicidal thoughts ?  Work/Study Hours  \\\n",
      "id                                                                    \n",
      "0       BHM                                    No               1.0   \n",
      "1       LLB                                   Yes               7.0   \n",
      "2   B.Pharm                                   Yes               3.0   \n",
      "3       BBA                                   Yes              10.0   \n",
      "4       BBA                                   Yes               9.0   \n",
      "\n",
      "    Financial Stress Family History of Mental Illness  Depression  \n",
      "id                                                                 \n",
      "0                2.0                               No           0  \n",
      "1                3.0                               No           1  \n",
      "2                1.0                               No           1  \n",
      "3                1.0                              Yes           1  \n",
      "4                4.0                              Yes           0  \n"
     ]
    }
   ],
   "source": [
    "#id를 rowname으로 만들기\n",
    "train.set_index('id', inplace=True)\n",
    "print(train.head())"
   ]
  },
  {
   "cell_type": "code",
   "execution_count": 48,
   "id": "819dba0b-52c4-4c05-97ae-3a301558ddb0",
   "metadata": {},
   "outputs": [
    {
     "name": "stdout",
     "output_type": "stream",
     "text": [
      "        Pressure  Work Pressure  Academic Pressure  Satisfaction  \\\n",
      "id                                                                 \n",
      "0            5.0            5.0                NaN           2.0   \n",
      "1            4.0            4.0                NaN           3.0   \n",
      "2            5.0            NaN                5.0           2.0   \n",
      "3            5.0            5.0                NaN           1.0   \n",
      "4            1.0            1.0                NaN           1.0   \n",
      "...          ...            ...                ...           ...   \n",
      "140695       5.0            5.0                NaN           4.0   \n",
      "140696       5.0            5.0                NaN           4.0   \n",
      "140697       3.0            3.0                NaN           1.0   \n",
      "140698       5.0            5.0                NaN           2.0   \n",
      "140699       4.0            NaN                4.0           1.0   \n",
      "\n",
      "        Job Satisfaction  Study Satisfaction  \n",
      "id                                            \n",
      "0                    2.0                 NaN  \n",
      "1                    3.0                 NaN  \n",
      "2                    NaN                 2.0  \n",
      "3                    1.0                 NaN  \n",
      "4                    1.0                 NaN  \n",
      "...                  ...                 ...  \n",
      "140695               4.0                 NaN  \n",
      "140696               4.0                 NaN  \n",
      "140697               1.0                 NaN  \n",
      "140698               2.0                 NaN  \n",
      "140699               NaN                 1.0  \n",
      "\n",
      "[140700 rows x 6 columns]\n"
     ]
    }
   ],
   "source": [
    "#pressure / satisfaction 열 병합\n",
    "train['Pressure'] = train['Work Pressure'].combine_first(train['Academic Pressure'])\n",
    "train['Satisfaction'] = train['Job Satisfaction'].combine_first(train['Study Satisfaction'])\n",
    "print(train[['Pressure','Work Pressure','Academic Pressure','Satisfaction','Job Satisfaction','Study Satisfaction']])"
   ]
  },
  {
   "cell_type": "code",
   "execution_count": 50,
   "id": "7c667f46-33a3-47e9-88bd-37937dd4c097",
   "metadata": {},
   "outputs": [
    {
     "name": "stdout",
     "output_type": "stream",
     "text": [
      "         Age Age Group\n",
      "id                    \n",
      "0       49.0     45-49\n",
      "1       26.0     25-29\n",
      "2       33.0     30-34\n",
      "3       22.0     20-24\n",
      "4       30.0     30-34\n",
      "...      ...       ...\n",
      "140695  18.0     15-19\n",
      "140696  41.0     40-44\n",
      "140697  24.0     20-24\n",
      "140698  49.0     45-49\n",
      "140699  27.0     25-29\n",
      "\n",
      "[140700 rows x 2 columns]\n"
     ]
    }
   ],
   "source": [
    "#age 열 범주화\n",
    "bins = range(0, 101, 5)  # 0부터 100까지 5단위로 구간 생성\n",
    "labels = [f\"{i}-{i+4}\" for i in bins[:-1]]  # 범주 레이블 생성\n",
    "train['Age Group'] = pd.cut(train['Age'], bins=bins, labels=labels, right=False)\n",
    "print(train[['Age', 'Age Group']])"
   ]
  },
  {
   "cell_type": "code",
   "execution_count": 54,
   "id": "ffe04fb2-7c50-4eb8-ac89-50661405c90a",
   "metadata": {},
   "outputs": [
    {
     "name": "stdout",
     "output_type": "stream",
     "text": [
      "    Gender   Age Working Professional or Student        Profession  CGPA  \\\n",
      "id                                                                         \n",
      "0   Female  49.0            Working Professional              Chef   NaN   \n",
      "1     Male  26.0            Working Professional           Teacher   NaN   \n",
      "2     Male  33.0                         Student               NaN  8.97   \n",
      "3     Male  22.0            Working Professional           Teacher   NaN   \n",
      "4   Female  30.0            Working Professional  Business Analyst   NaN   \n",
      "\n",
      "       Sleep Duration Dietary Habits   Degree  \\\n",
      "id                                              \n",
      "0   More than 8 hours        Healthy      BHM   \n",
      "1   Less than 5 hours      Unhealthy      LLB   \n",
      "2           5-6 hours        Healthy  B.Pharm   \n",
      "3   Less than 5 hours       Moderate      BBA   \n",
      "4           5-6 hours      Unhealthy      BBA   \n",
      "\n",
      "   Have you ever had suicidal thoughts ?  Work/Study Hours  Financial Stress  \\\n",
      "id                                                                             \n",
      "0                                     No               1.0               2.0   \n",
      "1                                    Yes               7.0               3.0   \n",
      "2                                    Yes               3.0               1.0   \n",
      "3                                    Yes              10.0               1.0   \n",
      "4                                    Yes               9.0               4.0   \n",
      "\n",
      "   Family History of Mental Illness  Depression  Pressure  Satisfaction  \\\n",
      "id                                                                        \n",
      "0                                No           0       5.0           2.0   \n",
      "1                                No           1       4.0           3.0   \n",
      "2                                No           1       5.0           2.0   \n",
      "3                               Yes           1       5.0           1.0   \n",
      "4                               Yes           0       1.0           1.0   \n",
      "\n",
      "   Age Group  \n",
      "id            \n",
      "0      45-49  \n",
      "1      25-29  \n",
      "2      30-34  \n",
      "3      20-24  \n",
      "4      30-34  \n"
     ]
    }
   ],
   "source": [
    "#name, city 및 병합 이전의 열 삭제\n",
    "train.drop(columns=['Name', 'City','Work Pressure','Academic Pressure','Job Satisfaction','Study Satisfaction'], inplace=True)\n",
    "print(train.head())"
   ]
  },
  {
   "cell_type": "code",
   "execution_count": 58,
   "id": "85663f1b-a942-4b14-98e9-172b7cb42b33",
   "metadata": {},
   "outputs": [
    {
     "name": "stdout",
     "output_type": "stream",
     "text": [
      "    Gender   Age  CGPA     Sleep Duration Dietary Habits   Degree  \\\n",
      "id                                                                  \n",
      "0   Female  49.0   NaN  More than 8 hours        Healthy      BHM   \n",
      "1     Male  26.0   NaN  Less than 5 hours      Unhealthy      LLB   \n",
      "2     Male  33.0  8.97          5-6 hours        Healthy  B.Pharm   \n",
      "3     Male  22.0   NaN  Less than 5 hours       Moderate      BBA   \n",
      "4   Female  30.0   NaN          5-6 hours      Unhealthy      BBA   \n",
      "\n",
      "   Have you ever had suicidal thoughts ?  Work/Study Hours  Financial Stress  \\\n",
      "id                                                                             \n",
      "0                                     No               1.0               2.0   \n",
      "1                                    Yes               7.0               3.0   \n",
      "2                                    Yes               3.0               1.0   \n",
      "3                                    Yes              10.0               1.0   \n",
      "4                                    Yes               9.0               4.0   \n",
      "\n",
      "   Family History of Mental Illness  Depression  Pressure  Satisfaction  \\\n",
      "id                                                                        \n",
      "0                                No           0       5.0           2.0   \n",
      "1                                No           1       4.0           3.0   \n",
      "2                                No           1       5.0           2.0   \n",
      "3                               Yes           1       5.0           1.0   \n",
      "4                               Yes           0       1.0           1.0   \n",
      "\n",
      "   Age Group               Job  \n",
      "id                              \n",
      "0      45-49              Chef  \n",
      "1      25-29           Teacher  \n",
      "2      30-34           Student  \n",
      "3      20-24           Teacher  \n",
      "4      30-34  Business Analyst  \n"
     ]
    }
   ],
   "source": [
    "#profession에 student 추가 후 기존 열 삭제\n",
    "train['Job'] = train['Profession'].combine_first(train['Working Professional or Student'])\n",
    "train.drop(columns=['Profession','Working Professional or Student'],inplace=True)\n",
    "print(train.head())"
   ]
  },
  {
   "cell_type": "code",
   "execution_count": 70,
   "id": "dd57920c-cead-476c-b0b5-93718ec8873f",
   "metadata": {},
   "outputs": [
    {
     "name": "stdout",
     "output_type": "stream",
     "text": [
      "   Have you ever had suicidal thoughts ?  Family History of Mental Illness\n",
      "0                                      0                                 0\n",
      "1                                      1                                 0\n",
      "2                                      1                                 0\n",
      "3                                      1                                 1\n",
      "4                                      1                                 1\n"
     ]
    }
   ],
   "source": [
    "#자살생각과 가족력 yes=1,no=0으로 맵핑\n",
    "train['Have you ever had suicidal thoughts ?'] = train['Have you ever had suicidal thoughts ?'].map({'No': 0, 'Yes': 1})\n",
    "train['Family History of Mental Illness'] = train['Family History of Mental Illness'].map({'No': 0, 'Yes': 1})\n",
    "print(data[['Have you ever had suicidal thoughts ?', 'Family History of Mental Illness']].head())"
   ]
  },
  {
   "cell_type": "code",
   "execution_count": 72,
   "id": "8ced839c-531a-482f-9f7d-a14dd7e8b7da",
   "metadata": {},
   "outputs": [],
   "source": [
    "train.to_csv('train_1.0.csv', index=False)"
   ]
  },
  {
   "cell_type": "code",
   "execution_count": null,
   "id": "713ebf63-9010-4da5-9c0c-d98a41689443",
   "metadata": {},
   "outputs": [],
   "source": []
  }
 ],
 "metadata": {
  "kernelspec": {
   "display_name": "Python 3 (ipykernel)",
   "language": "python",
   "name": "python3"
  },
  "language_info": {
   "codemirror_mode": {
    "name": "ipython",
    "version": 3
   },
   "file_extension": ".py",
   "mimetype": "text/x-python",
   "name": "python",
   "nbconvert_exporter": "python",
   "pygments_lexer": "ipython3",
   "version": "3.12.4"
  }
 },
 "nbformat": 4,
 "nbformat_minor": 5
}
