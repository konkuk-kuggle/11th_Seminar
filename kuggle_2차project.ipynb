{
  "cells": [
    {
      "cell_type": "code",
      "execution_count": 227,
      "id": "158506d9-e3c7-47a0-a329-5301e0cdccaa",
      "metadata": {
        "id": "158506d9-e3c7-47a0-a329-5301e0cdccaa"
      },
      "outputs": [],
      "source": [
        "import sqlite3\n",
        "import pandas as pd"
      ]
    },
    {
      "cell_type": "code",
      "execution_count": 228,
      "id": "977a0ee8-cba3-4fdf-8294-18a8ef5bf599",
      "metadata": {
        "id": "977a0ee8-cba3-4fdf-8294-18a8ef5bf599"
      },
      "outputs": [],
      "source": [
        "db_path = \"/content/database.sqlite\"\n",
        "conn = sqlite3.connect(db_path)"
      ]
    },
    {
      "cell_type": "code",
      "execution_count": 229,
      "id": "245a1b87-def2-42d6-b208-8335c20bdef5",
      "metadata": {
        "id": "245a1b87-def2-42d6-b208-8335c20bdef5"
      },
      "outputs": [],
      "source": [
        "# Match 테이블 불러오기\n",
        "# 변수가 100개가 넘어서 모델링에 사용할 변수만 선택\n",
        "query = \"\"\"\n",
        "SELECT\n",
        "    match_api_id, date, season, stage,\n",
        "    home_team_api_id, away_team_api_id,\n",
        "    home_team_goal, away_team_goal,\n",
        "    home_player_1, home_player_2, home_player_3, home_player_4, home_player_5,\n",
        "    home_player_6, home_player_7, home_player_8, home_player_9, home_player_10, home_player_11,\n",
        "    away_player_1, away_player_2, away_player_3, away_player_4, away_player_5,\n",
        "    away_player_6, away_player_7, away_player_8, away_player_9, away_player_10, away_player_11\n",
        "FROM Match\n",
        "WHERE home_player_1 IS NOT NULL AND away_player_1 IS NOT NULL\n",
        "\"\"\"\n",
        "match_df = pd.read_sql(query, conn)"
      ]
    },
    {
      "cell_type": "code",
      "execution_count": 230,
      "id": "62e6dd13-1d2a-4037-91cb-b6b9192c0a23",
      "metadata": {
        "id": "62e6dd13-1d2a-4037-91cb-b6b9192c0a23"
      },
      "outputs": [],
      "source": [
        "# 경기 결과를 Win, Defeat, Draw로 반환하는 함수 생성\n",
        "def get_result(row):\n",
        "    if row['home_team_goal'] > row['away_team_goal']:\n",
        "        return 'Win'\n",
        "    elif row['home_team_goal'] < row['away_team_goal']:\n",
        "        return 'Defeat'\n",
        "    else:\n",
        "        return 'Draw'\n",
        "\n",
        "match_df['result'] = match_df.apply(get_result, axis=1)\n"
      ]
    },
    {
      "cell_type": "code",
      "execution_count": 231,
      "id": "95dec376-5641-4822-885f-53d1adb0f40f",
      "metadata": {
        "id": "95dec376-5641-4822-885f-53d1adb0f40f"
      },
      "outputs": [],
      "source": [
        "player_attrs = pd.read_sql(\"\"\"\n",
        "    SELECT player_api_id, date, overall_rating, potential, stamina\n",
        "    FROM Player_Attributes\n",
        "    WHERE overall_rating IS NOT NULL\n",
        "\"\"\", conn)\n",
        "\n",
        "# 날짜 포맷 정리\n",
        "player_attrs['date'] = pd.to_datetime(player_attrs['date'])\n",
        "match_df['date'] = pd.to_datetime(match_df['date'])\n",
        "\n",
        "# 선수별 최신 능력치만 가져오기\n",
        "latest_attrs = (\n",
        "    player_attrs.sort_values(['player_api_id', 'date'])\n",
        "    .drop_duplicates(subset=['player_api_id'], keep='last')\n",
        "    .set_index('player_api_id')\n",
        ")[['overall_rating', 'potential', 'stamina']]"
      ]
    },
    {
      "cell_type": "code",
      "execution_count": 232,
      "id": "9869f13f-50a2-452e-90fd-53780e607c53",
      "metadata": {
        "id": "9869f13f-50a2-452e-90fd-53780e607c53"
      },
      "outputs": [],
      "source": [
        "home_players = [f'home_player_{i}' for i in range(1, 12)]\n",
        "away_players = [f'away_player_{i}' for i in range(1, 12)]\n",
        "\n",
        "# 홈팀 선수 능력치\n",
        "for col in home_players:\n",
        "    match_df = match_df.merge(\n",
        "        latest_attrs[['overall_rating']].rename(columns={'overall_rating': f'ovr_{col}'}),\n",
        "        left_on=col,\n",
        "        right_index=True,\n",
        "        how='left'\n",
        "    )\n",
        "\n",
        "# 어웨이팀 선수 능력치\n",
        "for col in away_players:\n",
        "    match_df = match_df.merge(\n",
        "        latest_attrs[['overall_rating']].rename(columns={'overall_rating': f'ovr_{col}'}),\n",
        "        left_on=col,\n",
        "        right_index=True,\n",
        "        how='left'\n",
        "    )"
      ]
    },
    {
      "cell_type": "code",
      "execution_count": 233,
      "id": "cf689c98-24cf-4799-ab03-8ad51a7051bc",
      "metadata": {
        "id": "cf689c98-24cf-4799-ab03-8ad51a7051bc"
      },
      "outputs": [],
      "source": [
        "# 각 선수의 최신 능력치 불러온 후, 각 경기의 홈/어웨이 팀 선수 11명의 능력치를 병합 (평균)\n",
        "match_df['home_avg_rating'] = match_df[[f'ovr_home_player_{i}' for i in range(1, 12)]].mean(axis=1)\n",
        "match_df['away_avg_rating'] = match_df[[f'ovr_away_player_{i}' for i in range(1, 12)]].mean(axis=1)"
      ]
    },
    {
      "cell_type": "code",
      "execution_count": 234,
      "id": "139a8f4a-86c7-438c-91b6-6746a2c6dc5c",
      "metadata": {
        "id": "139a8f4a-86c7-438c-91b6-6746a2c6dc5c"
      },
      "outputs": [],
      "source": [
        "team_attrs = pd.read_sql(\"\"\"\n",
        "    SELECT *\n",
        "    FROM Team_Attributes\n",
        "    WHERE buildUpPlaySpeed IS NOT NULL\n",
        "\"\"\", conn)\n",
        "\n",
        "# 날짜 처리\n",
        "team_attrs['date'] = pd.to_datetime(team_attrs['date'])\n",
        "match_df['date'] = pd.to_datetime(match_df['date'])"
      ]
    },
    {
      "cell_type": "code",
      "execution_count": 235,
      "id": "14e321ce-0799-49ed-aa90-b5244a8b5dc9",
      "metadata": {
        "id": "14e321ce-0799-49ed-aa90-b5244a8b5dc9"
      },
      "outputs": [],
      "source": [
        "def get_latest_team_attr(team_id, match_date, team_attrs):\n",
        "    \"\"\"\n",
        "    특정 팀의 경기일 이전 전략 정보 중 가장 최근 값을 반환\n",
        "    \"\"\"\n",
        "    past_attrs = team_attrs[\n",
        "        (team_attrs['team_api_id'] == team_id) &\n",
        "        (team_attrs['date'] <= match_date)\n",
        "    ]\n",
        "    if not past_attrs.empty:\n",
        "        return past_attrs.sort_values('date').iloc[-1]\n",
        "    else:\n",
        "        return pd.Series()\n",
        "\n",
        "def get_team_attributes(match_df, team_attrs, team_col_prefix):\n",
        "    \"\"\"\n",
        "    홈팀 또는 어웨이팀 전략을 match_df에 붙임\n",
        "    \"\"\"\n",
        "    features = []\n",
        "\n",
        "    for _, row in match_df.iterrows():\n",
        "        team_id = row[f\"{team_col_prefix}_team_api_id\"]\n",
        "        match_date = row['date']\n",
        "        team_attr = get_latest_team_attr(team_id, match_date, team_attrs)\n",
        "        features.append(team_attr)\n",
        "\n",
        "    features_df = pd.DataFrame(features)\n",
        "    features_df = features_df.add_prefix(f\"{team_col_prefix}_\")\n",
        "\n",
        "    return pd.concat([match_df.reset_index(drop=True), features_df.reset_index(drop=True)], axis=1)\n"
      ]
    },
    {
      "cell_type": "code",
      "execution_count": 236,
      "id": "fe7680c2-2b52-4958-bb3f-cfa8490c2bd5",
      "metadata": {
        "id": "fe7680c2-2b52-4958-bb3f-cfa8490c2bd5"
      },
      "outputs": [],
      "source": [
        "# 전략에서 사용할 변수만 선택\n",
        "cols_to_use = [\n",
        "    'team_api_id', 'date',\n",
        "    'buildUpPlaySpeed', 'chanceCreationPassing', 'defencePressure'\n",
        "]\n",
        "team_attrs_sub = team_attrs[cols_to_use].copy()\n",
        "team_attrs_sub['date'] = pd.to_datetime(team_attrs_sub['date'])\n",
        "\n",
        "# 홈팀 전략 병합\n",
        "match_with_home = get_team_attributes(match_df, team_attrs_sub, team_col_prefix='home')\n",
        "\n",
        "# 어웨이팀 전략 병합\n",
        "match_with_all = get_team_attributes(match_with_home, team_attrs_sub, team_col_prefix='away')"
      ]
    },
    {
      "cell_type": "code",
      "execution_count": 237,
      "id": "d136c24a-ca23-4f18-8ce2-e28c5869c2c6",
      "metadata": {
        "id": "d136c24a-ca23-4f18-8ce2-e28c5869c2c6"
      },
      "outputs": [],
      "source": [
        "# 모델에 사용할 변수만 추린 후 데이터 프레임 생성\n",
        "selected_columns = [\n",
        "    'home_avg_rating', 'away_avg_rating',\n",
        "    'home_buildUpPlaySpeed', 'away_buildUpPlaySpeed',\n",
        "    'home_chanceCreationPassing', 'away_chanceCreationPassing',\n",
        "    'home_defencePressure', 'away_defencePressure',\n",
        "    'result'\n",
        "]\n",
        "\n",
        "final_df = match_with_all[selected_columns].copy()"
      ]
    },
    {
      "cell_type": "code",
      "execution_count": 238,
      "id": "7d80fdeb-1f41-42d9-a010-9ce421c6614f",
      "metadata": {
        "id": "7d80fdeb-1f41-42d9-a010-9ce421c6614f",
        "colab": {
          "base_uri": "https://localhost:8080/"
        },
        "outputId": "32053ad4-7822-464c-9fb1-08f56897bd03"
      },
      "outputs": [
        {
          "output_type": "stream",
          "name": "stdout",
          "text": [
            "home_avg_rating                  0\n",
            "away_avg_rating                  0\n",
            "home_buildUpPlaySpeed         4977\n",
            "away_buildUpPlaySpeed         4962\n",
            "home_chanceCreationPassing    4977\n",
            "away_chanceCreationPassing    4962\n",
            "home_defencePressure          4977\n",
            "away_defencePressure          4962\n",
            "result                           0\n",
            "dtype: int64\n"
          ]
        }
      ],
      "source": [
        "# 결측치 확인\n",
        "print(final_df.isnull().sum())"
      ]
    },
    {
      "cell_type": "code",
      "source": [
        "final_df = final_df.dropna()\n",
        "print(final_df.isnull().sum())"
      ],
      "metadata": {
        "colab": {
          "base_uri": "https://localhost:8080/"
        },
        "id": "8GIxmZ-u6XQo",
        "outputId": "050daa05-c069-4eef-dc78-3002f775abb3"
      },
      "id": "8GIxmZ-u6XQo",
      "execution_count": 239,
      "outputs": [
        {
          "output_type": "stream",
          "name": "stdout",
          "text": [
            "home_avg_rating               0\n",
            "away_avg_rating               0\n",
            "home_buildUpPlaySpeed         0\n",
            "away_buildUpPlaySpeed         0\n",
            "home_chanceCreationPassing    0\n",
            "away_chanceCreationPassing    0\n",
            "home_defencePressure          0\n",
            "away_defencePressure          0\n",
            "result                        0\n",
            "dtype: int64\n"
          ]
        }
      ]
    },
    {
      "cell_type": "code",
      "source": [
        "# 라이브러리 불러오기\n",
        "from sklearn.model_selection import train_test_split\n",
        "from sklearn.preprocessing import LabelEncoder\n",
        "\n",
        "# Draw vs NotDraw (이진 분류용 데이터 준비)\n",
        "\n",
        "# 타겟: 'Draw'이면 1, 아니면 0\n",
        "binary_y = (final_df['result'] == 'Draw').astype(int)\n",
        "\n",
        "# 피처에서 결과 변수 제거\n",
        "X_binary = final_df.drop(columns=['result']).values\n",
        "\n",
        "# 학습/테스트 셋 분할\n",
        "X_binary_train, X_binary_test, y_binary_train, y_binary_test = train_test_split(\n",
        "    X_binary, binary_y, test_size=0.2, stratify=binary_y, random_state=42\n",
        ")"
      ],
      "metadata": {
        "id": "dIgNFOh8GyOs"
      },
      "id": "dIgNFOh8GyOs",
      "execution_count": 240,
      "outputs": []
    },
    {
      "cell_type": "code",
      "source": [
        "# colab에서 catboost 모듈 설치\n",
        "!pip install catboost"
      ],
      "metadata": {
        "colab": {
          "base_uri": "https://localhost:8080/"
        },
        "id": "srXQgbIkRh_t",
        "outputId": "19f30dac-0665-4828-cdf2-de4fa624f9d6"
      },
      "id": "srXQgbIkRh_t",
      "execution_count": 241,
      "outputs": [
        {
          "output_type": "stream",
          "name": "stdout",
          "text": [
            "Requirement already satisfied: catboost in /usr/local/lib/python3.11/dist-packages (1.2.8)\n",
            "Requirement already satisfied: graphviz in /usr/local/lib/python3.11/dist-packages (from catboost) (0.20.3)\n",
            "Requirement already satisfied: matplotlib in /usr/local/lib/python3.11/dist-packages (from catboost) (3.10.0)\n",
            "Requirement already satisfied: numpy<3.0,>=1.16.0 in /usr/local/lib/python3.11/dist-packages (from catboost) (2.0.2)\n",
            "Requirement already satisfied: pandas>=0.24 in /usr/local/lib/python3.11/dist-packages (from catboost) (2.2.2)\n",
            "Requirement already satisfied: scipy in /usr/local/lib/python3.11/dist-packages (from catboost) (1.15.3)\n",
            "Requirement already satisfied: plotly in /usr/local/lib/python3.11/dist-packages (from catboost) (5.24.1)\n",
            "Requirement already satisfied: six in /usr/local/lib/python3.11/dist-packages (from catboost) (1.17.0)\n",
            "Requirement already satisfied: python-dateutil>=2.8.2 in /usr/local/lib/python3.11/dist-packages (from pandas>=0.24->catboost) (2.9.0.post0)\n",
            "Requirement already satisfied: pytz>=2020.1 in /usr/local/lib/python3.11/dist-packages (from pandas>=0.24->catboost) (2025.2)\n",
            "Requirement already satisfied: tzdata>=2022.7 in /usr/local/lib/python3.11/dist-packages (from pandas>=0.24->catboost) (2025.2)\n",
            "Requirement already satisfied: contourpy>=1.0.1 in /usr/local/lib/python3.11/dist-packages (from matplotlib->catboost) (1.3.2)\n",
            "Requirement already satisfied: cycler>=0.10 in /usr/local/lib/python3.11/dist-packages (from matplotlib->catboost) (0.12.1)\n",
            "Requirement already satisfied: fonttools>=4.22.0 in /usr/local/lib/python3.11/dist-packages (from matplotlib->catboost) (4.58.0)\n",
            "Requirement already satisfied: kiwisolver>=1.3.1 in /usr/local/lib/python3.11/dist-packages (from matplotlib->catboost) (1.4.8)\n",
            "Requirement already satisfied: packaging>=20.0 in /usr/local/lib/python3.11/dist-packages (from matplotlib->catboost) (24.2)\n",
            "Requirement already satisfied: pillow>=8 in /usr/local/lib/python3.11/dist-packages (from matplotlib->catboost) (11.2.1)\n",
            "Requirement already satisfied: pyparsing>=2.3.1 in /usr/local/lib/python3.11/dist-packages (from matplotlib->catboost) (3.2.3)\n",
            "Requirement already satisfied: tenacity>=6.2.0 in /usr/local/lib/python3.11/dist-packages (from plotly->catboost) (9.1.2)\n"
          ]
        }
      ]
    },
    {
      "cell_type": "code",
      "source": [
        "# CatBoost 이진 분류기 학습 (Draw 여부 판단)\n",
        "from catboost import CatBoostClassifier\n",
        "\n",
        "draw_clf = CatBoostClassifier(\n",
        "    iterations=300,\n",
        "    depth=6,\n",
        "    learning_rate=0.1,\n",
        "    loss_function='Logloss',\n",
        "    eval_metric='F1',\n",
        "    verbose=100,\n",
        "    random_seed=42\n",
        ")\n",
        "\n",
        "draw_clf.fit(X_binary_train, y_binary_train)"
      ],
      "metadata": {
        "colab": {
          "base_uri": "https://localhost:8080/"
        },
        "id": "-E5ZzF5uHEj0",
        "outputId": "dffae123-632f-4c55-cd13-99b02b6fcb14"
      },
      "id": "-E5ZzF5uHEj0",
      "execution_count": 242,
      "outputs": [
        {
          "output_type": "stream",
          "name": "stdout",
          "text": [
            "0:\tlearn: 0.0041623\ttotal: 6.74ms\tremaining: 2.02s\n",
            "100:\tlearn: 0.0078003\ttotal: 1.1s\tremaining: 2.16s\n",
            "200:\tlearn: 0.0650694\ttotal: 2.98s\tremaining: 1.47s\n",
            "299:\tlearn: 0.1246639\ttotal: 4.94s\tremaining: 0us\n"
          ]
        },
        {
          "output_type": "execute_result",
          "data": {
            "text/plain": [
              "<catboost.core.CatBoostClassifier at 0x7e39cdd6d850>"
            ]
          },
          "metadata": {},
          "execution_count": 242
        }
      ]
    },
    {
      "cell_type": "code",
      "source": [
        "# 다중 분류용 데이터 준비\n",
        "\n",
        "# 클래스 인코딩 (Win, Draw, Defeat → 숫자)\n",
        "le = LabelEncoder()\n",
        "y_multi = le.fit_transform(final_df['result'])\n",
        "\n",
        "# 학습/테스트 셋 분할\n",
        "X_train, X_test, y_train, y_test = train_test_split(\n",
        "    X_binary, y_multi, test_size=0.2, stratify=y_multi, random_state=42\n",
        ")\n",
        "\n",
        "# CatBoost 다중 분류기 학습 (전체 경기 결과 예측)\n",
        "cat_model = CatBoostClassifier(\n",
        "    iterations=300,\n",
        "    depth=6,\n",
        "    learning_rate=0.1,\n",
        "    loss_function='MultiClass',\n",
        "    eval_metric='TotalF1',\n",
        "    verbose=100,\n",
        "    random_seed=42\n",
        ")\n",
        "\n",
        "cat_model.fit(X_train, y_train)"
      ],
      "metadata": {
        "colab": {
          "base_uri": "https://localhost:8080/"
        },
        "id": "Qai9F6VRO-fI",
        "outputId": "2bad3977-3095-4095-d98d-3b3c2a728700"
      },
      "id": "Qai9F6VRO-fI",
      "execution_count": 243,
      "outputs": [
        {
          "output_type": "stream",
          "name": "stdout",
          "text": [
            "0:\tlearn: 0.4078504\ttotal: 30.9ms\tremaining: 9.23s\n",
            "100:\tlearn: 0.4655914\ttotal: 1.22s\tremaining: 2.41s\n",
            "200:\tlearn: 0.5022910\ttotal: 3.19s\tremaining: 1.57s\n",
            "299:\tlearn: 0.5326190\ttotal: 6.79s\tremaining: 0us\n"
          ]
        },
        {
          "output_type": "execute_result",
          "data": {
            "text/plain": [
              "<catboost.core.CatBoostClassifier at 0x7e39fcb5e250>"
            ]
          },
          "metadata": {},
          "execution_count": 243
        }
      ]
    },
    {
      "cell_type": "code",
      "source": [
        "import numpy as np\n",
        "from sklearn.metrics import classification_report, confusion_matrix\n",
        "import seaborn as sns\n",
        "import matplotlib.pyplot as plt\n",
        "\n",
        "# Draw 이진 분류기 확률 예측\n",
        "draw_probs = draw_clf.predict_proba(X_test)[:, 1]\n",
        "\n",
        "# 다중 클래스 예측 결과\n",
        "multi_probs = cat_model.predict_proba(X_test)\n",
        "y_pred_multi = np.argmax(multi_probs, axis=1)\n",
        "\n",
        "# 조합: Draw 확률이 일정 기준이상이면 무조건 Draw로 수정\n",
        "# 코드의 0.28 부분 수치를 조정하면서 하이퍼파라미터 튜닝 진행하였습니다!\n",
        "y_combined = y_pred_multi.copy()\n",
        "y_combined[draw_probs > 0.28] = 1  # 1 = Draw\n",
        "\n",
        "# 평가 및 시각화\n",
        "print(\"Classification Report (Combined):\")\n",
        "print(classification_report(y_test, y_combined, target_names=le.classes_))\n",
        "\n",
        "# 혼동 행렬 시각화\n",
        "cm = confusion_matrix(y_test, y_combined)\n",
        "sns.heatmap(cm, annot=True, fmt='d', cmap='Blues', xticklabels=le.classes_, yticklabels=le.classes_)\n",
        "plt.xlabel('Predicted')\n",
        "plt.ylabel('Actual')\n",
        "plt.title('Confusion Matrix with Binary Draw + Multi-class Combo')\n",
        "plt.show()"
      ],
      "metadata": {
        "colab": {
          "base_uri": "https://localhost:8080/",
          "height": 659
        },
        "id": "MGV9BA2TS83Q",
        "outputId": "6d563326-e5ac-4e46-827d-27e2f132bded"
      },
      "id": "MGV9BA2TS83Q",
      "execution_count": 244,
      "outputs": [
        {
          "output_type": "stream",
          "name": "stdout",
          "text": [
            "Classification Report (Combined):\n",
            "              precision    recall  f1-score   support\n",
            "\n",
            "      Defeat       0.61      0.40      0.48      1097\n",
            "        Draw       0.46      0.66      0.54       957\n",
            "         Win       0.65      0.64      0.65      1723\n",
            "\n",
            "    accuracy                           0.58      3777\n",
            "   macro avg       0.58      0.57      0.56      3777\n",
            "weighted avg       0.59      0.58      0.57      3777\n",
            "\n"
          ]
        },
        {
          "output_type": "display_data",
          "data": {
            "text/plain": [
              "<Figure size 640x480 with 2 Axes>"
            ],
            "image/png": "[encoded data removed]"
          },
          "metadata": {}
        }
      ]
    }
  ],
  "metadata": {
    "kernelspec": {
      "display_name": "Python [conda env:base] *",
      "language": "python",
      "name": "conda-base-py"
    },
    "language_info": {
      "codemirror_mode": {
        "name": "ipython",
        "version": 3
      },
      "file_extension": ".py",
      "mimetype": "text/x-python",
      "name": "python",
      "nbconvert_exporter": "python",
      "pygments_lexer": "ipython3",
      "version": "3.12.7"
    },
    "colab": {
      "provenance": []
    }
  },
  "nbformat": 4,
  "nbformat_minor": 5
}