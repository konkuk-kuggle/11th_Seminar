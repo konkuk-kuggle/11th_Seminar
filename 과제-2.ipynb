{
  "cells": [
    {
      "cell_type": "markdown",
      "source": [
        "### 빈칸을 채워서 그래프를 완성해주세요!"
      ],
      "metadata": {
        "id": "KgthHFDBUcou"
      },
      "id": "KgthHFDBUcou"
    },
    {
      "cell_type": "code",
      "source": [
        "import numpy as np\n",
        "import matplotlib.pyplot as plt\n",
        "from sklearn.linear_model import LinearRegression, Ridge, Lasso\n",
        "from sklearn.preprocessing import PolynomialFeatures\n",
        "from sklearn.model_selection import train_test_split\n",
        "from sklearn.metrics import mean_squared_error, mean_absolute_error, r2_score"
      ],
      "metadata": {
        "id": "PRKhaGopEFIU"
      },
      "id": "PRKhaGopEFIU",
      "execution_count": null,
      "outputs": []
    },
    {
      "cell_type": "code",
      "execution_count": null,
      "id": "719cde70",
      "metadata": {
        "id": "719cde70"
      },
      "outputs": [],
      "source": [
        "# 데이터 생성\n",
        "np.random.seed(30)\n",
        "X = np.sort(5 * np.random.rand(100, 1), axis=0)\n",
        "y = np.sin(X).ravel() + 0.2 * np.random.randn(100)\n",
        "\n",
        "# 데이터 분할\n",
        "X_train, X_test, y_train, y_test = train_test_split(X, y, _____ =0.2, random_state=1)\n",
        "\n",
        "# 선형 회귀 모델\n",
        "linear_reg = LinearRegression()\n",
        "linear_reg.fit(X_train, y_train)\n",
        "\n",
        "# 다항 회귀 모델\n",
        "poly = PolynomialFeatures(degree=5)\n",
        "X_train_poly = poly.fit_transform(X_train)\n",
        "X_test_poly = poly.transform(X_test)\n",
        "poly_reg = LinearRegression()\n",
        "poly_reg.fit(X_train_poly, y_train)\n",
        "\n",
        "# 모델 점수 출력\n",
        "print(\"Model Scores:\")\n",
        "print(f\"Linear Regression: Train R² = {linear_reg.score(X_train, y_train):.4f}, Test R² = { _____ (y_test, linear_reg.predict(X_test)):.4f}\")\n",
        "print(f\"Polynomial Regression: Train R² = {poly_reg.score(X_train_poly, y_train):.4f}, Test R² = { _____ (y_test, poly_reg.predict(X_test_poly)):.4f}\")\n",
        "\n",
        "# 그래프 그리기\n",
        "fig, axes = plt.subplots(1, 2, figsize=(12, 5), dpi=350)\n",
        "X_range = np.linspace(min(X), max(X), 100).reshape(-1, 1)\n",
        "X_range_poly = poly.transform(X_range)\n",
        "\n",
        "# 선형 회귀 그래프\n",
        "axes[0].scatter(X_train, y_train, color='blue', alpha=0.6)\n",
        "axes[0].scatter(X_test, y_test, color='red', alpha=0.6)\n",
        "axes[0].plot(X_range, linear_reg.predict(X_range), color='red')\n",
        "axes[0].set_title(\"Linear Regression (Underfitting)\")\n",
        "\n",
        "# 다항 회귀 그래프\n",
        "axes[1].scatter(X_train, y_train, color='blue', alpha=0.6)\n",
        "axes[1].scatter(X_test, y_test, color='red', alpha=0.6)\n",
        "axes[1].plot(X_range, poly_reg.predict(X_range_poly), color='green')\n",
        "axes[1].set_title(\"Polynomial Regression (Optimal)\")\n",
        "plt.tight_layout()\n",
        "plt.show()"
      ]
    },
    {
      "cell_type": "code",
      "source": [
        "# 데이터 생성\n",
        "np.random.seed(10)\n",
        "X = np.sort(5 * np.random.rand(30, 1), axis=0)\n",
        "y = np.sin(X).ravel() + 0.5 * np.random.randn(30)\n",
        "\n",
        "# 데이터 분할\n",
        "X_train, X_test, y_train, y_test = train_test_split(X, y, test_size=0.3, random_state=10)\n",
        "\n",
        "# 다항식 변환\n",
        "poly = PolynomialFeatures(degree=10)\n",
        "X_train_poly = poly.fit_transform(X_train)\n",
        "X_test_poly = poly.transform(X_test)\n",
        "\n",
        "# 모델 학습 및 평가\n",
        "models = {\n",
        "    \"Polynomial Regression\": LinearRegression(),\n",
        "    \"Ridge Regression\": Ridge(alpha=1.0),\n",
        "    \"Lasso Regression\": Lasso(alpha=1.0)\n",
        "}\n",
        "\n",
        "for name, model in models.items():\n",
        "    model.fit(X_train_poly, y_train)\n",
        "    print(f\"{name}: Train R² = {model.score(X_train_poly, y_train):.4f}, Test R² = {model.score(X_test_poly, y_test):.4f}\")\n",
        "\n",
        "# 새로운 X 범위 생성\n",
        "X_range = np.linspace(0, 5, 100).reshape(-1, 1)\n",
        "X_range_poly = poly.transform( _____ )\n",
        "\n",
        "# 예측값 생성\n",
        "y_pred_poly = models[\"Polynomial Regression\"].predict( ______ )\n",
        "y_pred_ridge = models[\"Ridge Regression\"].predict(X_range_poly)\n",
        "y_pred_lasso = models[\"Lasso Regression\"].predict(X_range_poly)\n",
        "\n",
        "# 그래프 그리기\n",
        "fig, axes = plt.subplots(1, 2, figsize=(12, 5), dpi=350)\n",
        "\n",
        "# 다항 회귀 그래프\n",
        "axes[0].scatter(X_train, y_train, color='blue', label='Train Data', alpha=0.6)\n",
        "axes[0].scatter(X_test, y_test, color='red', label='Test Data', alpha=0.6)\n",
        "axes[0].plot(X_range, y_pred_poly, color='purple', label='Polynomial Regression')\n",
        "axes[0].set_title(\"Polynomial Regression (Overfitting)\")\n",
        "axes[0].set_xlabel(\"X\")\n",
        "axes[0].set_ylabel(\"y\")\n",
        "axes[0].legend()\n",
        "axes[0].set_ylim([-2, 2])\n",
        "\n",
        "# 릿지 & 라쏘 회귀 그래프\n",
        "axes[1].scatter(X_train, y_train, color='blue', label='Train Data', alpha=0.6)\n",
        "axes[1].scatter(X_test, y_test, color='red', label='Test Data', alpha=0.6)\n",
        "axes[1].plot(X_range, y_pred_ridge, color='orange', label='Ridge Regression')\n",
        "axes[1].plot(X_range, y_pred_lasso, color='green', label='Lasso Regression')\n",
        "axes[1].set_title(\"Ridge & Lasso Regression\")\n",
        "axes[1].set_xlabel(\"X\")\n",
        "axes[1].set_ylabel(\"y\")\n",
        "axes[1].legend()\n",
        "axes[1].set_ylim([-2, 2])\n",
        "\n",
        "plt.tight_layout()\n",
        "plt.show()\n"
      ],
      "metadata": {
        "id": "LEvfyUtUE8Fg"
      },
      "id": "LEvfyUtUE8Fg",
      "execution_count": null,
      "outputs": []
    },
    {
      "cell_type": "markdown",
      "source": [
        "### 유방암 진단 이진 분류 과제\n",
        "유방암 데이터셋을 활용하여 이진 분류 모델을 학습하고\n",
        "Accuracy, Precision, Recall, F1 Score를 사용해 성능을 비교하세요.\n",
        "\n",
        "다음 4가지 분류 알고리즘 중 최소 2개 이상을 선택하여 실습 후 분류 지표 4개를 선택하여 출력하세요\n",
        "\n",
        "\t1.\t로지스틱 회귀 (Logistic Regression)\n",
        "\t2.\tK-최근접 이웃 (K-Nearest Neighbors, KNN)\n",
        "\t3.\t랜덤 포레스트 (Random Forest)\n",
        "\n",
        "각 모델의 예측 결과에 대해 다음 지표들을 출력하고 비교하세요:\n",
        "\n",
        "\t1.\t정확도 (Accuracy)\n",
        "\t2.\t정밀도 (Precision)\n",
        "\t3.\t재현율 (Recall)\n",
        "\t4.\tF1 Score\n"
      ],
      "metadata": {
        "id": "wO1JsTIHLLaN"
      },
      "id": "wO1JsTIHLLaN"
    },
    {
      "cell_type": "code",
      "source": [
        "import matplotlib.pyplot as plt\n",
        "import seaborn as sns\n",
        "import pandas as pd\n",
        "from sklearn.datasets import load_breast_cancer\n",
        "\n",
        "# 데이터 불러오고 DataFrame으로 변환\n",
        "data = load_breast_cancer()\n",
        "df = pd.DataFrame(data.data, columns=data.feature_names)\n",
        "df['target'] = data.target  # 0 = malignant, 1 = benign\n",
        "\n",
        "# 클래스(종양 유형) 분포 시각화\n",
        "plt.figure(figsize=(5, 4))\n",
        "sns.countplot(x='target', data=df)\n",
        "plt.xticks([0, 1], ['Malignant', 'Benign'])\n",
        "plt.title(\"Class Distribution (Malignant vs Benign)\")\n",
        "plt.xlabel(\"Tumor Type\")\n",
        "plt.ylabel(\"Number of Samples\")\n",
        "plt.tight_layout()\n",
        "plt.show()"
      ],
      "metadata": {
        "colab": {
          "base_uri": "https://localhost:8080/",
          "height": 407
        },
        "id": "6N68V5Hbl1X4",
        "outputId": "f9fb939b-e82b-495c-fde3-cf34ae9c4bb9"
      },
      "id": "6N68V5Hbl1X4",
      "execution_count": 4,
      "outputs": [
        {
          "output_type": "display_data",
          "data": {
            "text/plain": [
              "<Figure size 500x400 with 1 Axes>"
            ],
            "image/png": "[encoded data removed]"
          },
          "metadata": {}
        }
      ]
    },
    {
      "cell_type": "code",
      "source": [
        "from sklearn.model_selection import train_test_split\n",
        "from sklearn.preprocessing import StandardScaler\n",
        "from sklearn.metrics import accuracy_score, precision_score, recall_score, f1_score\n",
        "from sklearn.linear_model import LogisticRegression\n",
        "from sklearn.neighbors import KNeighborsClassifier\n",
        "from sklearn.ensemble import RandomForestClassifier\n",
        "\n",
        "# 1. 데이터 로드\n",
        "data = load_breast_cancer()\n",
        "X, y = data.data, data.target\n",
        "\n",
        "# 2. 데이터 분할\n",
        "X_train, X_test, y_train, y_test = train_test_split(X, y, test_size=______, random_state=42)  # 빈칸1\n",
        "\n",
        "# 3. 스케일링\n",
        "scaler = StandardScaler()\n",
        "X_train = scaler.fit_transform(X_train)\n",
        "X_test = scaler.transform(X_test)\n",
        "\n",
        "# 4. 모델 정의 (2개만 선택하여 주석 해제하고 빈칸 채우기)\n",
        "models = {\n",
        "    # \"Logistic Regression\": LogisticRegression(______=1000),       # 빈칸2\n",
        "    # \"K-Nearest Neighbors\": KNeighborsClassifier(______=5),         # 빈칸3\n",
        "    # \"Random Forest\": RandomForestClassifier(_______=100)           # 빈칸4\n",
        "}\n",
        "\n",
        "# 5. 모델 학습 및 평가\n",
        "for name, model in models.items():\n",
        "    model.fit(X_train, y_train)\n",
        "    y_pred = model.predict(X_test)\n",
        "\n",
        "    print(f\"📌 Model: {name}\")\n",
        "    print(f\"Accuracy : {accuracy_score(y_test, y_pred):.4f}\")\n",
        "    print(f\"Precision: {precision_score(y_test, y_pred):.4f}\")\n",
        "    print(f\"Recall   : {recall_score(y_test, y_pred):.4f}\")\n",
        "    print(f\"F1 Score : {f1_score(y_test, y_pred):.4f}\")\n",
        "    print(\"-\" * 30)"
      ],
      "metadata": {
        "colab": {
          "base_uri": "https://localhost:8080/"
        },
        "id": "qqtZmuW0J9Jr",
        "outputId": "013739a3-f750-4f2b-b134-e74bcdc97685"
      },
      "id": "qqtZmuW0J9Jr",
      "execution_count": 3,
      "outputs": [
        {
          "output_type": "stream",
          "name": "stdout",
          "text": [
            "Model: Logistic Regression\n",
            "Accuracy: 1.0000\n",
            "Precision: 1.0000\n",
            "Recall: 1.0000\n",
            "F1 Score: 1.0000\n",
            "------------------------------\n",
            "Model: K-Nearest Neighbors\n",
            "Accuracy: 0.9444\n",
            "Precision: 0.9494\n",
            "Recall: 0.9444\n",
            "F1 Score: 0.9436\n",
            "------------------------------\n",
            "Model: Decision Tree\n",
            "Accuracy: 0.9444\n",
            "Precision: 0.9463\n",
            "Recall: 0.9444\n",
            "F1 Score: 0.9440\n",
            "------------------------------\n",
            "Model: Random Forest\n",
            "Accuracy: 1.0000\n",
            "Precision: 1.0000\n",
            "Recall: 1.0000\n",
            "F1 Score: 1.0000\n",
            "------------------------------\n"
          ]
        }
      ]
    }
  ],
  "metadata": {
    "colab": {
      "provenance": []
    },
    "language_info": {
      "name": "python"
    },
    "kernelspec": {
      "name": "python3",
      "display_name": "Python 3"
    }
  },
  "nbformat": 4,
  "nbformat_minor": 5
}