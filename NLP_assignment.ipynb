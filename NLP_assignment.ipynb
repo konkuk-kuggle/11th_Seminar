{
 "cells": [
  {
   "cell_type": "markdown",
   "metadata": {},
   "source": [
    "# 자연어세미나 과제: 코사인 유사도 실습\n",
    "\n",
    "## 1. 이론 요약\n",
    "\n",
    "- 코사인 유사도란 무엇인가요?\n",
    "- 왜 자연어 처리(NLP)에서 코사인 유사도를 사용하는지 서술하세요."
   ]
  },
  {
   "cell_type": "markdown",
   "metadata": {},
   "source": [
    "답변 : "
   ]
  },
  {
   "cell_type": "markdown",
   "metadata": {},
   "source": [
    "## 2. 코사인 유사도 적용하기"
   ]
  },
  {
   "cell_type": "code",
   "execution_count": 1,
   "metadata": {},
   "outputs": [
    {
     "name": "stdout",
     "output_type": "stream",
     "text": [
      "코사인 유사도(직접 계산): 여기 부분 작성\n"
     ]
    }
   ],
   "source": [
    "# 예제 문장\n",
    "sentence_a = \"나는 파이썬을 좋아합니다.\"\n",
    "sentence_b = \"나는 파이썬과 자바를 공부합니다.\"\n",
    "\n",
    "# 단어 집합 만들기\n",
    "vocab = [\"나는\", \"파이썬\", \"좋아합니다\", \"자바\", \"공부합니다\"]\n",
    "\n",
    "# 벡터화\n",
    "vec_a = [1, 1, 1, 0, 0]\n",
    "vec_b = [1, 1, 0, 1, 1]\n",
    "\n",
    "import numpy as np\n",
    "\n",
    "# 코사인 유사도 직접 계산\n",
    "dot_product = np.dot(vec_a, vec_b)\n",
    "norm_a = np.linalg.norm(vec_a)\n",
    "norm_b = np.linalg.norm(vec_b)\n",
    "cosine_similarity = \"여기 부분 작성\"\n",
    "print(\"코사인 유사도(직접 계산):\", cosine_similarity)\n"
   ]
  },
  {
   "cell_type": "markdown",
   "metadata": {},
   "source": [
    "## 3. 문장 유사도를 활용한 텍스트 분류 시스템 돌려보기\n",
    "입력 예시) 딥러닝 인공신경망"
   ]
  },
  {
   "cell_type": "code",
   "execution_count": 8,
   "metadata": {},
   "outputs": [
    {
     "name": "stdout",
     "output_type": "stream",
     "text": [
      "===== 문장 분류 시스템 =====\n",
      "다음 중 가장 유사한 문장을 찾습니다:\n",
      "문장 A: 파이썬 프로그래밍 언어 입니다\n",
      "문장 B: 자연어 처리 컴퓨터 인간 언어 이해 기술 입니다\n",
      "문장 C: 머신러닝 데이터 기반 학습 알고리즘 입니다\n",
      "문장 D: 딥러닝 인공신경망 사용 기계학습 방법 입니다\n",
      "생성된 단어장: ['데이터', '인간', '기계학습', '머신러닝', '자연어', '기반', '이해', '사용', '기술', '언어', '학습', '알고리즘', '인공신경망', '컴퓨터', '처리', '입니다', '프로그래밍', '방법', '파이썬', '딥러닝']\n",
      "\n",
      "========= 유사도 결과 =========\n",
      "문장 D: 0.5774 - '딥러닝 인공신경망 사용 기계학습 방법 입니다'\n",
      "문장 A: 0.0000 - '파이썬 프로그래밍 언어 입니다'\n",
      "문장 B: 0.0000 - '자연어 처리 컴퓨터 인간 언어 이해 기술 입니다'\n",
      "문장 C: 0.0000 - '머신러닝 데이터 기반 학습 알고리즘 입니다'\n",
      "\n",
      "========= 최종 결과 =========\n",
      "입력 문장: '딥러닝 인공신경망'\n",
      "가장 유사한 문장: 문장 D (유사도: 0.5774)\n",
      "'딥러닝 인공신경망 사용 기계학습 방법 입니다'\n"
     ]
    }
   ],
   "source": [
    "# 필요한 라이브러리 import\n",
    "import numpy as np\n",
    "\n",
    "# 1. 참조 문장 정의 (A, B, C, D) - 조사 제거하고 띄어쓰기 단위로 정리\n",
    "reference_sentences = {\n",
    "    'A': \"파이썬 프로그래밍 언어 입니다\",\n",
    "    'B': \"자연어 처리 컴퓨터 인간 언어 이해 기술 입니다\",\n",
    "    'C': \"머신러닝 데이터 기반 학습 알고리즘 입니다\",\n",
    "    'D': \"딥러닝 인공신경망 사용 기계학습 방법 입니다\"\n",
    "}\n",
    "\n",
    "# 2. 문장을 벡터로 변환하는 함수 (단순 띄어쓰기 분리)\n",
    "def sentence_to_vector(sentence, vocab):\n",
    "    tokens = sentence.split()\n",
    "    vector = [1 if token in tokens else 0 for token in vocab]\n",
    "    return vector\n",
    "\n",
    "# 3. 코사인 유사도를 직접 계산하는 함수\n",
    "def calculate_cosine_similarity(vec_a, vec_b):\n",
    "    # 내적 계산\n",
    "    dot_product = np.dot(vec_a, vec_b)\n",
    "    # 각 벡터의 크기(norm) 계산\n",
    "    norm_a = np.linalg.norm(vec_a)\n",
    "    norm_b = np.linalg.norm(vec_b)\n",
    "    # 코사인 유사도 계산\n",
    "    cosine_similarity = dot_product / (norm_a * norm_b)\n",
    "    return cosine_similarity\n",
    "\n",
    "# 4. 메인 함수: 사용자 입력과 참조 문장들 간의 유사도 계산\n",
    "def find_most_similar_sentence(user_input):\n",
    "    # 모든 문장 모으기\n",
    "    all_sentences = list(reference_sentences.values()) + [user_input]\n",
    "    \n",
    "    # 토큰화 (단순 띄어쓰기)\n",
    "    all_tokens = []\n",
    "    for sentence in all_sentences:\n",
    "        all_tokens.extend(sentence.split())\n",
    "    \n",
    "    # 단어장 만들기\n",
    "    vocab = list(set(all_tokens))\n",
    "    print(\"생성된 단어장:\", vocab)\n",
    "    \n",
    "    # 모든 문장을 벡터로 변환\n",
    "    vectors = []\n",
    "    for sentence in all_sentences:\n",
    "        vector = sentence_to_vector(sentence, vocab)\n",
    "        vectors.append(vector)\n",
    "    \n",
    "    # 마지막 벡터가 사용자 입력 벡터\n",
    "    user_vector = vectors[-1]\n",
    "    reference_vectors = vectors[:-1]\n",
    "    \n",
    "    # 유사도 계산 (numpy 직접 사용)\n",
    "    similarities = {}\n",
    "    for idx, (label, sentence) in enumerate(reference_sentences.items()):\n",
    "        # 직접 계산 함수 사용\n",
    "        sim = calculate_cosine_similarity(user_vector, reference_vectors[idx])\n",
    "        similarities[label] = sim\n",
    "    \n",
    "    # 결과 정렬 및 출력\n",
    "    sorted_similarities = sorted(similarities.items(), key=lambda x: x[1], reverse=True)\n",
    "    \n",
    "    print(\"\\n========= 유사도 결과 =========\")\n",
    "    for label, sim in sorted_similarities:\n",
    "        print(f\"문장 {label}: {sim:.4f} - '{reference_sentences[label]}'\")\n",
    "    \n",
    "    # 가장 유사한 문장 찾기\n",
    "    most_similar_label = sorted_similarities[0][0]\n",
    "    \n",
    "    return most_similar_label, sorted_similarities[0][1]\n",
    "\n",
    "# 5. 사용자 입력 받기 및 결과 출력\n",
    "def classify_text():\n",
    "    print(\"===== 문장 분류 시스템 =====\")\n",
    "    print(\"다음 중 가장 유사한 문장을 찾습니다:\")\n",
    "    for label, sentence in reference_sentences.items():\n",
    "        print(f\"문장 {label}: {sentence}\")\n",
    "    \n",
    "    user_input = input(\"\\n분류할 문장을 입력하세요: \")\n",
    "    \n",
    "    most_similar_label, similarity = find_most_similar_sentence(user_input)\n",
    "    \n",
    "    print(\"\\n========= 최종 결과 =========\")\n",
    "    print(f\"입력 문장: '{user_input}'\")\n",
    "    print(f\"가장 유사한 문장: 문장 {most_similar_label} (유사도: {similarity:.4f})\")\n",
    "    print(f\"'{reference_sentences[most_similar_label]}'\")\n",
    "\n",
    "# 실행\n",
    "classify_text()"
   ]
  }
 ],
 "metadata": {
  "kernelspec": {
   "display_name": "base",
   "language": "python",
   "name": "python3"
  },
  "language_info": {
   "codemirror_mode": {
    "name": "ipython",
    "version": 3
   },
   "file_extension": ".py",
   "mimetype": "text/x-python",
   "name": "python",
   "nbconvert_exporter": "python",
   "pygments_lexer": "ipython3",
   "version": "3.12.4"
  }
 },
 "nbformat": 4,
 "nbformat_minor": 2
}
