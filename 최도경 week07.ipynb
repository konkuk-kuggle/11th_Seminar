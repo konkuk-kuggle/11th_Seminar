{
 "cells": [
  {
   "cell_type": "markdown",
   "metadata": {
    "id": "AzzmPJ8dZsY0"
   },
   "source": [
    "# **CNN으로 MNIST 분류하기**"
   ]
  },
  {
   "cell_type": "markdown",
   "metadata": {
    "id": "6tVlAUr9Z3AQ"
   },
   "source": [
    "## **1. MNIST란?**"
   ]
  },
  {
   "cell_type": "markdown",
   "metadata": {
    "id": "AaO3ekIpaCXn"
   },
   "source": [
    "- Modified National Institute of Standards and Technology 데이터셋의 약자\n",
    "- 손글씨 숫자 이미지 (0~9) 인식을 위한 머신러닝/딥러닝 입문용 데이터셋\n",
    "- 주로 이미지 분류(Classification) 실습에 사용"
   ]
  },
  {
   "cell_type": "markdown",
   "metadata": {
    "id": "AJsF8H9NZ-2M"
   },
   "source": [
    "| 항목      | 내용                   |\n",
    "| ------- | -------------------- |\n",
    "| 이미지 크기  | 28×28 픽셀 (Grayscale) |\n",
    "| 클래스 수   | 10개 (0\\~9 숫자)        |\n",
    "| 학습 데이터  | 60,000장              |\n",
    "| 테스트 데이터 | 10,000장              |\n",
    "| 채널      | 1 (흑백)               |\n"
   ]
  },
  {
   "cell_type": "markdown",
   "metadata": {
    "id": "hY9cj3qda0tW"
   },
   "source": [
    "## **2. 모델 아키텍처**"
   ]
  },
  {
   "cell_type": "markdown",
   "metadata": {
    "id": "rSEWdCIVaz4Q"
   },
   "source": [
    "- 1번 레이어 : 합성곱층(Convolutional layer)\n",
    "```\n",
    "합성곱(in_channel = 1, out_channel = 32, kernel_size=3, stride=1, padding=1) + 활성화 함수 ReLU\n",
    "맥스풀링(kernel_size=2, stride=2))\n",
    "```\n",
    "- 2번 레이어 : 합성곱층(Convolutional layer)\n",
    "```\n",
    "합성곱(in_channel = 32, out_channel = 64, kernel_size=3, stride=1, padding=1) + 활성화 함수 ReLU\n",
    "맥스풀링(kernel_size=2, stride=2))\n",
    "```\n",
    "- 3번 레이어 : 전결합층(Fully-Connected layer)\n",
    "```\n",
    "특성맵을 펼친다. # batch_size × 7 × 7 × 64 → batch_size × 3136\n",
    "전결합층(뉴런 10개) + 활성화 함수 Softmax\n",
    "```"
   ]
  },
  {
   "cell_type": "markdown",
   "metadata": {
    "id": "yxoxh0UlaGnR"
   },
   "source": [
    "## **3. MNIST 분류 모델 구현하기**"
   ]
  },
  {
   "cell_type": "markdown",
   "metadata": {
    "id": "d9koN89gZgyv"
   },
   "source": [
    "### **기본 세팅 설정**"
   ]
  },
  {
   "cell_type": "code",
   "execution_count": 3,
   "metadata": {
    "id": "4wREGSmTZK2L"
   },
   "outputs": [
    {
     "ename": "ModuleNotFoundError",
     "evalue": "No module named 'torch'",
     "output_type": "error",
     "traceback": [
      "\u001b[1;31m---------------------------------------------------------------------------\u001b[0m",
      "\u001b[1;31mModuleNotFoundError\u001b[0m                       Traceback (most recent call last)",
      "Cell \u001b[1;32mIn[3], line 1\u001b[0m\n\u001b[1;32m----> 1\u001b[0m \u001b[38;5;28;01mimport\u001b[39;00m \u001b[38;5;21;01mtorch\u001b[39;00m\n\u001b[0;32m      2\u001b[0m \u001b[38;5;28;01mimport\u001b[39;00m \u001b[38;5;21;01mtorchvision\u001b[39;00m\u001b[38;5;21;01m.\u001b[39;00m\u001b[38;5;21;01mdatasets\u001b[39;00m \u001b[38;5;28;01mas\u001b[39;00m \u001b[38;5;21;01mdsets\u001b[39;00m\n\u001b[0;32m      3\u001b[0m \u001b[38;5;28;01mimport\u001b[39;00m \u001b[38;5;21;01mtorchvision\u001b[39;00m\u001b[38;5;21;01m.\u001b[39;00m\u001b[38;5;21;01mtransforms\u001b[39;00m \u001b[38;5;28;01mas\u001b[39;00m \u001b[38;5;21;01mtransforms\u001b[39;00m\n",
      "\u001b[1;31mModuleNotFoundError\u001b[0m: No module named 'torch'"
     ]
    }
   ],
   "source": [
    "import torch\n",
    "import torchvision.datasets as dsets\n",
    "import torchvision.transforms as transforms\n",
    "import torch.nn.init     # 가중치 초기화"
   ]
  },
  {
   "cell_type": "code",
   "execution_count": 4,
   "metadata": {
    "id": "XVOb-XPsbJev"
   },
   "outputs": [
    {
     "ename": "NameError",
     "evalue": "name 'torch' is not defined",
     "output_type": "error",
     "traceback": [
      "\u001b[1;31m---------------------------------------------------------------------------\u001b[0m",
      "\u001b[1;31mNameError\u001b[0m                                 Traceback (most recent call last)",
      "Cell \u001b[1;32mIn[4], line 2\u001b[0m\n\u001b[0;32m      1\u001b[0m \u001b[38;5;66;03m# CUDA 사용 : GPU를 이용해 연산을 가속할 수 있도록 설계된 기술\u001b[39;00m\n\u001b[1;32m----> 2\u001b[0m device \u001b[38;5;241m=\u001b[39m \u001b[38;5;124m'\u001b[39m\u001b[38;5;124mcuda\u001b[39m\u001b[38;5;124m'\u001b[39m \u001b[38;5;28;01mif\u001b[39;00m torch\u001b[38;5;241m.\u001b[39mcuda\u001b[38;5;241m.\u001b[39mis_available() \u001b[38;5;28;01melse\u001b[39;00m \u001b[38;5;124m'\u001b[39m\u001b[38;5;124mcpu\u001b[39m\u001b[38;5;124m'\u001b[39m\n\u001b[0;32m      4\u001b[0m \u001b[38;5;66;03m# 랜덤 시드 고정\u001b[39;00m\n\u001b[0;32m      5\u001b[0m torch\u001b[38;5;241m.\u001b[39mmanual_seed(\u001b[38;5;241m777\u001b[39m)\n",
      "\u001b[1;31mNameError\u001b[0m: name 'torch' is not defined"
     ]
    }
   ],
   "source": [
    "# CUDA 사용 : GPU를 이용해 연산을 가속할 수 있도록 설계된 기술\n",
    "device = 'cuda' if torch.cuda.is_available() else 'cpu'\n",
    "\n",
    "# 랜덤 시드 고정\n",
    "torch.manual_seed(777)\n",
    "\n",
    "# GPU 사용 가능일 경우 랜덤 시드 고정\n",
    "if device == 'cuda':\n",
    "    torch.cuda.manual_seed_all(777)"
   ]
  },
  {
   "cell_type": "markdown",
   "metadata": {
    "id": "UZ2ZI4QsZjEC"
   },
   "source": [
    "### **학습 준비**"
   ]
  },
  {
   "cell_type": "code",
   "execution_count": 5,
   "metadata": {
    "colab": {
     "base_uri": "https://localhost:8080/"
    },
    "executionInfo": {
     "elapsed": 4292,
     "status": "ok",
     "timestamp": 1747119386607,
     "user": {
      "displayName": "현채",
      "userId": "18309926448023862583"
     },
     "user_tz": -540
    },
    "id": "f8jfcx7cZai0",
    "outputId": "f1f00a17-7f43-4d13-cd22-73a939555120"
   },
   "outputs": [
    {
     "ename": "NameError",
     "evalue": "name 'dsets' is not defined",
     "output_type": "error",
     "traceback": [
      "\u001b[1;31m---------------------------------------------------------------------------\u001b[0m",
      "\u001b[1;31mNameError\u001b[0m                                 Traceback (most recent call last)",
      "Cell \u001b[1;32mIn[5], line 7\u001b[0m\n\u001b[0;32m      4\u001b[0m batch_size \u001b[38;5;241m=\u001b[39m \u001b[38;5;241m100\u001b[39m\n\u001b[0;32m      6\u001b[0m \u001b[38;5;66;03m# 데이터셋 정의\u001b[39;00m\n\u001b[1;32m----> 7\u001b[0m mnist_train \u001b[38;5;241m=\u001b[39m dsets\u001b[38;5;241m.\u001b[39mMNIST(root\u001b[38;5;241m=\u001b[39m\u001b[38;5;124m'\u001b[39m\u001b[38;5;124mMNIST_data/\u001b[39m\u001b[38;5;124m'\u001b[39m, \u001b[38;5;66;03m# 다운로드 경로 지정\u001b[39;00m\n\u001b[0;32m      8\u001b[0m                           train\u001b[38;5;241m=\u001b[39m\u001b[38;5;28;01mTrue\u001b[39;00m, \u001b[38;5;66;03m# True를 지정하면 훈련 데이터로 다운로드\u001b[39;00m\n\u001b[0;32m      9\u001b[0m                           transform\u001b[38;5;241m=\u001b[39mtransforms\u001b[38;5;241m.\u001b[39mToTensor(), \u001b[38;5;66;03m# 텐서로 변환\u001b[39;00m\n\u001b[0;32m     10\u001b[0m                           download\u001b[38;5;241m=\u001b[39m\u001b[38;5;28;01mTrue\u001b[39;00m)\n\u001b[0;32m     12\u001b[0m mnist_test \u001b[38;5;241m=\u001b[39m dsets\u001b[38;5;241m.\u001b[39mMNIST(root\u001b[38;5;241m=\u001b[39m\u001b[38;5;124m'\u001b[39m\u001b[38;5;124mMNIST_data/\u001b[39m\u001b[38;5;124m'\u001b[39m, \u001b[38;5;66;03m# 다운로드 경로 지정\u001b[39;00m\n\u001b[0;32m     13\u001b[0m                          train\u001b[38;5;241m=\u001b[39m\u001b[38;5;28;01mFalse\u001b[39;00m, \u001b[38;5;66;03m# False를 지정하면 테스트 데이터로 다운로드\u001b[39;00m\n\u001b[0;32m     14\u001b[0m \n\u001b[0;32m     15\u001b[0m                          \u001b[38;5;66;03m# ⭐⭐빈칸⭐⭐\u001b[39;00m\n\u001b[0;32m     16\u001b[0m                          transform\u001b[38;5;241m=\u001b[39mtransforms\u001b[38;5;241m.\u001b[39mToTensor(), \u001b[38;5;66;03m# ⭐⭐텐서로 변환하기 위한 메소드를 작성해주세요\u001b[39;00m\n\u001b[0;32m     17\u001b[0m                          download\u001b[38;5;241m=\u001b[39m\u001b[38;5;28;01mTrue\u001b[39;00m)\n\u001b[0;32m     19\u001b[0m \u001b[38;5;66;03m# 데이터로더를 사용하여 배치 크기 지정\u001b[39;00m\n",
      "\u001b[1;31mNameError\u001b[0m: name 'dsets' is not defined"
     ]
    }
   ],
   "source": [
    "# 파라미터 설정\n",
    "learning_rate = 0.001\n",
    "training_epochs = 15\n",
    "batch_size = 100\n",
    "\n",
    "# 데이터셋 정의\n",
    "mnist_train = dsets.MNIST(root='MNIST_data/', # 다운로드 경로 지정\n",
    "                          train=True, # True를 지정하면 훈련 데이터로 다운로드\n",
    "                          transform=transforms.ToTensor(), # 텐서로 변환\n",
    "                          download=True)\n",
    "\n",
    "mnist_test = dsets.MNIST(root='MNIST_data/', # 다운로드 경로 지정\n",
    "                         train=False, # False를 지정하면 테스트 데이터로 다운로드\n",
    "\n",
    "                         # ⭐⭐빈칸⭐⭐\n",
    "                         transform=transforms.ToTensor(), # ⭐⭐텐서로 변환하기 위한 메소드를 작성해주세요\n",
    "                         download=True)\n",
    "\n",
    "# 데이터로더를 사용하여 배치 크기 지정\n",
    "data_loader = torch.utils.data.DataLoader(dataset=mnist_train,\n",
    "                                          batch_size=batch_size,\n",
    "                                          shuffle=True,\n",
    "                                          drop_last=True)"
   ]
  },
  {
   "cell_type": "markdown",
   "metadata": {
    "id": "WZGHxuV_Zn8N"
   },
   "source": [
    "### **클래스로 모델 설계**"
   ]
  },
  {
   "cell_type": "code",
   "execution_count": null,
   "metadata": {
    "id": "b2mm5TNeZm9N"
   },
   "outputs": [],
   "source": [
    "class CNN(torch.nn.Module):\n",
    "\n",
    "    def __init__(self):\n",
    "        super().__init__()\n",
    "        # 첫번째층    배치 크기 × 채널 × 높이(height) × 너비(widht)\n",
    "        # ImagIn shape =(100, 1, 28, 28)\n",
    "        #    Conv     -> (100, 32, 28, 28)\n",
    "        #    Pool     -> (100, 32, 14, 14)\n",
    "        self.layer1 = torch.nn.Sequential(\n",
    "            # ⭐⭐빈칸 - 합성곱 층의 채널의 수⭐⭐\n",
    "            torch.nn.Conv2d(1, 32, kernel_size=3, stride=1, padding=1),\n",
    "            torch.nn.ReLU(),\n",
    "            torch.nn.MaxPool2d(kernel_size=2, stride=2))\n",
    "\n",
    "        # 두번째층\n",
    "        # ImagIn shape =(100, 32, 14, 14)\n",
    "        #    Conv      ->(100, 64, 14, 14)\n",
    "        #    Pool      ->(100, 64, 7, 7)\n",
    "        self.layer2 = torch.nn.Sequential(\n",
    "            # ⭐⭐빈칸 - 입력 이미지의 채널의 수⭐⭐\n",
    "            torch.nn.Conv2d(32, 64, kernel_size=3, stride=1, padding=1),\n",
    "            torch.nn.ReLU(),\n",
    "            torch.nn.MaxPool2d(kernel_size=2, stride=2))\n",
    "\n",
    "        # 전결합층 정의 : 64x7x7 inputs -> 10 outputs\n",
    "        self.fc = torch.nn.Linear(7*7*64, 10, bias=True)\n",
    "\n",
    "        # 전결합층 한정으로 가중치 초기화\n",
    "        torch.nn.init.xavier_uniform_(self.fc.weight)\n",
    "\n",
    "    def forward(self, x):\n",
    "        out = self.layer1(x)\n",
    "        out = self.layer2(out)\n",
    "        out = out.view(out.size(0), -1)   # 전결합층을 위해서 Flatten\n",
    "        out = self.fc(out)\n",
    "        return out"
   ]
  },
  {
   "cell_type": "markdown",
   "metadata": {
    "id": "IY4uGtZ2gPs_"
   },
   "source": [
    "#### **⭐⭐문제⭐⭐**"
   ]
  },
  {
   "cell_type": "markdown",
   "metadata": {
    "id": "gAjyE5EbgTJD"
   },
   "source": [
    "- 첫번째 층에서 합성곱층과 풀링층의 커널 사이즈와 스트라이드 크기를 각각 작성해주세요.\n",
    "  - 합성곱층\n",
    "    - 커널 : 3\n",
    "    - 스트라이드 : 1\n",
    "  - 풀링층\n",
    "    - 커널 : 2\n",
    "    - 스트라이드 : 2"
   ]
  },
  {
   "cell_type": "markdown",
   "metadata": {
    "id": "mqzYC3fvbusl"
   },
   "source": [
    "### **모델/비용함수/옵티마이저 정의**"
   ]
  },
  {
   "cell_type": "code",
   "execution_count": null,
   "metadata": {
    "id": "3YhyPjaWbime"
   },
   "outputs": [],
   "source": [
    "# CNN 모델 정의\n",
    "model = CNN().to(device)\n",
    "\n",
    "# 비용함수 & 옵티마이저\n",
    "criterion = torch.nn.CrossEntropyLoss().to(device)    # 출력값에 활성화함수(소프트맥스) 적용 + 비용 함수\n",
    "optimizer = torch.optim.Adam(model.parameters(), lr=learning_rate)"
   ]
  },
  {
   "cell_type": "markdown",
   "metadata": {
    "id": "21tooYr6bwNQ"
   },
   "source": [
    "### **배치 수 확인**"
   ]
  },
  {
   "cell_type": "code",
   "execution_count": null,
   "metadata": {
    "colab": {
     "base_uri": "https://localhost:8080/"
    },
    "executionInfo": {
     "elapsed": 10,
     "status": "ok",
     "timestamp": 1747119459635,
     "user": {
      "displayName": "현채",
      "userId": "18309926448023862583"
     },
     "user_tz": -540
    },
    "id": "9Er6w_HRbx39",
    "outputId": "347a486f-8beb-4f05-abe6-0fe745f302fb"
   },
   "outputs": [
    {
     "name": "stdout",
     "output_type": "stream",
     "text": [
      "총 배치의 수 : 600\n"
     ]
    }
   ],
   "source": [
    "total_batch = len(data_loader)\n",
    "print(f'총 배치의 수 : {total_batch}')"
   ]
  },
  {
   "cell_type": "markdown",
   "metadata": {
    "id": "8muV0dK7hDbY"
   },
   "source": [
    "# 미니 배치 크기를 100으로 했으므로 결국 훈련 데이터는 총 60,000개란 의미"
   ]
  },
  {
   "cell_type": "markdown",
   "metadata": {
    "id": "4jf7ZUQAb4B6"
   },
   "source": [
    "### **모델 훈련**"
   ]
  },
  {
   "cell_type": "code",
   "execution_count": null,
   "metadata": {
    "colab": {
     "base_uri": "https://localhost:8080/"
    },
    "executionInfo": {
     "elapsed": 107407,
     "status": "ok",
     "timestamp": 1747119591302,
     "user": {
      "displayName": "현채",
      "userId": "18309926448023862583"
     },
     "user_tz": -540
    },
    "id": "4gGHsrTJb0xP",
    "outputId": "8a63ebba-e644-4de1-8e0e-9aff7aa61995"
   },
   "outputs": [
    {
     "name": "stdout",
     "output_type": "stream",
     "text": [
      "[Epoch:    1] cost = 0.225536346\n",
      "[Epoch:    2] cost = 0.0630393252\n",
      "[Epoch:    3] cost = 0.0463228337\n",
      "[Epoch:    4] cost = 0.0375525318\n",
      "[Epoch:    5] cost = 0.0313377567\n",
      "[Epoch:    6] cost = 0.0260521118\n",
      "[Epoch:    7] cost = 0.0216697622\n",
      "[Epoch:    8] cost = 0.018259177\n",
      "[Epoch:    9] cost = 0.0160413105\n",
      "[Epoch:   10] cost = 0.0135012018\n",
      "[Epoch:   11] cost = 0.0101749944\n",
      "[Epoch:   12] cost = 0.0101597598\n",
      "[Epoch:   13] cost = 0.0083907824\n",
      "[Epoch:   14] cost = 0.00647852104\n",
      "[Epoch:   15] cost = 0.00630554045\n"
     ]
    }
   ],
   "source": [
    "for epoch in range(training_epochs):\n",
    "    avg_cost = 0  # 에포크당 평균 비용을 저장하기 위한 변수 초기화\n",
    "\n",
    "    for X, Y in data_loader:  # 미니 배치 단위로 데이터를 꺼내옴. X는 입력 데이터, Y는 레이블\n",
    "        # 이미지 데이터는 이미 (28x28) 크기를 가지므로, 별도의 reshape 필요 없음\n",
    "        # 레이블 Y는 원-핫 인코딩이 아닌 정수형 클래스 레이블임\n",
    "        X = X.to(device)  # 입력 데이터를 연산이 수행될 장치로 이동 (예: GPU)\n",
    "        Y = Y.to(device)  # 레이블을 연산이 수행될 장치로 이동 (예: GPU)\n",
    "\n",
    "        optimizer.zero_grad()  # 옵티마이저의 기울기 초기화\n",
    "        hypothesis = model(X)  # 모델을 통해 예측값(hypothesis)을 계산 (순전파 연산)\n",
    "        cost = criterion(hypothesis, Y)  # 예측값과 실제값 Y 간의 손실(cost) 계산\n",
    "        cost.backward()  # 역전파 연산을 통해 기울기 계산\n",
    "        optimizer.step()  # 옵티마이저를 통해 파라미터 업데이트\n",
    "\n",
    "        avg_cost += cost / total_batch  # 현재 배치의 비용을 전체 배치 수로 나누어 누적\n",
    "\n",
    "    # 에포크가 끝날 때마다 평균 비용 출력\n",
    "    print('[Epoch: {:>4}] cost = {:>.9}'.format(epoch + 1, avg_cost))"
   ]
  },
  {
   "cell_type": "markdown",
   "metadata": {
    "id": "EThhYitwb6r3"
   },
   "source": [
    "### **모델 예측**"
   ]
  },
  {
   "cell_type": "code",
   "execution_count": null,
   "metadata": {
    "colab": {
     "base_uri": "https://localhost:8080/"
    },
    "executionInfo": {
     "elapsed": 169,
     "status": "ok",
     "timestamp": 1747119591483,
     "user": {
      "displayName": "현채",
      "userId": "18309926448023862583"
     },
     "user_tz": -540
    },
    "id": "NnBinKoxb-cr",
    "outputId": "bb7d96a4-99e5-4919-ef22-885bfdbb274d"
   },
   "outputs": [
    {
     "name": "stdout",
     "output_type": "stream",
     "text": [
      "Accuracy: 0.988599956035614\n"
     ]
    },
    {
     "name": "stderr",
     "output_type": "stream",
     "text": [
      "/usr/local/lib/python3.11/dist-packages/torchvision/datasets/mnist.py:81: UserWarning: test_data has been renamed data\n",
      "  warnings.warn(\"test_data has been renamed data\")\n",
      "/usr/local/lib/python3.11/dist-packages/torchvision/datasets/mnist.py:71: UserWarning: test_labels has been renamed targets\n",
      "  warnings.warn(\"test_labels has been renamed targets\")\n"
     ]
    }
   ],
   "source": [
    "# 학습을 진행하지 않을 것이므로 torch.no_grad() 사용\n",
    "with torch.no_grad():\n",
    "    # 테스트 데이터를 모델에 입력하기 위한 준비\n",
    "    X_test = mnist_test.test_data.view(len(mnist_test), 1, 28, 28).float().to(device)  # 테스트 데이터셋의 크기를 맞추고, 연산을 위한 장치로 이동\n",
    "    Y_test = mnist_test.test_labels.to(device)  # 테스트 데이터셋의 레이블을 연산을 위한 장치로 이동\n",
    "\n",
    "    # 모델 예측 수행\n",
    "    prediction = model(X_test)  # 테스트 데이터에 대해 모델이 예측한 결과값\n",
    "\n",
    "    # 예측 결과와 실제 레이블 비교\n",
    "    correct_prediction = torch.argmax(prediction, 1) == Y_test  # 예측된 클래스와 실제 레이블이 일치하는지 확인\n",
    "\n",
    "    # 정확도 계산\n",
    "    accuracy = correct_prediction.float().mean()  # 정확도를 계산하기 위해 일치하는 예측의 평균을 구함\n",
    "    print('Accuracy:', accuracy.item())  # 정확도를 출력"
   ]
  },
  {
   "cell_type": "markdown",
   "metadata": {
    "id": "rg_WVajGiV3O"
   },
   "source": [
    "#### **⭐⭐문제⭐⭐**"
   ]
  },
  {
   "cell_type": "markdown",
   "metadata": {
    "id": "qyOv1jhYiaqB"
   },
   "source": [
    "- 합성곱층이 늘어나면 정확도는 어떻게 될지 간단하게 작성해보세요!\n",
    "  - 정답 : 정확도가 향상되다가 특정 지점부터는 과적합이 발생하여 오히려 감소할 가능성이 있음."
   ]
  }
 ],
 "metadata": {
  "accelerator": "GPU",
  "colab": {
   "authorship_tag": "ABX9TyMttuBb1PKNoJ7LKIWVjepx",
   "gpuType": "T4",
   "provenance": [
    {
     "file_id": "1V0GO4U1UJOXg_8iVc6Jp2dvMhrfpKeuL",
     "timestamp": 1747120234270
    }
   ],
   "toc_visible": true
  },
  "kernelspec": {
   "display_name": "Python 3 (ipykernel)",
   "language": "python",
   "name": "python3"
  },
  "language_info": {
   "codemirror_mode": {
    "name": "ipython",
    "version": 3
   },
   "file_extension": ".py",
   "mimetype": "text/x-python",
   "name": "python",
   "nbconvert_exporter": "python",
   "pygments_lexer": "ipython3",
   "version": "3.12.7"
  }
 },
 "nbformat": 4,
 "nbformat_minor": 4
}
